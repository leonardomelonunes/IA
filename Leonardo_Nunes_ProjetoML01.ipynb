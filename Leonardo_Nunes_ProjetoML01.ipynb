{
  "nbformat": 4,
  "nbformat_minor": 0,
  "metadata": {
    "colab": {
      "name": "Leonardo Nunes ProjetoML01.ipynb",
      "provenance": []
    },
    "kernelspec": {
      "name": "python3",
      "display_name": "Python 3"
    },
    "language_info": {
      "name": "python"
    }
  },
  "cells": [
    {
      "cell_type": "code",
      "metadata": {
        "id": "R3oK7L3HMZek"
      },
      "source": [
        ""
      ],
      "execution_count": null,
      "outputs": []
    },
    {
      "cell_type": "markdown",
      "metadata": {
        "id": "xEw6Nu3jMrUD"
      },
      "source": [
        "conectar google driver \n"
      ]
    },
    {
      "cell_type": "code",
      "metadata": {
        "colab": {
          "base_uri": "https://localhost:8080/"
        },
        "id": "NQZwdB6tMvRZ",
        "outputId": "d6720710-a9f9-4bc3-faca-f24cbe761ba0"
      },
      "source": [
        "from google.colab import drive\n",
        "\n",
        "drive.mount(\"/content/gdrive\")"
      ],
      "execution_count": null,
      "outputs": [
        {
          "output_type": "stream",
          "text": [
            "Drive already mounted at /content/gdrive; to attempt to forcibly remount, call drive.mount(\"/content/gdrive\", force_remount=True).\n"
          ],
          "name": "stdout"
        }
      ]
    },
    {
      "cell_type": "code",
      "metadata": {
        "id": "7sosvvAfNb8X"
      },
      "source": [
        "#Importando modulos\n",
        "\n",
        "import pandas as pd\n",
        "\n"
      ],
      "execution_count": null,
      "outputs": []
    },
    {
      "cell_type": "code",
      "metadata": {
        "id": "yX2ZogkDNvss"
      },
      "source": [
        "#carregando data frame\n",
        "\n",
        "df = pd.read_csv(\"/content/gdrive/My Drive/Colab Notebooks/pima-data.csv\")"
      ],
      "execution_count": null,
      "outputs": []
    },
    {
      "cell_type": "code",
      "metadata": {
        "colab": {
          "base_uri": "https://localhost:8080/",
          "height": 204
        },
        "id": "L4jVptGOOVZb",
        "outputId": "3e952861-5b74-4748-f75d-380a87b4b292"
      },
      "source": [
        "df.head(5)"
      ],
      "execution_count": null,
      "outputs": [
        {
          "output_type": "execute_result",
          "data": {
            "text/html": [
              "<div>\n",
              "<style scoped>\n",
              "    .dataframe tbody tr th:only-of-type {\n",
              "        vertical-align: middle;\n",
              "    }\n",
              "\n",
              "    .dataframe tbody tr th {\n",
              "        vertical-align: top;\n",
              "    }\n",
              "\n",
              "    .dataframe thead th {\n",
              "        text-align: right;\n",
              "    }\n",
              "</style>\n",
              "<table border=\"1\" class=\"dataframe\">\n",
              "  <thead>\n",
              "    <tr style=\"text-align: right;\">\n",
              "      <th></th>\n",
              "      <th>num_preg</th>\n",
              "      <th>glucose_conc</th>\n",
              "      <th>diastolic_bp</th>\n",
              "      <th>thickness</th>\n",
              "      <th>insulin</th>\n",
              "      <th>bmi</th>\n",
              "      <th>diab_pred</th>\n",
              "      <th>age</th>\n",
              "      <th>skin</th>\n",
              "      <th>diabetes</th>\n",
              "    </tr>\n",
              "  </thead>\n",
              "  <tbody>\n",
              "    <tr>\n",
              "      <th>0</th>\n",
              "      <td>6</td>\n",
              "      <td>148</td>\n",
              "      <td>72</td>\n",
              "      <td>35</td>\n",
              "      <td>0</td>\n",
              "      <td>33.6</td>\n",
              "      <td>0.627</td>\n",
              "      <td>50</td>\n",
              "      <td>1.3790</td>\n",
              "      <td>True</td>\n",
              "    </tr>\n",
              "    <tr>\n",
              "      <th>1</th>\n",
              "      <td>1</td>\n",
              "      <td>85</td>\n",
              "      <td>66</td>\n",
              "      <td>29</td>\n",
              "      <td>0</td>\n",
              "      <td>26.6</td>\n",
              "      <td>0.351</td>\n",
              "      <td>31</td>\n",
              "      <td>1.1426</td>\n",
              "      <td>False</td>\n",
              "    </tr>\n",
              "    <tr>\n",
              "      <th>2</th>\n",
              "      <td>8</td>\n",
              "      <td>183</td>\n",
              "      <td>64</td>\n",
              "      <td>0</td>\n",
              "      <td>0</td>\n",
              "      <td>23.3</td>\n",
              "      <td>0.672</td>\n",
              "      <td>32</td>\n",
              "      <td>0.0000</td>\n",
              "      <td>True</td>\n",
              "    </tr>\n",
              "    <tr>\n",
              "      <th>3</th>\n",
              "      <td>1</td>\n",
              "      <td>89</td>\n",
              "      <td>66</td>\n",
              "      <td>23</td>\n",
              "      <td>94</td>\n",
              "      <td>28.1</td>\n",
              "      <td>0.167</td>\n",
              "      <td>21</td>\n",
              "      <td>0.9062</td>\n",
              "      <td>False</td>\n",
              "    </tr>\n",
              "    <tr>\n",
              "      <th>4</th>\n",
              "      <td>0</td>\n",
              "      <td>137</td>\n",
              "      <td>40</td>\n",
              "      <td>35</td>\n",
              "      <td>168</td>\n",
              "      <td>43.1</td>\n",
              "      <td>2.288</td>\n",
              "      <td>33</td>\n",
              "      <td>1.3790</td>\n",
              "      <td>True</td>\n",
              "    </tr>\n",
              "  </tbody>\n",
              "</table>\n",
              "</div>"
            ],
            "text/plain": [
              "   num_preg  glucose_conc  diastolic_bp  ...  age    skin  diabetes\n",
              "0         6           148            72  ...   50  1.3790      True\n",
              "1         1            85            66  ...   31  1.1426     False\n",
              "2         8           183            64  ...   32  0.0000      True\n",
              "3         1            89            66  ...   21  0.9062     False\n",
              "4         0           137            40  ...   33  1.3790      True\n",
              "\n",
              "[5 rows x 10 columns]"
            ]
          },
          "metadata": {},
          "execution_count": 63
        }
      ]
    },
    {
      "cell_type": "code",
      "metadata": {
        "colab": {
          "base_uri": "https://localhost:8080/"
        },
        "id": "JTTLNmLsOxge",
        "outputId": "161d1f96-0196-4ef5-e80b-0bdf5f8e86a8"
      },
      "source": [
        "df.shape"
      ],
      "execution_count": null,
      "outputs": [
        {
          "output_type": "execute_result",
          "data": {
            "text/plain": [
              "(768, 10)"
            ]
          },
          "metadata": {},
          "execution_count": 64
        }
      ]
    },
    {
      "cell_type": "code",
      "metadata": {
        "id": "mzFuonOlP_qL"
      },
      "source": [
        "#Map variable\n",
        "\n",
        "diabetes_map = {True : 1, False : 0}"
      ],
      "execution_count": null,
      "outputs": []
    },
    {
      "cell_type": "code",
      "metadata": {
        "id": "ObL1iGLXRjdV"
      },
      "source": [
        "#Map app\n",
        "\n",
        "df['diabetes'] = df['diabetes'].map(diabetes_map)"
      ],
      "execution_count": null,
      "outputs": []
    },
    {
      "cell_type": "code",
      "metadata": {
        "colab": {
          "base_uri": "https://localhost:8080/",
          "height": 204
        },
        "id": "nR2tEStJRxnz",
        "outputId": "e1db57b6-4fe8-4625-aa07-43485219e614"
      },
      "source": [
        "df.head()"
      ],
      "execution_count": null,
      "outputs": [
        {
          "output_type": "execute_result",
          "data": {
            "text/html": [
              "<div>\n",
              "<style scoped>\n",
              "    .dataframe tbody tr th:only-of-type {\n",
              "        vertical-align: middle;\n",
              "    }\n",
              "\n",
              "    .dataframe tbody tr th {\n",
              "        vertical-align: top;\n",
              "    }\n",
              "\n",
              "    .dataframe thead th {\n",
              "        text-align: right;\n",
              "    }\n",
              "</style>\n",
              "<table border=\"1\" class=\"dataframe\">\n",
              "  <thead>\n",
              "    <tr style=\"text-align: right;\">\n",
              "      <th></th>\n",
              "      <th>num_preg</th>\n",
              "      <th>glucose_conc</th>\n",
              "      <th>diastolic_bp</th>\n",
              "      <th>thickness</th>\n",
              "      <th>insulin</th>\n",
              "      <th>bmi</th>\n",
              "      <th>diab_pred</th>\n",
              "      <th>age</th>\n",
              "      <th>skin</th>\n",
              "      <th>diabetes</th>\n",
              "    </tr>\n",
              "  </thead>\n",
              "  <tbody>\n",
              "    <tr>\n",
              "      <th>0</th>\n",
              "      <td>6</td>\n",
              "      <td>148</td>\n",
              "      <td>72</td>\n",
              "      <td>35</td>\n",
              "      <td>0</td>\n",
              "      <td>33.6</td>\n",
              "      <td>0.627</td>\n",
              "      <td>50</td>\n",
              "      <td>1.3790</td>\n",
              "      <td>1</td>\n",
              "    </tr>\n",
              "    <tr>\n",
              "      <th>1</th>\n",
              "      <td>1</td>\n",
              "      <td>85</td>\n",
              "      <td>66</td>\n",
              "      <td>29</td>\n",
              "      <td>0</td>\n",
              "      <td>26.6</td>\n",
              "      <td>0.351</td>\n",
              "      <td>31</td>\n",
              "      <td>1.1426</td>\n",
              "      <td>0</td>\n",
              "    </tr>\n",
              "    <tr>\n",
              "      <th>2</th>\n",
              "      <td>8</td>\n",
              "      <td>183</td>\n",
              "      <td>64</td>\n",
              "      <td>0</td>\n",
              "      <td>0</td>\n",
              "      <td>23.3</td>\n",
              "      <td>0.672</td>\n",
              "      <td>32</td>\n",
              "      <td>0.0000</td>\n",
              "      <td>1</td>\n",
              "    </tr>\n",
              "    <tr>\n",
              "      <th>3</th>\n",
              "      <td>1</td>\n",
              "      <td>89</td>\n",
              "      <td>66</td>\n",
              "      <td>23</td>\n",
              "      <td>94</td>\n",
              "      <td>28.1</td>\n",
              "      <td>0.167</td>\n",
              "      <td>21</td>\n",
              "      <td>0.9062</td>\n",
              "      <td>0</td>\n",
              "    </tr>\n",
              "    <tr>\n",
              "      <th>4</th>\n",
              "      <td>0</td>\n",
              "      <td>137</td>\n",
              "      <td>40</td>\n",
              "      <td>35</td>\n",
              "      <td>168</td>\n",
              "      <td>43.1</td>\n",
              "      <td>2.288</td>\n",
              "      <td>33</td>\n",
              "      <td>1.3790</td>\n",
              "      <td>1</td>\n",
              "    </tr>\n",
              "  </tbody>\n",
              "</table>\n",
              "</div>"
            ],
            "text/plain": [
              "   num_preg  glucose_conc  diastolic_bp  ...  age    skin  diabetes\n",
              "0         6           148            72  ...   50  1.3790         1\n",
              "1         1            85            66  ...   31  1.1426         0\n",
              "2         8           183            64  ...   32  0.0000         1\n",
              "3         1            89            66  ...   21  0.9062         0\n",
              "4         0           137            40  ...   33  1.3790         1\n",
              "\n",
              "[5 rows x 10 columns]"
            ]
          },
          "metadata": {},
          "execution_count": 67
        }
      ]
    },
    {
      "cell_type": "code",
      "metadata": {
        "colab": {
          "base_uri": "https://localhost:8080/"
        },
        "id": "bqk94oasRzzD",
        "outputId": "1b2fe302-5ae8-45c1-fc84-7c92644f39bf"
      },
      "source": [
        "#conferir dados\n",
        "\n",
        "num_true = len(df.loc[df['diabetes'] == True])\n",
        "num_false = len(df.loc[df['diabetes'] == False])\n",
        "\n",
        "print(\"Numeros de casos verdadeiros: {0} ({1:2.2f}%) \" .format(num_true, (num_true/ (num_true + num_false) * 100)))\n",
        "print(\"Numeros de casos falsos: {0} ({1:2.2f}%) \" .format(num_false, (num_false/ (num_true + num_false) * 100)))\n",
        "\n"
      ],
      "execution_count": null,
      "outputs": [
        {
          "output_type": "stream",
          "text": [
            "Numeros de casos verdadeiros: 268 (34.90%) \n",
            "Numeros de casos falsos: 500 (65.10%) \n"
          ],
          "name": "stdout"
        }
      ]
    },
    {
      "cell_type": "code",
      "metadata": {
        "id": "90O_KBNsTdlr"
      },
      "source": [
        "#Spliting process\n",
        "\n",
        "## 70 para treino e 30 para teste"
      ],
      "execution_count": null,
      "outputs": []
    },
    {
      "cell_type": "code",
      "metadata": {
        "id": "aWATkZUwWjzk"
      },
      "source": [
        "#Scikit Learn\n",
        "\n",
        "from sklearn.model_selection import train_test_split  \n"
      ],
      "execution_count": null,
      "outputs": []
    },
    {
      "cell_type": "code",
      "metadata": {
        "id": "vmxJSiKMXEGi"
      },
      "source": [
        "#Selecionar quais as variavies preditoras ()\n",
        "\n",
        "atributos = ['num_preg',\t'glucose_conc',\t'diastolic_bp',\t'thickness',\t'insulin',\t'bmi',\t'diab_pred',\t'age']"
      ],
      "execution_count": null,
      "outputs": []
    },
    {
      "cell_type": "code",
      "metadata": {
        "id": "ra5QMSzmYvS9"
      },
      "source": [
        "#Selecionar variabel prevista (Y)\n",
        "\n",
        "atrib_prev = ['diabetes']"
      ],
      "execution_count": null,
      "outputs": []
    },
    {
      "cell_type": "code",
      "metadata": {
        "id": "PktzExWmY3xr"
      },
      "source": [
        "# criar x e y\n",
        "\n",
        "X = df[atributos].values\n",
        "Y = df[atrib_prev].values"
      ],
      "execution_count": null,
      "outputs": []
    },
    {
      "cell_type": "code",
      "metadata": {
        "colab": {
          "base_uri": "https://localhost:8080/"
        },
        "id": "j2yU-m0QZLnL",
        "outputId": "d2fded22-a720-405d-d4eb-87dbddd239a8"
      },
      "source": [
        "X"
      ],
      "execution_count": null,
      "outputs": [
        {
          "output_type": "execute_result",
          "data": {
            "text/plain": [
              "array([[  6.   , 148.   ,  72.   , ...,  33.6  ,   0.627,  50.   ],\n",
              "       [  1.   ,  85.   ,  66.   , ...,  26.6  ,   0.351,  31.   ],\n",
              "       [  8.   , 183.   ,  64.   , ...,  23.3  ,   0.672,  32.   ],\n",
              "       ...,\n",
              "       [  5.   , 121.   ,  72.   , ...,  26.2  ,   0.245,  30.   ],\n",
              "       [  1.   , 126.   ,  60.   , ...,  30.1  ,   0.349,  47.   ],\n",
              "       [  1.   ,  93.   ,  70.   , ...,  30.4  ,   0.315,  23.   ]])"
            ]
          },
          "metadata": {},
          "execution_count": 74
        }
      ]
    },
    {
      "cell_type": "code",
      "metadata": {
        "id": "GMlRWs_SZMvq"
      },
      "source": [
        "# Def taxa de spliting\n",
        "\n",
        "split_test_size = 0.30"
      ],
      "execution_count": null,
      "outputs": []
    },
    {
      "cell_type": "code",
      "metadata": {
        "id": "SqTDxGXCZiAJ"
      },
      "source": [
        "# criar dados de treino e teste\n",
        "\n",
        "X_treino, X_teste, Y_treino, Y_teste = train_test_split(X, Y, test_size = split_test_size, random_state = 42)"
      ],
      "execution_count": null,
      "outputs": []
    },
    {
      "cell_type": "code",
      "metadata": {
        "colab": {
          "base_uri": "https://localhost:8080/"
        },
        "id": "CYLoXLqWas8C",
        "outputId": "965b6941-7577-4320-84c2-68a212e63375"
      },
      "source": [
        "print(\"{0:0.2f}% nos dados de treino\".format((len(X_treino)/len(df.index))*100))\n",
        "print(\"{0:0.2f}% nos dados de teste\".format((len(X_teste)/len(df.index))*100))"
      ],
      "execution_count": null,
      "outputs": [
        {
          "output_type": "stream",
          "text": [
            "69.92% nos dados de treino\n",
            "30.08% nos dados de teste\n"
          ],
          "name": "stdout"
        }
      ]
    },
    {
      "cell_type": "code",
      "metadata": {
        "colab": {
          "base_uri": "https://localhost:8080/"
        },
        "id": "6my-kA2bbIVE",
        "outputId": "eed8e589-a931-4986-cf79-a688da451ca5"
      },
      "source": [
        "#valores nulos\n",
        "\n",
        "df.isnull().values.any()"
      ],
      "execution_count": null,
      "outputs": [
        {
          "output_type": "execute_result",
          "data": {
            "text/plain": [
              "False"
            ]
          },
          "metadata": {},
          "execution_count": 78
        }
      ]
    },
    {
      "cell_type": "code",
      "metadata": {
        "colab": {
          "base_uri": "https://localhost:8080/"
        },
        "id": "nW3bX9LEbmpi",
        "outputId": "1ea7410d-71d7-4b98-bfff-328201b436ff"
      },
      "source": [
        "#Falsos Nulos = 0 \n",
        "print(len(df.loc[df['glucose_conc'] == 0])) "
      ],
      "execution_count": null,
      "outputs": [
        {
          "output_type": "stream",
          "text": [
            "5\n"
          ],
          "name": "stdout"
        }
      ]
    },
    {
      "cell_type": "code",
      "metadata": {
        "id": "bgrta2q1cDLB"
      },
      "source": [
        "#tratando dados missing\n",
        "\n",
        "from sklearn.impute import SimpleImputer\n",
        "\n",
        "#Imputer: Substitui valores 0 por algum dado (mean, Max, Value)\n",
        "\n",
        "preenche_0 = SimpleImputer(missing_values=0, strategy='mean')\n",
        "\n",
        "X_treino = preenche_0.fit_transform(X_treino)\n",
        "X_teste = preenche_0.fit_transform(X_teste)\n",
        "\n"
      ],
      "execution_count": null,
      "outputs": []
    },
    {
      "cell_type": "code",
      "metadata": {
        "id": "1zZFlWhDdhM3"
      },
      "source": [
        "#Cons e Treinando modelo\n",
        "\n",
        "from sklearn.naive_bayes import GaussianNB  \n"
      ],
      "execution_count": null,
      "outputs": []
    },
    {
      "cell_type": "code",
      "metadata": {
        "id": "ouW8a712g4AL"
      },
      "source": [
        "#criando instancia \n",
        "modelo_v1 = GaussianNB()"
      ],
      "execution_count": null,
      "outputs": []
    },
    {
      "cell_type": "code",
      "metadata": {
        "colab": {
          "base_uri": "https://localhost:8080/"
        },
        "id": "WAf1qtMshRcv",
        "outputId": "cb78c161-640d-45cb-c4a6-c73ea897050c"
      },
      "source": [
        "modelo_v1.fit(X_treino, Y_treino.ravel())"
      ],
      "execution_count": null,
      "outputs": [
        {
          "output_type": "execute_result",
          "data": {
            "text/plain": [
              "GaussianNB(priors=None, var_smoothing=1e-09)"
            ]
          },
          "metadata": {},
          "execution_count": 83
        }
      ]
    },
    {
      "cell_type": "code",
      "metadata": {
        "id": "_rrqse3AhYjf"
      },
      "source": [
        "#Virfy Exatidao treino (Acuracia)\n",
        "\n",
        "#Pct metricas\n",
        "from sklearn import metrics\n",
        "\n"
      ],
      "execution_count": null,
      "outputs": []
    },
    {
      "cell_type": "code",
      "metadata": {
        "id": "R5QoCx9bh0wt"
      },
      "source": [
        "#Previsão modelo base gerado\n",
        "\n",
        "nb_predict_train = modelo_v1.predict(X_treino)"
      ],
      "execution_count": null,
      "outputs": []
    },
    {
      "cell_type": "code",
      "metadata": {
        "colab": {
          "base_uri": "https://localhost:8080/"
        },
        "id": "PS2kfMHAiQcb",
        "outputId": "d7441147-4039-4828-a3a5-e7247b483da7"
      },
      "source": [
        "print(\"Exatidão (acuracia):  {0:.4f})\".format(metrics.accuracy_score(Y_treino, nb_predict_train)))"
      ],
      "execution_count": null,
      "outputs": [
        {
          "output_type": "stream",
          "text": [
            "Exatidão (acuracia):  0.7542)\n"
          ],
          "name": "stdout"
        }
      ]
    },
    {
      "cell_type": "code",
      "metadata": {
        "id": "nGXpVDPQinEb"
      },
      "source": [
        "nb_predict_test = modelo_v1.predict(X_teste)"
      ],
      "execution_count": null,
      "outputs": []
    },
    {
      "cell_type": "code",
      "metadata": {
        "colab": {
          "base_uri": "https://localhost:8080/"
        },
        "id": "jKEwT7JcjDIZ",
        "outputId": "c356e5ac-18b6-48ef-e81d-ebaf0ce8b988"
      },
      "source": [
        "print(\"Exatidão (acuracia):  {0:.4f})\".format(metrics.accuracy_score(Y_teste, nb_predict_test)))"
      ],
      "execution_count": null,
      "outputs": [
        {
          "output_type": "stream",
          "text": [
            "Exatidão (acuracia):  0.7359)\n"
          ],
          "name": "stdout"
        }
      ]
    },
    {
      "cell_type": "code",
      "metadata": {
        "id": "JuUzBpaNjiU2"
      },
      "source": [
        "#Utilizando Random Forest\n",
        "\n",
        "from sklearn.ensemble import RandomForestClassifier"
      ],
      "execution_count": null,
      "outputs": []
    },
    {
      "cell_type": "code",
      "metadata": {
        "colab": {
          "base_uri": "https://localhost:8080/"
        },
        "id": "nBgYkL7oj3Nn",
        "outputId": "f2fccbd2-64ce-44b3-eb35-c4af791108d8"
      },
      "source": [
        "modelo_v2 = RandomForestClassifier(random_state=42)\n",
        "modelo_v2.fit(X_treino, Y_treino.ravel())"
      ],
      "execution_count": null,
      "outputs": [
        {
          "output_type": "execute_result",
          "data": {
            "text/plain": [
              "RandomForestClassifier(bootstrap=True, ccp_alpha=0.0, class_weight=None,\n",
              "                       criterion='gini', max_depth=None, max_features='auto',\n",
              "                       max_leaf_nodes=None, max_samples=None,\n",
              "                       min_impurity_decrease=0.0, min_impurity_split=None,\n",
              "                       min_samples_leaf=1, min_samples_split=2,\n",
              "                       min_weight_fraction_leaf=0.0, n_estimators=100,\n",
              "                       n_jobs=None, oob_score=False, random_state=42, verbose=0,\n",
              "                       warm_start=False)"
            ]
          },
          "metadata": {},
          "execution_count": 90
        }
      ]
    },
    {
      "cell_type": "code",
      "metadata": {
        "colab": {
          "base_uri": "https://localhost:8080/"
        },
        "id": "-A2BVh8XkVnt",
        "outputId": "0fdf8c7c-c990-4e96-eb3d-93ff2478a554"
      },
      "source": [
        "rf_predict_train = modelo_v2.predict(X_treino)\n",
        "print(\"Exatidão (acuracia):  {0:.4f})\".format(metrics.accuracy_score(Y_treino, rf_predict_train)))\n"
      ],
      "execution_count": null,
      "outputs": [
        {
          "output_type": "stream",
          "text": [
            "Exatidão (acuracia):  1.0000)\n"
          ],
          "name": "stdout"
        }
      ]
    },
    {
      "cell_type": "code",
      "metadata": {
        "colab": {
          "base_uri": "https://localhost:8080/"
        },
        "id": "o-miYxSrktwT",
        "outputId": "59b98a53-f4df-4e86-837a-4598ebbc05e4"
      },
      "source": [
        "rf_predict_test = modelo_v2.predict(X_teste)\n",
        "print(\"Exatidão (acuracia):  {0:.4f})\".format(metrics.accuracy_score(Y_teste, rf_predict_test)))\n"
      ],
      "execution_count": null,
      "outputs": [
        {
          "output_type": "stream",
          "text": [
            "Exatidão (acuracia):  0.7403)\n"
          ],
          "name": "stdout"
        }
      ]
    },
    {
      "cell_type": "markdown",
      "metadata": {
        "id": "814N6twzxrr8"
      },
      "source": [
        "## Mais 3 algoritmos para treino\n"
      ]
    },
    {
      "cell_type": "code",
      "metadata": {
        "id": "-VKoI3Cmk3XT",
        "colab": {
          "base_uri": "https://localhost:8080/"
        },
        "outputId": "890b291b-0d19-4f88-e377-400f7cb17609"
      },
      "source": [
        "#Extras :\n",
        "\n",
        "#Usando ComplementNB (CNB)\n",
        "\n",
        "from sklearn.naive_bayes import  ComplementNB\n",
        "\n",
        "modelo_v3 = ComplementNB()\n",
        "\n",
        "modelo_v3.fit(X_treino, Y_treino.ravel())\n",
        "\n",
        "cnb_predict_train = modelo_v3.predict(X_treino)\n",
        "cnb_predict_test = modelo_v3.predict(X_teste)\n",
        "\n",
        "print(\"Exatidão (acuracia):  {0:.4f})\".format(metrics.accuracy_score(Y_treino, cnb_predict_train)))\n",
        "print(\"Exatidão (acuracia):  {0:.4f})\".format(metrics.accuracy_score(Y_teste, cnb_predict_test)))\n",
        "\n"
      ],
      "execution_count": null,
      "outputs": [
        {
          "output_type": "stream",
          "text": [
            "Exatidão (acuracia):  0.6443)\n",
            "Exatidão (acuracia):  0.6234)\n"
          ],
          "name": "stdout"
        }
      ]
    },
    {
      "cell_type": "code",
      "metadata": {
        "colab": {
          "base_uri": "https://localhost:8080/"
        },
        "id": "jod14Ec4UJUF",
        "outputId": "2ac53236-650a-440d-adb5-2c552399f759"
      },
      "source": [
        "# Usando LARS Lasso\n",
        "\n",
        "from sklearn import linear_model\n",
        "\n",
        "modelo_v4 = linear_model.LassoLars()\n",
        "\n",
        "modelo_v4.fit(X_treino, Y_treino.ravel())\n",
        "\n",
        "lm_predict_train = modelo_v3.predict(X_treino)\n",
        "lm_predict_test = modelo_v3.predict(X_teste)\n",
        "\n",
        "print(\"Exatidão (acuracia):  {0:.4f})\".format(metrics.accuracy_score(Y_treino, lm_predict_train)))\n",
        "print(\"Exatidão (acuracia):  {0:.4f})\".format(metrics.accuracy_score(Y_teste, lm_predict_test)))"
      ],
      "execution_count": null,
      "outputs": [
        {
          "output_type": "stream",
          "text": [
            "Exatidão (acuracia):  0.6443)\n",
            "Exatidão (acuracia):  0.6234)\n"
          ],
          "name": "stdout"
        }
      ]
    },
    {
      "cell_type": "code",
      "metadata": {
        "colab": {
          "base_uri": "https://localhost:8080/"
        },
        "id": "XwZP1e3MVjZD",
        "outputId": "b6658933-39db-44f5-fa61-f706831a6968"
      },
      "source": [
        "# Usando SGDClassifier\n",
        "\n",
        "from sklearn.linear_model import SGDClassifier\n",
        "\n",
        "modelo_v5 = linear_model.SGDClassifier()\n",
        "\n",
        "modelo_v5.fit(X_treino, Y_treino.ravel())\n",
        "\n",
        "\n",
        "\n",
        "sgdc_predict_train = modelo_v5.predict(X_treino)\n",
        "sgdc_predict_test = modelo_v5.predict(X_teste)\n",
        "\n",
        "\n",
        "\n",
        "print(\"Exatidão (acuracia):  {0:.4f})\".format(metrics.accuracy_score(Y_treino, sgdc_predict_train)))\n",
        "print(\"Exatidão (acuracia):  {0:.4f})\".format(metrics.accuracy_score(Y_teste, sgdc_predict_test)))\n",
        "\n"
      ],
      "execution_count": null,
      "outputs": [
        {
          "output_type": "stream",
          "text": [
            "Exatidão (acuracia):  0.6592)\n",
            "Exatidão (acuracia):  0.6494)\n"
          ],
          "name": "stdout"
        }
      ]
    },
    {
      "cell_type": "code",
      "metadata": {
        "id": "Ivg9U-PlXY1p"
      },
      "source": [
        ""
      ],
      "execution_count": null,
      "outputs": []
    }
  ]
}