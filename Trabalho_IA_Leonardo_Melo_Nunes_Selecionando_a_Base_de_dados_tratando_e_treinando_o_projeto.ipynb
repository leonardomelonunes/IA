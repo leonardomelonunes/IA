{
  "nbformat": 4,
  "nbformat_minor": 0,
  "metadata": {
    "colab": {
      "name": "Trabalho IA - Leonardo Melo Nunes - Selecionando a Base de dados tratando e treinando o projeto.ipynb",
      "provenance": []
    },
    "kernelspec": {
      "name": "python3",
      "display_name": "Python 3"
    },
    "language_info": {
      "name": "python"
    }
  },
  "cells": [
    {
      "cell_type": "code",
      "metadata": {
        "colab": {
          "base_uri": "https://localhost:8080/"
        },
        "id": "8EM7ykb6M3YM",
        "outputId": "94d46959-d8ea-4980-eff5-7786152ff4a6"
      },
      "source": [
        "#Import Gdrive\n",
        "\n",
        "from google.colab import drive\n",
        "\n",
        "drive.mount(\"/content/gdrive\")"
      ],
      "execution_count": 1,
      "outputs": [
        {
          "output_type": "stream",
          "name": "stdout",
          "text": [
            "Mounted at /content/gdrive\n"
          ]
        }
      ]
    },
    {
      "cell_type": "code",
      "metadata": {
        "id": "D8aN_50aN5n4"
      },
      "source": [
        "#Importando módulos\n",
        "import pandas as pd"
      ],
      "execution_count": 2,
      "outputs": []
    },
    {
      "cell_type": "code",
      "metadata": {
        "id": "aAt0z6auOCMW"
      },
      "source": [
        "#Carregando o DataSet Especificando Separador \",\"   DF = Lista de qualidade de vinhos\n",
        "\n",
        "df = pd.read_csv(\"/content/gdrive/My Drive/Colab Notebooks/winequality.csv\", sep=',')"
      ],
      "execution_count": 3,
      "outputs": []
    },
    {
      "cell_type": "code",
      "metadata": {
        "colab": {
          "base_uri": "https://localhost:8080/",
          "height": 363
        },
        "id": "MIJC3WtDOIHF",
        "outputId": "92f8d05a-1903-4623-c1fb-a6825ea5120f"
      },
      "source": [
        "df.head(10)"
      ],
      "execution_count": 4,
      "outputs": [
        {
          "output_type": "execute_result",
          "data": {
            "text/html": [
              "<div>\n",
              "<style scoped>\n",
              "    .dataframe tbody tr th:only-of-type {\n",
              "        vertical-align: middle;\n",
              "    }\n",
              "\n",
              "    .dataframe tbody tr th {\n",
              "        vertical-align: top;\n",
              "    }\n",
              "\n",
              "    .dataframe thead th {\n",
              "        text-align: right;\n",
              "    }\n",
              "</style>\n",
              "<table border=\"1\" class=\"dataframe\">\n",
              "  <thead>\n",
              "    <tr style=\"text-align: right;\">\n",
              "      <th></th>\n",
              "      <th>fixed acidity</th>\n",
              "      <th>volatile acidity</th>\n",
              "      <th>citric acid</th>\n",
              "      <th>residual sugar</th>\n",
              "      <th>chlorides</th>\n",
              "      <th>free sulfur dioxide</th>\n",
              "      <th>total sulfur dioxide</th>\n",
              "      <th>density</th>\n",
              "      <th>pH</th>\n",
              "      <th>sulphates</th>\n",
              "      <th>alcohol</th>\n",
              "      <th>quality</th>\n",
              "    </tr>\n",
              "  </thead>\n",
              "  <tbody>\n",
              "    <tr>\n",
              "      <th>0</th>\n",
              "      <td>7.4</td>\n",
              "      <td>0.70</td>\n",
              "      <td>0.00</td>\n",
              "      <td>1.9</td>\n",
              "      <td>0.076</td>\n",
              "      <td>11.0</td>\n",
              "      <td>34.0</td>\n",
              "      <td>0.9978</td>\n",
              "      <td>3.51</td>\n",
              "      <td>0.56</td>\n",
              "      <td>9.4</td>\n",
              "      <td>5</td>\n",
              "    </tr>\n",
              "    <tr>\n",
              "      <th>1</th>\n",
              "      <td>7.8</td>\n",
              "      <td>0.88</td>\n",
              "      <td>0.00</td>\n",
              "      <td>2.6</td>\n",
              "      <td>0.098</td>\n",
              "      <td>25.0</td>\n",
              "      <td>67.0</td>\n",
              "      <td>0.9968</td>\n",
              "      <td>3.20</td>\n",
              "      <td>0.68</td>\n",
              "      <td>9.8</td>\n",
              "      <td>5</td>\n",
              "    </tr>\n",
              "    <tr>\n",
              "      <th>2</th>\n",
              "      <td>7.8</td>\n",
              "      <td>0.76</td>\n",
              "      <td>0.04</td>\n",
              "      <td>2.3</td>\n",
              "      <td>0.092</td>\n",
              "      <td>15.0</td>\n",
              "      <td>54.0</td>\n",
              "      <td>0.9970</td>\n",
              "      <td>3.26</td>\n",
              "      <td>0.65</td>\n",
              "      <td>9.8</td>\n",
              "      <td>5</td>\n",
              "    </tr>\n",
              "    <tr>\n",
              "      <th>3</th>\n",
              "      <td>11.2</td>\n",
              "      <td>0.28</td>\n",
              "      <td>0.56</td>\n",
              "      <td>1.9</td>\n",
              "      <td>0.075</td>\n",
              "      <td>17.0</td>\n",
              "      <td>60.0</td>\n",
              "      <td>0.9980</td>\n",
              "      <td>3.16</td>\n",
              "      <td>0.58</td>\n",
              "      <td>9.8</td>\n",
              "      <td>6</td>\n",
              "    </tr>\n",
              "    <tr>\n",
              "      <th>4</th>\n",
              "      <td>7.4</td>\n",
              "      <td>0.70</td>\n",
              "      <td>0.00</td>\n",
              "      <td>1.9</td>\n",
              "      <td>0.076</td>\n",
              "      <td>11.0</td>\n",
              "      <td>34.0</td>\n",
              "      <td>0.9978</td>\n",
              "      <td>3.51</td>\n",
              "      <td>0.56</td>\n",
              "      <td>9.4</td>\n",
              "      <td>5</td>\n",
              "    </tr>\n",
              "    <tr>\n",
              "      <th>5</th>\n",
              "      <td>7.4</td>\n",
              "      <td>0.66</td>\n",
              "      <td>0.00</td>\n",
              "      <td>1.8</td>\n",
              "      <td>0.075</td>\n",
              "      <td>13.0</td>\n",
              "      <td>40.0</td>\n",
              "      <td>0.9978</td>\n",
              "      <td>3.51</td>\n",
              "      <td>0.56</td>\n",
              "      <td>9.4</td>\n",
              "      <td>5</td>\n",
              "    </tr>\n",
              "    <tr>\n",
              "      <th>6</th>\n",
              "      <td>7.9</td>\n",
              "      <td>0.60</td>\n",
              "      <td>0.06</td>\n",
              "      <td>1.6</td>\n",
              "      <td>0.069</td>\n",
              "      <td>15.0</td>\n",
              "      <td>59.0</td>\n",
              "      <td>0.9964</td>\n",
              "      <td>3.30</td>\n",
              "      <td>0.46</td>\n",
              "      <td>9.4</td>\n",
              "      <td>5</td>\n",
              "    </tr>\n",
              "    <tr>\n",
              "      <th>7</th>\n",
              "      <td>7.3</td>\n",
              "      <td>0.65</td>\n",
              "      <td>0.00</td>\n",
              "      <td>1.2</td>\n",
              "      <td>0.065</td>\n",
              "      <td>15.0</td>\n",
              "      <td>21.0</td>\n",
              "      <td>0.9946</td>\n",
              "      <td>3.39</td>\n",
              "      <td>0.47</td>\n",
              "      <td>10.0</td>\n",
              "      <td>7</td>\n",
              "    </tr>\n",
              "    <tr>\n",
              "      <th>8</th>\n",
              "      <td>7.8</td>\n",
              "      <td>0.58</td>\n",
              "      <td>0.02</td>\n",
              "      <td>2.0</td>\n",
              "      <td>0.073</td>\n",
              "      <td>9.0</td>\n",
              "      <td>18.0</td>\n",
              "      <td>0.9968</td>\n",
              "      <td>3.36</td>\n",
              "      <td>0.57</td>\n",
              "      <td>9.5</td>\n",
              "      <td>7</td>\n",
              "    </tr>\n",
              "    <tr>\n",
              "      <th>9</th>\n",
              "      <td>7.5</td>\n",
              "      <td>0.50</td>\n",
              "      <td>0.36</td>\n",
              "      <td>6.1</td>\n",
              "      <td>0.071</td>\n",
              "      <td>17.0</td>\n",
              "      <td>102.0</td>\n",
              "      <td>0.9978</td>\n",
              "      <td>3.35</td>\n",
              "      <td>0.80</td>\n",
              "      <td>10.5</td>\n",
              "      <td>5</td>\n",
              "    </tr>\n",
              "  </tbody>\n",
              "</table>\n",
              "</div>"
            ],
            "text/plain": [
              "   fixed acidity  volatile acidity  citric acid  ...  sulphates  alcohol  quality\n",
              "0            7.4              0.70         0.00  ...       0.56      9.4        5\n",
              "1            7.8              0.88         0.00  ...       0.68      9.8        5\n",
              "2            7.8              0.76         0.04  ...       0.65      9.8        5\n",
              "3           11.2              0.28         0.56  ...       0.58      9.8        6\n",
              "4            7.4              0.70         0.00  ...       0.56      9.4        5\n",
              "5            7.4              0.66         0.00  ...       0.56      9.4        5\n",
              "6            7.9              0.60         0.06  ...       0.46      9.4        5\n",
              "7            7.3              0.65         0.00  ...       0.47     10.0        7\n",
              "8            7.8              0.58         0.02  ...       0.57      9.5        7\n",
              "9            7.5              0.50         0.36  ...       0.80     10.5        5\n",
              "\n",
              "[10 rows x 12 columns]"
            ]
          },
          "metadata": {},
          "execution_count": 4
        }
      ]
    },
    {
      "cell_type": "code",
      "metadata": {
        "colab": {
          "base_uri": "https://localhost:8080/"
        },
        "id": "-X9nazqsOKdt",
        "outputId": "0540ce75-a9a8-4edf-baa9-284be69f8c07"
      },
      "source": [
        "df.shape"
      ],
      "execution_count": 5,
      "outputs": [
        {
          "output_type": "execute_result",
          "data": {
            "text/plain": [
              "(1599, 12)"
            ]
          },
          "metadata": {},
          "execution_count": 5
        }
      ]
    },
    {
      "cell_type": "code",
      "metadata": {
        "id": "MV4Jol-jOsPd",
        "colab": {
          "base_uri": "https://localhost:8080/"
        },
        "outputId": "b6a2e064-fe53-4593-980d-258eef79b02a"
      },
      "source": [
        "df.info"
      ],
      "execution_count": 6,
      "outputs": [
        {
          "output_type": "execute_result",
          "data": {
            "text/plain": [
              "<bound method DataFrame.info of       fixed acidity  volatile acidity  citric acid  ...  sulphates  alcohol  quality\n",
              "0               7.4             0.700         0.00  ...       0.56      9.4        5\n",
              "1               7.8             0.880         0.00  ...       0.68      9.8        5\n",
              "2               7.8             0.760         0.04  ...       0.65      9.8        5\n",
              "3              11.2             0.280         0.56  ...       0.58      9.8        6\n",
              "4               7.4             0.700         0.00  ...       0.56      9.4        5\n",
              "...             ...               ...          ...  ...        ...      ...      ...\n",
              "1594            6.2             0.600         0.08  ...       0.58     10.5        5\n",
              "1595            5.9             0.550         0.10  ...       0.76     11.2        6\n",
              "1596            6.3             0.510         0.13  ...       0.75     11.0        6\n",
              "1597            5.9             0.645         0.12  ...       0.71     10.2        5\n",
              "1598            6.0             0.310         0.47  ...       0.66     11.0        6\n",
              "\n",
              "[1599 rows x 12 columns]>"
            ]
          },
          "metadata": {},
          "execution_count": 6
        }
      ]
    },
    {
      "cell_type": "markdown",
      "metadata": {
        "id": "twVdaTBswy6G"
      },
      "source": [
        "Spliting\n",
        "70% para treino e 30% teste\n"
      ]
    },
    {
      "cell_type": "code",
      "metadata": {
        "id": "dq8CtdYQw-0Y"
      },
      "source": [
        "from sklearn.model_selection import train_test_split"
      ],
      "execution_count": 7,
      "outputs": []
    },
    {
      "cell_type": "code",
      "metadata": {
        "id": "bTdOE-95xZV-"
      },
      "source": [
        "# Atributos de  X = Entrada\n",
        "atributos = ['fixed acidity', 'volatile acidity', 'citric acid', 'residual sugar',  'chlorides', 'free sulfur dioxide', 'total sulfur dioxide', 'density', 'pH', 'sulphates', 'alcohol']"
      ],
      "execution_count": 8,
      "outputs": []
    },
    {
      "cell_type": "code",
      "metadata": {
        "colab": {
          "base_uri": "https://localhost:8080/"
        },
        "id": "o5vmu-r3xwuW",
        "outputId": "65e73320-7aea-46ad-8e4d-555bcca3fb76"
      },
      "source": [
        "atributos"
      ],
      "execution_count": 9,
      "outputs": [
        {
          "output_type": "execute_result",
          "data": {
            "text/plain": [
              "['fixed acidity',\n",
              " 'volatile acidity',\n",
              " 'citric acid',\n",
              " 'residual sugar',\n",
              " 'chlorides',\n",
              " 'free sulfur dioxide',\n",
              " 'total sulfur dioxide',\n",
              " 'density',\n",
              " 'pH',\n",
              " 'sulphates',\n",
              " 'alcohol']"
            ]
          },
          "metadata": {},
          "execution_count": 9
        }
      ]
    },
    {
      "cell_type": "code",
      "metadata": {
        "colab": {
          "base_uri": "https://localhost:8080/"
        },
        "id": "AEvP70pFxyOz",
        "outputId": "a234bca1-91b1-4aa9-f82d-41d93ded953e"
      },
      "source": [
        "# Atributo Y = Saida\n",
        "atrib_prev = ['quality']\n",
        "\n",
        "atrib_prev\n",
        "\n"
      ],
      "execution_count": 10,
      "outputs": [
        {
          "output_type": "execute_result",
          "data": {
            "text/plain": [
              "['quality']"
            ]
          },
          "metadata": {},
          "execution_count": 10
        }
      ]
    },
    {
      "cell_type": "code",
      "metadata": {
        "id": "rHNE11aXyJK8"
      },
      "source": [
        "#Criar objetos X e Y\n",
        "X = df[atributos].values\n",
        "Y = df[atrib_prev].values"
      ],
      "execution_count": 11,
      "outputs": []
    },
    {
      "cell_type": "code",
      "metadata": {
        "colab": {
          "base_uri": "https://localhost:8080/"
        },
        "id": "lETg2kVxyPhU",
        "outputId": "5d4ec3dc-4f2a-47e9-c331-5cd81423d4fa"
      },
      "source": [
        "X\n",
        "\n"
      ],
      "execution_count": 12,
      "outputs": [
        {
          "output_type": "execute_result",
          "data": {
            "text/plain": [
              "array([[ 7.4  ,  0.7  ,  0.   , ...,  3.51 ,  0.56 ,  9.4  ],\n",
              "       [ 7.8  ,  0.88 ,  0.   , ...,  3.2  ,  0.68 ,  9.8  ],\n",
              "       [ 7.8  ,  0.76 ,  0.04 , ...,  3.26 ,  0.65 ,  9.8  ],\n",
              "       ...,\n",
              "       [ 6.3  ,  0.51 ,  0.13 , ...,  3.42 ,  0.75 , 11.   ],\n",
              "       [ 5.9  ,  0.645,  0.12 , ...,  3.57 ,  0.71 , 10.2  ],\n",
              "       [ 6.   ,  0.31 ,  0.47 , ...,  3.39 ,  0.66 , 11.   ]])"
            ]
          },
          "metadata": {},
          "execution_count": 12
        }
      ]
    },
    {
      "cell_type": "code",
      "metadata": {
        "colab": {
          "base_uri": "https://localhost:8080/"
        },
        "id": "AG1Drt4yyZrM",
        "outputId": "895ce4cb-00d2-4d25-85e4-8eb4efb8069d"
      },
      "source": [
        "Y"
      ],
      "execution_count": 13,
      "outputs": [
        {
          "output_type": "execute_result",
          "data": {
            "text/plain": [
              "array([[5],\n",
              "       [5],\n",
              "       [5],\n",
              "       ...,\n",
              "       [6],\n",
              "       [5],\n",
              "       [6]])"
            ]
          },
          "metadata": {},
          "execution_count": 13
        }
      ]
    },
    {
      "cell_type": "code",
      "metadata": {
        "id": "J08IxYyNyaYb"
      },
      "source": [
        "#Def taxa split em 30%\n",
        "split_test_size = 0.30"
      ],
      "execution_count": 14,
      "outputs": []
    },
    {
      "cell_type": "code",
      "metadata": {
        "id": "eEfMiAKNylqt"
      },
      "source": [
        "#Criar os dados de treino e teste\n",
        "X_treino, X_teste, Y_treino, Y_teste = train_test_split(X, Y, test_size = split_test_size, random_state = 42)"
      ],
      "execution_count": 15,
      "outputs": []
    },
    {
      "cell_type": "code",
      "metadata": {
        "colab": {
          "base_uri": "https://localhost:8080/"
        },
        "id": "8gA8aQHn-s-a",
        "outputId": "39fb4646-7920-4b66-b013-47a1b2d82f17"
      },
      "source": [
        "X_treino"
      ],
      "execution_count": 16,
      "outputs": [
        {
          "output_type": "execute_result",
          "data": {
            "text/plain": [
              "array([[ 8.6 ,  0.22,  0.36, ...,  3.47,  0.87, 11.  ],\n",
              "       [12.5 ,  0.46,  0.63, ...,  2.99,  0.87, 10.2 ],\n",
              "       [ 7.2 ,  0.54,  0.27, ...,  3.39,  0.71, 11.  ],\n",
              "       ...,\n",
              "       [ 7.2 ,  0.62,  0.06, ...,  3.51,  0.54,  9.5 ],\n",
              "       [ 7.9 ,  0.2 ,  0.35, ...,  3.32,  0.8 , 11.9 ],\n",
              "       [ 5.8 ,  0.29,  0.26, ...,  3.39,  0.54, 13.5 ]])"
            ]
          },
          "metadata": {},
          "execution_count": 16
        }
      ]
    },
    {
      "cell_type": "code",
      "metadata": {
        "colab": {
          "base_uri": "https://localhost:8080/"
        },
        "id": "TGbR_MTR-yHS",
        "outputId": "cfd9dc25-08d4-400d-8829-eeaf6b522d5f"
      },
      "source": [
        "X_teste"
      ],
      "execution_count": 17,
      "outputs": [
        {
          "output_type": "execute_result",
          "data": {
            "text/plain": [
              "array([[ 7.7 ,  0.56,  0.08, ...,  3.24,  0.66,  9.6 ],\n",
              "       [ 7.8 ,  0.5 ,  0.17, ...,  3.39,  0.48,  9.5 ],\n",
              "       [10.7 ,  0.67,  0.22, ...,  3.28,  0.98,  9.9 ],\n",
              "       ...,\n",
              "       [ 6.7 ,  0.46,  0.24, ...,  3.39,  0.6 , 10.6 ],\n",
              "       [10.5 ,  0.51,  0.64, ...,  3.09,  0.66, 11.8 ],\n",
              "       [ 9.9 ,  0.5 ,  0.24, ...,  3.34,  0.52, 10.  ]])"
            ]
          },
          "metadata": {},
          "execution_count": 17
        }
      ]
    },
    {
      "cell_type": "code",
      "metadata": {
        "colab": {
          "base_uri": "https://localhost:8080/"
        },
        "id": "-KnOQsRF_LXi",
        "outputId": "6fba92fa-94a6-4f92-fa4b-3eb2b86b4177"
      },
      "source": [
        "Y_treino"
      ],
      "execution_count": 18,
      "outputs": [
        {
          "output_type": "execute_result",
          "data": {
            "text/plain": [
              "array([[7],\n",
              "       [5],\n",
              "       [5],\n",
              "       ...,\n",
              "       [5],\n",
              "       [7],\n",
              "       [6]])"
            ]
          },
          "metadata": {},
          "execution_count": 18
        }
      ]
    },
    {
      "cell_type": "code",
      "metadata": {
        "colab": {
          "base_uri": "https://localhost:8080/"
        },
        "id": "yNNnkb7i_OML",
        "outputId": "06ed32d3-a4bf-4599-969e-d10ca1930294"
      },
      "source": [
        "Y_teste"
      ],
      "execution_count": 19,
      "outputs": [
        {
          "output_type": "execute_result",
          "data": {
            "text/plain": [
              "array([[6],\n",
              "       [5],\n",
              "       [6],\n",
              "       [5],\n",
              "       [6],\n",
              "       [5],\n",
              "       [5],\n",
              "       [5],\n",
              "       [5],\n",
              "       [6],\n",
              "       [7],\n",
              "       [3],\n",
              "       [5],\n",
              "       [5],\n",
              "       [6],\n",
              "       [7],\n",
              "       [5],\n",
              "       [7],\n",
              "       [8],\n",
              "       [5],\n",
              "       [5],\n",
              "       [6],\n",
              "       [5],\n",
              "       [6],\n",
              "       [6],\n",
              "       [6],\n",
              "       [7],\n",
              "       [6],\n",
              "       [5],\n",
              "       [6],\n",
              "       [5],\n",
              "       [5],\n",
              "       [6],\n",
              "       [5],\n",
              "       [6],\n",
              "       [5],\n",
              "       [7],\n",
              "       [5],\n",
              "       [4],\n",
              "       [6],\n",
              "       [5],\n",
              "       [5],\n",
              "       [7],\n",
              "       [5],\n",
              "       [5],\n",
              "       [6],\n",
              "       [7],\n",
              "       [6],\n",
              "       [5],\n",
              "       [6],\n",
              "       [5],\n",
              "       [5],\n",
              "       [5],\n",
              "       [7],\n",
              "       [6],\n",
              "       [6],\n",
              "       [6],\n",
              "       [5],\n",
              "       [5],\n",
              "       [5],\n",
              "       [5],\n",
              "       [7],\n",
              "       [5],\n",
              "       [6],\n",
              "       [6],\n",
              "       [5],\n",
              "       [6],\n",
              "       [5],\n",
              "       [6],\n",
              "       [5],\n",
              "       [6],\n",
              "       [4],\n",
              "       [6],\n",
              "       [6],\n",
              "       [6],\n",
              "       [5],\n",
              "       [8],\n",
              "       [5],\n",
              "       [6],\n",
              "       [6],\n",
              "       [5],\n",
              "       [6],\n",
              "       [5],\n",
              "       [6],\n",
              "       [6],\n",
              "       [7],\n",
              "       [5],\n",
              "       [6],\n",
              "       [7],\n",
              "       [4],\n",
              "       [7],\n",
              "       [6],\n",
              "       [5],\n",
              "       [5],\n",
              "       [5],\n",
              "       [6],\n",
              "       [5],\n",
              "       [6],\n",
              "       [5],\n",
              "       [6],\n",
              "       [5],\n",
              "       [5],\n",
              "       [5],\n",
              "       [7],\n",
              "       [6],\n",
              "       [7],\n",
              "       [6],\n",
              "       [5],\n",
              "       [6],\n",
              "       [5],\n",
              "       [8],\n",
              "       [5],\n",
              "       [6],\n",
              "       [5],\n",
              "       [6],\n",
              "       [7],\n",
              "       [6],\n",
              "       [6],\n",
              "       [5],\n",
              "       [6],\n",
              "       [6],\n",
              "       [6],\n",
              "       [6],\n",
              "       [6],\n",
              "       [6],\n",
              "       [6],\n",
              "       [7],\n",
              "       [6],\n",
              "       [5],\n",
              "       [5],\n",
              "       [6],\n",
              "       [5],\n",
              "       [5],\n",
              "       [5],\n",
              "       [6],\n",
              "       [5],\n",
              "       [5],\n",
              "       [5],\n",
              "       [5],\n",
              "       [6],\n",
              "       [7],\n",
              "       [6],\n",
              "       [8],\n",
              "       [5],\n",
              "       [5],\n",
              "       [5],\n",
              "       [6],\n",
              "       [6],\n",
              "       [6],\n",
              "       [5],\n",
              "       [6],\n",
              "       [7],\n",
              "       [6],\n",
              "       [5],\n",
              "       [6],\n",
              "       [5],\n",
              "       [5],\n",
              "       [6],\n",
              "       [6],\n",
              "       [6],\n",
              "       [7],\n",
              "       [5],\n",
              "       [7],\n",
              "       [5],\n",
              "       [5],\n",
              "       [5],\n",
              "       [6],\n",
              "       [6],\n",
              "       [5],\n",
              "       [5],\n",
              "       [6],\n",
              "       [5],\n",
              "       [7],\n",
              "       [6],\n",
              "       [7],\n",
              "       [6],\n",
              "       [6],\n",
              "       [5],\n",
              "       [5],\n",
              "       [6],\n",
              "       [4],\n",
              "       [6],\n",
              "       [5],\n",
              "       [7],\n",
              "       [5],\n",
              "       [5],\n",
              "       [4],\n",
              "       [5],\n",
              "       [7],\n",
              "       [6],\n",
              "       [5],\n",
              "       [6],\n",
              "       [6],\n",
              "       [7],\n",
              "       [6],\n",
              "       [5],\n",
              "       [5],\n",
              "       [6],\n",
              "       [5],\n",
              "       [7],\n",
              "       [5],\n",
              "       [6],\n",
              "       [6],\n",
              "       [5],\n",
              "       [7],\n",
              "       [5],\n",
              "       [5],\n",
              "       [5],\n",
              "       [6],\n",
              "       [7],\n",
              "       [7],\n",
              "       [5],\n",
              "       [5],\n",
              "       [6],\n",
              "       [6],\n",
              "       [7],\n",
              "       [6],\n",
              "       [5],\n",
              "       [6],\n",
              "       [6],\n",
              "       [6],\n",
              "       [6],\n",
              "       [6],\n",
              "       [7],\n",
              "       [4],\n",
              "       [5],\n",
              "       [5],\n",
              "       [7],\n",
              "       [5],\n",
              "       [5],\n",
              "       [5],\n",
              "       [5],\n",
              "       [6],\n",
              "       [6],\n",
              "       [5],\n",
              "       [7],\n",
              "       [5],\n",
              "       [6],\n",
              "       [6],\n",
              "       [6],\n",
              "       [5],\n",
              "       [4],\n",
              "       [6],\n",
              "       [7],\n",
              "       [6],\n",
              "       [7],\n",
              "       [5],\n",
              "       [6],\n",
              "       [6],\n",
              "       [5],\n",
              "       [5],\n",
              "       [6],\n",
              "       [5],\n",
              "       [6],\n",
              "       [4],\n",
              "       [5],\n",
              "       [6],\n",
              "       [6],\n",
              "       [5],\n",
              "       [6],\n",
              "       [6],\n",
              "       [5],\n",
              "       [5],\n",
              "       [6],\n",
              "       [7],\n",
              "       [7],\n",
              "       [6],\n",
              "       [5],\n",
              "       [6],\n",
              "       [6],\n",
              "       [5],\n",
              "       [6],\n",
              "       [5],\n",
              "       [6],\n",
              "       [5],\n",
              "       [5],\n",
              "       [5],\n",
              "       [6],\n",
              "       [6],\n",
              "       [6],\n",
              "       [7],\n",
              "       [5],\n",
              "       [5],\n",
              "       [6],\n",
              "       [5],\n",
              "       [7],\n",
              "       [5],\n",
              "       [6],\n",
              "       [4],\n",
              "       [6],\n",
              "       [6],\n",
              "       [8],\n",
              "       [6],\n",
              "       [5],\n",
              "       [5],\n",
              "       [6],\n",
              "       [5],\n",
              "       [7],\n",
              "       [6],\n",
              "       [6],\n",
              "       [5],\n",
              "       [5],\n",
              "       [7],\n",
              "       [6],\n",
              "       [6],\n",
              "       [5],\n",
              "       [6],\n",
              "       [6],\n",
              "       [5],\n",
              "       [7],\n",
              "       [6],\n",
              "       [6],\n",
              "       [6],\n",
              "       [6],\n",
              "       [5],\n",
              "       [6],\n",
              "       [5],\n",
              "       [5],\n",
              "       [6],\n",
              "       [4],\n",
              "       [6],\n",
              "       [6],\n",
              "       [6],\n",
              "       [5],\n",
              "       [5],\n",
              "       [5],\n",
              "       [6],\n",
              "       [6],\n",
              "       [6],\n",
              "       [6],\n",
              "       [4],\n",
              "       [7],\n",
              "       [6],\n",
              "       [6],\n",
              "       [6],\n",
              "       [5],\n",
              "       [6],\n",
              "       [7],\n",
              "       [5],\n",
              "       [5],\n",
              "       [6],\n",
              "       [7],\n",
              "       [5],\n",
              "       [5],\n",
              "       [6],\n",
              "       [5],\n",
              "       [6],\n",
              "       [5],\n",
              "       [6],\n",
              "       [5],\n",
              "       [5],\n",
              "       [6],\n",
              "       [5],\n",
              "       [6],\n",
              "       [6],\n",
              "       [6],\n",
              "       [5],\n",
              "       [6],\n",
              "       [4],\n",
              "       [5],\n",
              "       [4],\n",
              "       [5],\n",
              "       [5],\n",
              "       [6],\n",
              "       [5],\n",
              "       [6],\n",
              "       [6],\n",
              "       [5],\n",
              "       [5],\n",
              "       [5],\n",
              "       [5],\n",
              "       [5],\n",
              "       [6],\n",
              "       [5],\n",
              "       [6],\n",
              "       [6],\n",
              "       [6],\n",
              "       [5],\n",
              "       [5],\n",
              "       [6],\n",
              "       [5],\n",
              "       [5],\n",
              "       [6],\n",
              "       [6],\n",
              "       [6],\n",
              "       [7],\n",
              "       [6],\n",
              "       [5],\n",
              "       [5],\n",
              "       [6],\n",
              "       [6],\n",
              "       [5],\n",
              "       [5],\n",
              "       [6],\n",
              "       [7],\n",
              "       [6],\n",
              "       [5],\n",
              "       [6],\n",
              "       [5],\n",
              "       [7],\n",
              "       [5],\n",
              "       [5],\n",
              "       [7],\n",
              "       [5],\n",
              "       [6],\n",
              "       [7],\n",
              "       [7],\n",
              "       [6],\n",
              "       [6],\n",
              "       [5],\n",
              "       [6],\n",
              "       [6],\n",
              "       [7],\n",
              "       [6],\n",
              "       [5],\n",
              "       [7],\n",
              "       [6],\n",
              "       [6],\n",
              "       [6],\n",
              "       [5],\n",
              "       [5],\n",
              "       [5],\n",
              "       [5],\n",
              "       [5],\n",
              "       [6],\n",
              "       [5],\n",
              "       [5],\n",
              "       [5],\n",
              "       [7],\n",
              "       [6],\n",
              "       [7],\n",
              "       [6],\n",
              "       [4],\n",
              "       [5],\n",
              "       [7],\n",
              "       [5],\n",
              "       [5],\n",
              "       [5],\n",
              "       [6],\n",
              "       [6],\n",
              "       [6],\n",
              "       [6],\n",
              "       [6],\n",
              "       [5],\n",
              "       [6],\n",
              "       [5],\n",
              "       [6],\n",
              "       [5],\n",
              "       [6],\n",
              "       [6],\n",
              "       [7],\n",
              "       [4],\n",
              "       [6],\n",
              "       [5],\n",
              "       [6],\n",
              "       [6],\n",
              "       [7],\n",
              "       [5],\n",
              "       [7],\n",
              "       [5],\n",
              "       [5],\n",
              "       [6],\n",
              "       [5],\n",
              "       [5],\n",
              "       [6],\n",
              "       [5],\n",
              "       [6],\n",
              "       [5],\n",
              "       [5],\n",
              "       [6],\n",
              "       [6],\n",
              "       [4],\n",
              "       [5],\n",
              "       [6],\n",
              "       [5],\n",
              "       [7],\n",
              "       [8],\n",
              "       [6],\n",
              "       [7],\n",
              "       [4]])"
            ]
          },
          "metadata": {},
          "execution_count": 19
        }
      ]
    },
    {
      "cell_type": "code",
      "metadata": {
        "colab": {
          "base_uri": "https://localhost:8080/"
        },
        "id": "CIcwBMSey9Gu",
        "outputId": "6dc4e343-c689-4081-d020-8f368ab5fbf2"
      },
      "source": [
        "print(\"{0:0.2f}% nos dados de treino\".format((len(X_treino)/len(df.index))*100))\n",
        "print(\"{0:0.2f}% nos dados de teste\".format((len(X_teste)/len(df.index))*100))"
      ],
      "execution_count": 20,
      "outputs": [
        {
          "output_type": "stream",
          "name": "stdout",
          "text": [
            "69.98% nos dados de treino\n",
            "30.02% nos dados de teste\n"
          ]
        }
      ]
    },
    {
      "cell_type": "markdown",
      "metadata": {
        "id": "a6ir8-2wzKtv"
      },
      "source": [
        "DADOS NULOS\n"
      ]
    },
    {
      "cell_type": "code",
      "metadata": {
        "colab": {
          "base_uri": "https://localhost:8080/"
        },
        "id": "3bCl9JvNzS-E",
        "outputId": "64d553bb-9b44-4fd3-ba83-424748a12921"
      },
      "source": [
        "df.isnull().values.any()   #Verifica campos em branco\n"
      ],
      "execution_count": 21,
      "outputs": [
        {
          "output_type": "execute_result",
          "data": {
            "text/plain": [
              "False"
            ]
          },
          "metadata": {},
          "execution_count": 21
        }
      ]
    },
    {
      "cell_type": "markdown",
      "metadata": {
        "id": "PnJ7YyQs2XKG"
      },
      "source": [
        "Neste DF nao possuimos valores nulos\n"
      ]
    },
    {
      "cell_type": "code",
      "metadata": {
        "colab": {
          "base_uri": "https://localhost:8080/"
        },
        "id": "-Y2pr-VJzWS0",
        "outputId": "6832d844-7b16-4086-f328-8d2156683e8b"
      },
      "source": [
        "#procura por valores Zero\n",
        "print(len(df.loc[df['fixed acidity'] == 0]))\n",
        "print(len(df.loc[df['volatile acidity'] == 0]))\n",
        "print(len(df.loc[df['citric acid'] == 0]))\n",
        "print(len(df.loc[df['residual sugar'] == 0]))\n",
        "print(len(df.loc[df['chlorides'] == 0]))\n",
        "print(len(df.loc[df['density'] == 0]))\n",
        "print(len(df.loc[df['pH'] == 0]))\n",
        "print(len(df.loc[df['sulphates'] == 0]))\n",
        "print(len(df.loc[df['alcohol'] == 0]))\n"
      ],
      "execution_count": 22,
      "outputs": [
        {
          "output_type": "stream",
          "name": "stdout",
          "text": [
            "0\n",
            "0\n",
            "132\n",
            "0\n",
            "0\n",
            "0\n",
            "0\n",
            "0\n",
            "0\n"
          ]
        }
      ]
    },
    {
      "cell_type": "markdown",
      "metadata": {
        "id": "0Ts64OLu2dAC"
      },
      "source": [
        "Notamos que a coluna \"citric acid\" possui valores zerados, porém esses zeros são necessarios para medição da qualidade, Onde demonstra que o vinho não possui acidez "
      ]
    },
    {
      "cell_type": "markdown",
      "metadata": {
        "id": "WgqabMPM5VjI"
      },
      "source": [
        "Data Frame tratado e pronto para construir os modelos de treino"
      ]
    },
    {
      "cell_type": "markdown",
      "metadata": {
        "id": "4qyadYlMarkA"
      },
      "source": [
        "# Construindo modelos de previsão "
      ]
    },
    {
      "cell_type": "markdown",
      "metadata": {
        "id": "NWdJtRc6x5-R"
      },
      "source": [
        "# Modelo 1"
      ]
    },
    {
      "cell_type": "code",
      "metadata": {
        "id": "X_NxdERx9d0H"
      },
      "source": [
        "#Construindo e treinando modelo \n",
        "\n",
        "\n",
        "# Algarotimo GaussianNB\n",
        "\n",
        "  \n",
        "from sklearn.naive_bayes import GaussianNB  "
      ],
      "execution_count": 23,
      "outputs": []
    },
    {
      "cell_type": "code",
      "metadata": {
        "id": "WzwfF2HrVwQN"
      },
      "source": [
        "#criando instancia \n",
        "modelo_v1 = GaussianNB()"
      ],
      "execution_count": 24,
      "outputs": []
    },
    {
      "cell_type": "code",
      "metadata": {
        "colab": {
          "base_uri": "https://localhost:8080/"
        },
        "id": "z3TvSuK_WpIr",
        "outputId": "a72fabe8-c74e-4cbd-ac23-06bfe2ee7f52"
      },
      "source": [
        "#Fit X,y ao modelo1\n",
        "\n",
        "modelo_v1.fit(X_treino, Y_treino.ravel()) "
      ],
      "execution_count": 25,
      "outputs": [
        {
          "output_type": "execute_result",
          "data": {
            "text/plain": [
              "GaussianNB(priors=None, var_smoothing=1e-09)"
            ]
          },
          "metadata": {},
          "execution_count": 25
        }
      ]
    },
    {
      "cell_type": "code",
      "metadata": {
        "id": "TFIr6Wz9WsT7"
      },
      "source": [
        "#Pct metricas para Virificar Exatidao treino (Acuracia)\n",
        "from sklearn import metrics"
      ],
      "execution_count": 26,
      "outputs": []
    },
    {
      "cell_type": "code",
      "metadata": {
        "colab": {
          "base_uri": "https://localhost:8080/"
        },
        "id": "rxRKi0hYW04r",
        "outputId": "76ff0941-0f6e-4fba-9541-4a8f5e8edd7e"
      },
      "source": [
        "#Previsão modelo base gerado\n",
        "\n",
        "\n",
        "nb_predict_train = modelo_v1.predict(X_treino)\n",
        "\n",
        "print(\"Exatidão Treino (acuracia):  {0:.4f})\".format(metrics.accuracy_score(Y_treino, nb_predict_train)))\n",
        "\n",
        "#_____ \n",
        "\n",
        "nb_predict_test = modelo_v1.predict(X_teste)\n",
        "\n",
        "print(\"Exatidão Test (acuracia):  {0:.4f})\".format(metrics.accuracy_score(Y_teste, nb_predict_test)))"
      ],
      "execution_count": 27,
      "outputs": [
        {
          "output_type": "stream",
          "name": "stdout",
          "text": [
            "Exatidão Treino (acuracia):  0.5737)\n",
            "Exatidão Test (acuracia):  0.5417)\n"
          ]
        }
      ]
    },
    {
      "cell_type": "markdown",
      "metadata": {
        "id": "bMCvsnvNx9kZ"
      },
      "source": [
        "# #Modelo 2"
      ]
    },
    {
      "cell_type": "code",
      "metadata": {
        "id": "CLHf31h6XIiS"
      },
      "source": [
        "#Utilizando Random Forest\n",
        "\n",
        "from sklearn.ensemble import RandomForestClassifier"
      ],
      "execution_count": 28,
      "outputs": []
    },
    {
      "cell_type": "code",
      "metadata": {
        "colab": {
          "base_uri": "https://localhost:8080/"
        },
        "id": "_1atyLZNXZhr",
        "outputId": "6025a360-eb0d-45ac-c558-a76ea9011708"
      },
      "source": [
        "modelo_v2 = RandomForestClassifier(random_state=42)\n",
        "\n",
        "modelo_v2.fit(X_treino, Y_treino.ravel())\n",
        "\n"
      ],
      "execution_count": 29,
      "outputs": [
        {
          "output_type": "execute_result",
          "data": {
            "text/plain": [
              "RandomForestClassifier(bootstrap=True, ccp_alpha=0.0, class_weight=None,\n",
              "                       criterion='gini', max_depth=None, max_features='auto',\n",
              "                       max_leaf_nodes=None, max_samples=None,\n",
              "                       min_impurity_decrease=0.0, min_impurity_split=None,\n",
              "                       min_samples_leaf=1, min_samples_split=2,\n",
              "                       min_weight_fraction_leaf=0.0, n_estimators=100,\n",
              "                       n_jobs=None, oob_score=False, random_state=42, verbose=0,\n",
              "                       warm_start=False)"
            ]
          },
          "metadata": {},
          "execution_count": 29
        }
      ]
    },
    {
      "cell_type": "code",
      "metadata": {
        "colab": {
          "base_uri": "https://localhost:8080/"
        },
        "id": "YEbW9n4_XcgT",
        "outputId": "f6154d66-cf6f-40a2-cff3-b45aab6795b8"
      },
      "source": [
        "rf_predict_train = modelo_v2.predict(X_treino)\n",
        "print(\"Exatidão Treino (acuracia):  {0:.4f})\".format(metrics.accuracy_score(Y_treino, rf_predict_train)))\n",
        "\n",
        "rf_predict_test = modelo_v2.predict(X_teste)\n",
        "print(\"Exatidão Teste (acuracia):  {0:.4f})\".format(metrics.accuracy_score(Y_teste, rf_predict_test)))"
      ],
      "execution_count": 30,
      "outputs": [
        {
          "output_type": "stream",
          "name": "stdout",
          "text": [
            "Exatidão Treino (acuracia):  1.0000)\n",
            "Exatidão Teste (acuracia):  0.6542)\n"
          ]
        }
      ]
    },
    {
      "cell_type": "markdown",
      "metadata": {
        "id": "zfYCD_BqyB6c"
      },
      "source": [
        "# Modelo 3"
      ]
    },
    {
      "cell_type": "code",
      "metadata": {
        "colab": {
          "base_uri": "https://localhost:8080/"
        },
        "id": "n-IXHSyCXiyr",
        "outputId": "d126c8ce-299e-4ee7-d87a-1135943e591b"
      },
      "source": [
        "#Usando ComplementNB (CNB)\n",
        "\n",
        "from sklearn.naive_bayes import  ComplementNB\n",
        "\n",
        "modelo_v3 = ComplementNB()\n",
        "\n",
        "modelo_v3.fit(X_treino, Y_treino.ravel())\n",
        "\n",
        "cnb_predict_train = modelo_v3.predict(X_treino)\n",
        "cnb_predict_test = modelo_v3.predict(X_teste)\n",
        "\n",
        "print(\"Exatidão Treino (acuracia):  {0:.4f})\".format(metrics.accuracy_score(Y_treino, cnb_predict_train)))\n",
        "print(\"Exatidão Teste (acuracia):  {0:.4f})\".format(metrics.accuracy_score(Y_teste, cnb_predict_test)))"
      ],
      "execution_count": 31,
      "outputs": [
        {
          "output_type": "stream",
          "name": "stdout",
          "text": [
            "Exatidão Treino (acuracia):  0.4942)\n",
            "Exatidão Teste (acuracia):  0.5000)\n"
          ]
        }
      ]
    },
    {
      "cell_type": "markdown",
      "metadata": {
        "id": "82h6d8oyyFui"
      },
      "source": [
        "# Modelo 4"
      ]
    },
    {
      "cell_type": "code",
      "metadata": {
        "colab": {
          "base_uri": "https://localhost:8080/"
        },
        "id": "pQzv-NENXqjT",
        "outputId": "d088e32b-5d2c-44be-e5c5-959517f6e38a"
      },
      "source": [
        "#Usando OneCalssSVM\n",
        "\n",
        "from sklearn.svm import OneClassSVM\n",
        "\n",
        "modelo_v4 = OneClassSVM()\n",
        "\n",
        "modelo_v4.fit(X_treino, Y_treino.ravel())\n",
        "\n",
        "svm_predict_train = modelo_v4.predict(X_treino)\n",
        "svm_predict_test = modelo_v4.predict(X_teste)\n",
        "\n",
        "print(\"Exatidão Treino (acuracia):  {0:.9f})\".format(metrics.accuracy_score(Y_treino, svm_predict_train)))\n",
        "print(\"Exatidão Teste (acuracia):  {0:.9f})\".format(metrics.accuracy_score(Y_teste, svm_predict_test)))\n",
        "\n",
        "\n"
      ],
      "execution_count": 32,
      "outputs": [
        {
          "output_type": "stream",
          "name": "stdout",
          "text": [
            "Exatidão Treino (acuracia):  0.000000000)\n",
            "Exatidão Teste (acuracia):  0.000000000)\n"
          ]
        }
      ]
    },
    {
      "cell_type": "markdown",
      "metadata": {
        "id": "_8MVG40byIPI"
      },
      "source": [
        "# Modelo 5"
      ]
    },
    {
      "cell_type": "code",
      "metadata": {
        "colab": {
          "base_uri": "https://localhost:8080/"
        },
        "id": "2b21Vl2RXxPd",
        "outputId": "43a9cb04-eaa2-434e-89ba-765cbe746cb8"
      },
      "source": [
        "# Usando SGDClassifier\n",
        "\n",
        "from sklearn.linear_model import SGDClassifier\n",
        "\n",
        "modelo_v5 = SGDClassifier()\n",
        "\n",
        "modelo_v5.fit(X_treino, Y_treino.ravel())\n",
        "\n",
        "\n",
        "\n",
        "sgdc_predict_train = modelo_v5.predict(X_treino)\n",
        "sgdc_predict_test = modelo_v5.predict(X_teste)\n",
        "\n",
        "\n",
        "\n",
        "print(\"Exatidão Treino (acuracia):  {0:.4f})\".format(metrics.accuracy_score(Y_treino, sgdc_predict_train)))\n",
        "print(\"Exatidão Teste (acuracia):  {0:.4f})\".format(metrics.accuracy_score(Y_teste, sgdc_predict_test)))"
      ],
      "execution_count": 50,
      "outputs": [
        {
          "output_type": "stream",
          "name": "stdout",
          "text": [
            "Exatidão Treino (acuracia):  0.5371)\n",
            "Exatidão Teste (acuracia):  0.4667)\n"
          ]
        }
      ]
    },
    {
      "cell_type": "markdown",
      "metadata": {
        "id": "WsX3jQKuNAtZ"
      },
      "source": [
        "# #Save Modelo \n",
        "\n",
        "Salvando modelo fitado com Pickle "
      ]
    },
    {
      "cell_type": "code",
      "metadata": {
        "id": "XTvGc9IgKr2p"
      },
      "source": [
        "import pickle"
      ],
      "execution_count": 39,
      "outputs": []
    },
    {
      "cell_type": "code",
      "metadata": {
        "id": "ybtAlpM9Kui3"
      },
      "source": [
        "#Salvando modelos na pasta Gdrive\n",
        "\n",
        "\n",
        "pickle.dump(modelo_v1, open('/content/gdrive/My Drive/Colab Notebooks/modelo1.sav', 'wb'))\n",
        "pickle.dump(modelo_v2, open('/content/gdrive/My Drive/Colab Notebooks/modelo2.sav', 'wb'))\n",
        "pickle.dump(modelo_v3, open('/content/gdrive/My Drive/Colab Notebooks/modelo3.sav', 'wb'))\n",
        "pickle.dump(modelo_v4, open('/content/gdrive/My Drive/Colab Notebooks/modelo4.sav', 'wb'))\n",
        "pickle.dump(modelo_v5, open('/content/gdrive/My Drive/Colab Notebooks/modelo5.sav', 'wb'))\n",
        "\n",
        "\n"
      ],
      "execution_count": 51,
      "outputs": []
    },
    {
      "cell_type": "markdown",
      "metadata": {
        "id": "JeZdfqA3PILi"
      },
      "source": [
        "# Importando Modelo \n",
        "\n",
        "Importando modelo com Pickle\n"
      ]
    },
    {
      "cell_type": "code",
      "metadata": {
        "id": "zmgR1F53LWFg"
      },
      "source": [
        "#Import Modelo salvo /// Para alterar o modelo basta alterar o numero do modelo no arquivo modelo1,2,3,4,5.sav\n",
        "\n",
        "modelo_importado = pickle.load(open('/content/gdrive/My Drive/Colab Notebooks/modelo2.sav', 'rb'))\n",
        "\n",
        "#Este modelo foi o que melhor apresentou resultados de acuracia "
      ],
      "execution_count": 43,
      "outputs": []
    },
    {
      "cell_type": "code",
      "metadata": {
        "colab": {
          "base_uri": "https://localhost:8080/"
        },
        "id": "a016tKwDL9AB",
        "outputId": "956a1f79-928c-4421-a2b8-0f123ea815f8"
      },
      "source": [
        "#Teste de modelo salvo \n",
        "\n",
        "import_predict_train = modelo_importado.predict(X_treino)\n",
        "import_predict_test = modelo_importado.predict(X_teste)\n",
        "print(\"Exatidão Treino (acuracia):  {0:.4f})\".format(metrics.accuracy_score(Y_treino, import_predict_train)))\n",
        "print(\"Exatidão Teste (acuracia):  {0:.4f})\".format(metrics.accuracy_score(Y_teste, import_predict_test)))"
      ],
      "execution_count": 44,
      "outputs": [
        {
          "output_type": "stream",
          "name": "stdout",
          "text": [
            "Exatidão Treino (acuracia):  1.0000)\n",
            "Exatidão Teste (acuracia):  0.6542)\n"
          ]
        }
      ]
    },
    {
      "cell_type": "markdown",
      "metadata": {
        "id": "D9C7qnnyv4yi"
      },
      "source": [
        "Dos Modelos treinados o que teve melhor aproveitamento foi #Utilizando Random Forest (Modelo_v2)\n",
        "\n"
      ]
    }
  ]
}