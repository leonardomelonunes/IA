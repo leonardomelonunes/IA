{
  "nbformat": 4,
  "nbformat_minor": 0,
  "metadata": {
    "colab": {
      "name": "Leonardo Melo Nunes - 24/08 ProjetoML01.ipynb",
      "provenance": []
    },
    "kernelspec": {
      "name": "python3",
      "display_name": "Python 3"
    },
    "language_info": {
      "name": "python"
    }
  },
  "cells": [
    {
      "cell_type": "markdown",
      "metadata": {
        "id": "wLl141FrMpGD"
      },
      "source": [
        "#Conexão Drive"
      ]
    },
    {
      "cell_type": "code",
      "metadata": {
        "colab": {
          "base_uri": "https://localhost:8080/"
        },
        "id": "_kZp4FY7LpIX",
        "outputId": "8c822126-ce74-4eed-fa8b-4d3050d87a1c"
      },
      "source": [
        "from google.colab import drive\n",
        "\n",
        "drive.mount(\"/content/gdrive\")"
      ],
      "execution_count": 1,
      "outputs": [
        {
          "output_type": "stream",
          "text": [
            "Mounted at /content/gdrive\n"
          ],
          "name": "stdout"
        }
      ]
    },
    {
      "cell_type": "markdown",
      "metadata": {
        "id": "v63cDdNDNV9z"
      },
      "source": [
        "#Importação de Bibliotecas e Dados"
      ]
    },
    {
      "cell_type": "code",
      "metadata": {
        "id": "gjwynPcYND-L"
      },
      "source": [
        "#Importando módulos\n",
        "import pandas as pd\n"
      ],
      "execution_count": 2,
      "outputs": []
    },
    {
      "cell_type": "code",
      "metadata": {
        "id": "fosxKoLHNvHO"
      },
      "source": [
        "#Carregando o DataSet\n",
        "df = pd.read_csv(\"/content/gdrive/My Drive/Colab Notebooks/pima-data.csv\")"
      ],
      "execution_count": 3,
      "outputs": []
    },
    {
      "cell_type": "code",
      "metadata": {
        "colab": {
          "base_uri": "https://localhost:8080/",
          "height": 359
        },
        "id": "Atf7OiOVORRE",
        "outputId": "db6edbba-df01-4d23-d6e3-2a158cb361bc"
      },
      "source": [
        "df.head(10)"
      ],
      "execution_count": 4,
      "outputs": [
        {
          "output_type": "execute_result",
          "data": {
            "text/html": [
              "<div>\n",
              "<style scoped>\n",
              "    .dataframe tbody tr th:only-of-type {\n",
              "        vertical-align: middle;\n",
              "    }\n",
              "\n",
              "    .dataframe tbody tr th {\n",
              "        vertical-align: top;\n",
              "    }\n",
              "\n",
              "    .dataframe thead th {\n",
              "        text-align: right;\n",
              "    }\n",
              "</style>\n",
              "<table border=\"1\" class=\"dataframe\">\n",
              "  <thead>\n",
              "    <tr style=\"text-align: right;\">\n",
              "      <th></th>\n",
              "      <th>num_preg</th>\n",
              "      <th>glucose_conc</th>\n",
              "      <th>diastolic_bp</th>\n",
              "      <th>thickness</th>\n",
              "      <th>insulin</th>\n",
              "      <th>bmi</th>\n",
              "      <th>diab_pred</th>\n",
              "      <th>age</th>\n",
              "      <th>skin</th>\n",
              "      <th>diabetes</th>\n",
              "    </tr>\n",
              "  </thead>\n",
              "  <tbody>\n",
              "    <tr>\n",
              "      <th>0</th>\n",
              "      <td>6</td>\n",
              "      <td>148</td>\n",
              "      <td>72</td>\n",
              "      <td>35</td>\n",
              "      <td>0</td>\n",
              "      <td>33.6</td>\n",
              "      <td>0.627</td>\n",
              "      <td>50</td>\n",
              "      <td>1.3790</td>\n",
              "      <td>True</td>\n",
              "    </tr>\n",
              "    <tr>\n",
              "      <th>1</th>\n",
              "      <td>1</td>\n",
              "      <td>85</td>\n",
              "      <td>66</td>\n",
              "      <td>29</td>\n",
              "      <td>0</td>\n",
              "      <td>26.6</td>\n",
              "      <td>0.351</td>\n",
              "      <td>31</td>\n",
              "      <td>1.1426</td>\n",
              "      <td>False</td>\n",
              "    </tr>\n",
              "    <tr>\n",
              "      <th>2</th>\n",
              "      <td>8</td>\n",
              "      <td>183</td>\n",
              "      <td>64</td>\n",
              "      <td>0</td>\n",
              "      <td>0</td>\n",
              "      <td>23.3</td>\n",
              "      <td>0.672</td>\n",
              "      <td>32</td>\n",
              "      <td>0.0000</td>\n",
              "      <td>True</td>\n",
              "    </tr>\n",
              "    <tr>\n",
              "      <th>3</th>\n",
              "      <td>1</td>\n",
              "      <td>89</td>\n",
              "      <td>66</td>\n",
              "      <td>23</td>\n",
              "      <td>94</td>\n",
              "      <td>28.1</td>\n",
              "      <td>0.167</td>\n",
              "      <td>21</td>\n",
              "      <td>0.9062</td>\n",
              "      <td>False</td>\n",
              "    </tr>\n",
              "    <tr>\n",
              "      <th>4</th>\n",
              "      <td>0</td>\n",
              "      <td>137</td>\n",
              "      <td>40</td>\n",
              "      <td>35</td>\n",
              "      <td>168</td>\n",
              "      <td>43.1</td>\n",
              "      <td>2.288</td>\n",
              "      <td>33</td>\n",
              "      <td>1.3790</td>\n",
              "      <td>True</td>\n",
              "    </tr>\n",
              "    <tr>\n",
              "      <th>5</th>\n",
              "      <td>5</td>\n",
              "      <td>116</td>\n",
              "      <td>74</td>\n",
              "      <td>0</td>\n",
              "      <td>0</td>\n",
              "      <td>25.6</td>\n",
              "      <td>0.201</td>\n",
              "      <td>30</td>\n",
              "      <td>0.0000</td>\n",
              "      <td>False</td>\n",
              "    </tr>\n",
              "    <tr>\n",
              "      <th>6</th>\n",
              "      <td>3</td>\n",
              "      <td>78</td>\n",
              "      <td>50</td>\n",
              "      <td>32</td>\n",
              "      <td>88</td>\n",
              "      <td>31.0</td>\n",
              "      <td>0.248</td>\n",
              "      <td>26</td>\n",
              "      <td>1.2608</td>\n",
              "      <td>True</td>\n",
              "    </tr>\n",
              "    <tr>\n",
              "      <th>7</th>\n",
              "      <td>10</td>\n",
              "      <td>115</td>\n",
              "      <td>0</td>\n",
              "      <td>0</td>\n",
              "      <td>0</td>\n",
              "      <td>35.3</td>\n",
              "      <td>0.134</td>\n",
              "      <td>29</td>\n",
              "      <td>0.0000</td>\n",
              "      <td>False</td>\n",
              "    </tr>\n",
              "    <tr>\n",
              "      <th>8</th>\n",
              "      <td>2</td>\n",
              "      <td>197</td>\n",
              "      <td>70</td>\n",
              "      <td>45</td>\n",
              "      <td>543</td>\n",
              "      <td>30.5</td>\n",
              "      <td>0.158</td>\n",
              "      <td>53</td>\n",
              "      <td>1.7730</td>\n",
              "      <td>True</td>\n",
              "    </tr>\n",
              "    <tr>\n",
              "      <th>9</th>\n",
              "      <td>8</td>\n",
              "      <td>125</td>\n",
              "      <td>96</td>\n",
              "      <td>0</td>\n",
              "      <td>0</td>\n",
              "      <td>0.0</td>\n",
              "      <td>0.232</td>\n",
              "      <td>54</td>\n",
              "      <td>0.0000</td>\n",
              "      <td>True</td>\n",
              "    </tr>\n",
              "  </tbody>\n",
              "</table>\n",
              "</div>"
            ],
            "text/plain": [
              "   num_preg  glucose_conc  diastolic_bp  ...  age    skin  diabetes\n",
              "0         6           148            72  ...   50  1.3790      True\n",
              "1         1            85            66  ...   31  1.1426     False\n",
              "2         8           183            64  ...   32  0.0000      True\n",
              "3         1            89            66  ...   21  0.9062     False\n",
              "4         0           137            40  ...   33  1.3790      True\n",
              "5         5           116            74  ...   30  0.0000     False\n",
              "6         3            78            50  ...   26  1.2608      True\n",
              "7        10           115             0  ...   29  0.0000     False\n",
              "8         2           197            70  ...   53  1.7730      True\n",
              "9         8           125            96  ...   54  0.0000      True\n",
              "\n",
              "[10 rows x 10 columns]"
            ]
          },
          "metadata": {},
          "execution_count": 4
        }
      ]
    },
    {
      "cell_type": "code",
      "metadata": {
        "colab": {
          "base_uri": "https://localhost:8080/"
        },
        "id": "KU992KTOP4QW",
        "outputId": "55e9696c-a9af-4907-c0aa-7ab6afe1a452"
      },
      "source": [
        "df.shape"
      ],
      "execution_count": 5,
      "outputs": [
        {
          "output_type": "execute_result",
          "data": {
            "text/plain": [
              "(768, 10)"
            ]
          },
          "metadata": {},
          "execution_count": 5
        }
      ]
    },
    {
      "cell_type": "markdown",
      "metadata": {
        "id": "cNdn1HBmR3P7"
      },
      "source": [
        "#Mapeamento das variáveis"
      ]
    },
    {
      "cell_type": "code",
      "metadata": {
        "id": "6Nte_oV0P7VY"
      },
      "source": [
        "#Mapeamento de variáveis\n",
        "diabetes_map = {True : 1, False : 0}"
      ],
      "execution_count": 6,
      "outputs": []
    },
    {
      "cell_type": "code",
      "metadata": {
        "id": "82avJYhGRiXT"
      },
      "source": [
        "#Aplicar o mapeamento\n",
        "df['diabetes'] = df['diabetes'].map(diabetes_map)"
      ],
      "execution_count": 7,
      "outputs": []
    },
    {
      "cell_type": "code",
      "metadata": {
        "colab": {
          "base_uri": "https://localhost:8080/",
          "height": 204
        },
        "id": "xWnEa1w4RxEn",
        "outputId": "1b91aaa2-5fa4-4bd6-e0db-1d4af508b855"
      },
      "source": [
        "df.head()"
      ],
      "execution_count": 8,
      "outputs": [
        {
          "output_type": "execute_result",
          "data": {
            "text/html": [
              "<div>\n",
              "<style scoped>\n",
              "    .dataframe tbody tr th:only-of-type {\n",
              "        vertical-align: middle;\n",
              "    }\n",
              "\n",
              "    .dataframe tbody tr th {\n",
              "        vertical-align: top;\n",
              "    }\n",
              "\n",
              "    .dataframe thead th {\n",
              "        text-align: right;\n",
              "    }\n",
              "</style>\n",
              "<table border=\"1\" class=\"dataframe\">\n",
              "  <thead>\n",
              "    <tr style=\"text-align: right;\">\n",
              "      <th></th>\n",
              "      <th>num_preg</th>\n",
              "      <th>glucose_conc</th>\n",
              "      <th>diastolic_bp</th>\n",
              "      <th>thickness</th>\n",
              "      <th>insulin</th>\n",
              "      <th>bmi</th>\n",
              "      <th>diab_pred</th>\n",
              "      <th>age</th>\n",
              "      <th>skin</th>\n",
              "      <th>diabetes</th>\n",
              "    </tr>\n",
              "  </thead>\n",
              "  <tbody>\n",
              "    <tr>\n",
              "      <th>0</th>\n",
              "      <td>6</td>\n",
              "      <td>148</td>\n",
              "      <td>72</td>\n",
              "      <td>35</td>\n",
              "      <td>0</td>\n",
              "      <td>33.6</td>\n",
              "      <td>0.627</td>\n",
              "      <td>50</td>\n",
              "      <td>1.3790</td>\n",
              "      <td>1</td>\n",
              "    </tr>\n",
              "    <tr>\n",
              "      <th>1</th>\n",
              "      <td>1</td>\n",
              "      <td>85</td>\n",
              "      <td>66</td>\n",
              "      <td>29</td>\n",
              "      <td>0</td>\n",
              "      <td>26.6</td>\n",
              "      <td>0.351</td>\n",
              "      <td>31</td>\n",
              "      <td>1.1426</td>\n",
              "      <td>0</td>\n",
              "    </tr>\n",
              "    <tr>\n",
              "      <th>2</th>\n",
              "      <td>8</td>\n",
              "      <td>183</td>\n",
              "      <td>64</td>\n",
              "      <td>0</td>\n",
              "      <td>0</td>\n",
              "      <td>23.3</td>\n",
              "      <td>0.672</td>\n",
              "      <td>32</td>\n",
              "      <td>0.0000</td>\n",
              "      <td>1</td>\n",
              "    </tr>\n",
              "    <tr>\n",
              "      <th>3</th>\n",
              "      <td>1</td>\n",
              "      <td>89</td>\n",
              "      <td>66</td>\n",
              "      <td>23</td>\n",
              "      <td>94</td>\n",
              "      <td>28.1</td>\n",
              "      <td>0.167</td>\n",
              "      <td>21</td>\n",
              "      <td>0.9062</td>\n",
              "      <td>0</td>\n",
              "    </tr>\n",
              "    <tr>\n",
              "      <th>4</th>\n",
              "      <td>0</td>\n",
              "      <td>137</td>\n",
              "      <td>40</td>\n",
              "      <td>35</td>\n",
              "      <td>168</td>\n",
              "      <td>43.1</td>\n",
              "      <td>2.288</td>\n",
              "      <td>33</td>\n",
              "      <td>1.3790</td>\n",
              "      <td>1</td>\n",
              "    </tr>\n",
              "  </tbody>\n",
              "</table>\n",
              "</div>"
            ],
            "text/plain": [
              "   num_preg  glucose_conc  diastolic_bp  ...  age    skin  diabetes\n",
              "0         6           148            72  ...   50  1.3790         1\n",
              "1         1            85            66  ...   31  1.1426         0\n",
              "2         8           183            64  ...   32  0.0000         1\n",
              "3         1            89            66  ...   21  0.9062         0\n",
              "4         0           137            40  ...   33  1.3790         1\n",
              "\n",
              "[5 rows x 10 columns]"
            ]
          },
          "metadata": {},
          "execution_count": 8
        }
      ]
    },
    {
      "cell_type": "code",
      "metadata": {
        "colab": {
          "base_uri": "https://localhost:8080/"
        },
        "id": "O-dHb34oSI1I",
        "outputId": "0f33ebb8-0bc2-4e49-8321-91124339e61a"
      },
      "source": [
        "#Conferir como os dados estão distribuídos\n",
        "num_true = len(df.loc[df['diabetes'] == True])\n",
        "num_false = len(df.loc[df['diabetes'] == False])\n",
        "\n",
        "print(\"Número de casos verdadeiros: {0} ({1:2.2f}%) \".format(num_true, (num_true/ (num_true + num_false)) * 100))\n",
        "print(\"Número de casos falsos: {0} ({1:2.2f}%) \".format(num_false, (num_false/ (num_true + num_false)) * 100))"
      ],
      "execution_count": 9,
      "outputs": [
        {
          "output_type": "stream",
          "text": [
            "Número de casos verdadeiros: 268 (34.90%) \n",
            "Número de casos falsos: 500 (65.10%) \n"
          ],
          "name": "stdout"
        }
      ]
    },
    {
      "cell_type": "markdown",
      "metadata": {
        "id": "_466AQIXWcv8"
      },
      "source": [
        "#Spliting\n",
        "###70% para treino e 30% teste"
      ]
    },
    {
      "cell_type": "code",
      "metadata": {
        "id": "06BwuZNCUFmE"
      },
      "source": [
        "#scikit-learn \n",
        "from sklearn.model_selection import train_test_split"
      ],
      "execution_count": 10,
      "outputs": []
    },
    {
      "cell_type": "code",
      "metadata": {
        "id": "U4uUBS1kXC6T"
      },
      "source": [
        "#Selecionar variaveis que preditoras () X\n",
        "atributos = ['num_preg', 'glucose_conc', 'diastolic_bp', 'thickness',  'insulin', 'bmi', 'diab_pred', 'age']"
      ],
      "execution_count": 11,
      "outputs": []
    },
    {
      "cell_type": "code",
      "metadata": {
        "id": "sEw43dDAYs5y"
      },
      "source": [
        "# variável prevista (saída Y)\n",
        "atrib_prev = ['diabetes']"
      ],
      "execution_count": 12,
      "outputs": []
    },
    {
      "cell_type": "code",
      "metadata": {
        "id": "aQYoIi1zY3Qt"
      },
      "source": [
        "#Criar objetos X e Y\n",
        "X = df[atributos].values\n",
        "Y = df[atrib_prev].values"
      ],
      "execution_count": 13,
      "outputs": []
    },
    {
      "cell_type": "code",
      "metadata": {
        "colab": {
          "base_uri": "https://localhost:8080/"
        },
        "id": "LmsonzOXZI0g",
        "outputId": "7f3749bd-0139-4e45-8677-50a2d630a115"
      },
      "source": [
        "X"
      ],
      "execution_count": 14,
      "outputs": [
        {
          "output_type": "execute_result",
          "data": {
            "text/plain": [
              "array([[  6.   , 148.   ,  72.   , ...,  33.6  ,   0.627,  50.   ],\n",
              "       [  1.   ,  85.   ,  66.   , ...,  26.6  ,   0.351,  31.   ],\n",
              "       [  8.   , 183.   ,  64.   , ...,  23.3  ,   0.672,  32.   ],\n",
              "       ...,\n",
              "       [  5.   , 121.   ,  72.   , ...,  26.2  ,   0.245,  30.   ],\n",
              "       [  1.   , 126.   ,  60.   , ...,  30.1  ,   0.349,  47.   ],\n",
              "       [  1.   ,  93.   ,  70.   , ...,  30.4  ,   0.315,  23.   ]])"
            ]
          },
          "metadata": {},
          "execution_count": 14
        }
      ]
    },
    {
      "cell_type": "code",
      "metadata": {
        "id": "D_aIx3UqZczS"
      },
      "source": [
        "#Definir a taxa do Split\n",
        "split_test_size = 0.30"
      ],
      "execution_count": 15,
      "outputs": []
    },
    {
      "cell_type": "code",
      "metadata": {
        "id": "2kuRQdB3Z6H8"
      },
      "source": [
        "#Criar os dados de treino e teste\n",
        "X_treino, X_teste, Y_treino, Y_teste = train_test_split(X, Y, test_size = split_test_size, random_state = 42)"
      ],
      "execution_count": 16,
      "outputs": []
    },
    {
      "cell_type": "code",
      "metadata": {
        "colab": {
          "base_uri": "https://localhost:8080/"
        },
        "id": "qO7tEOIfasXZ",
        "outputId": "4c41239d-9c68-4016-812d-a23a6c8d7de0"
      },
      "source": [
        "print(\"{0:0.2f}% nos dados de treino\".format((len(X_treino)/len(df.index))*100))\n",
        "print(\"{0:0.2f}% nos dados de teste\".format((len(X_teste)/len(df.index))*100))"
      ],
      "execution_count": 17,
      "outputs": [
        {
          "output_type": "stream",
          "text": [
            "69.92% nos dados de treino\n",
            "30.08% nos dados de teste\n"
          ],
          "name": "stdout"
        }
      ]
    },
    {
      "cell_type": "markdown",
      "metadata": {
        "id": "XPuLYGGDbd10"
      },
      "source": [
        "Valores Nulos"
      ]
    },
    {
      "cell_type": "code",
      "metadata": {
        "colab": {
          "base_uri": "https://localhost:8080/"
        },
        "id": "xnyPzL9dbDyb",
        "outputId": "87355017-47ba-4e07-bdca-882eb89a0575"
      },
      "source": [
        "df.isnull().values.any()"
      ],
      "execution_count": 18,
      "outputs": [
        {
          "output_type": "execute_result",
          "data": {
            "text/plain": [
              "False"
            ]
          },
          "metadata": {},
          "execution_count": 18
        }
      ]
    },
    {
      "cell_type": "code",
      "metadata": {
        "colab": {
          "base_uri": "https://localhost:8080/"
        },
        "id": "iwLz-61jbltc",
        "outputId": "d55e5c33-2448-4ebb-eb87-4c98a8d4336f"
      },
      "source": [
        "#Falsos Nulos (Zero)\n",
        "print(len(df.loc[df['glucose_conc'] == 0]))\n",
        "print(len(df.loc[df['diastolic_bp'] == 0]))\n",
        "print(len(df.loc[df['thickness'] == 0]))\n",
        "print(len(df.loc[df['insulin'] == 0]))\n",
        "print(len(df.loc[df['bmi'] == 0]))\n",
        "print(len(df.loc[df['age'] == 0]))"
      ],
      "execution_count": 19,
      "outputs": [
        {
          "output_type": "stream",
          "text": [
            "5\n",
            "35\n",
            "227\n",
            "374\n",
            "11\n",
            "0\n"
          ],
          "name": "stdout"
        }
      ]
    },
    {
      "cell_type": "code",
      "metadata": {
        "id": "Uxv3BqSMc2Gr"
      },
      "source": [
        "#Tratando os dados Missing\n",
        "from sklearn.impute import SimpleImputer\n",
        "\n",
        "#Imputer: substitui os valores zero por algum dados relevante com base em alguma estratégia (mean, )"
      ],
      "execution_count": 20,
      "outputs": []
    },
    {
      "cell_type": "code",
      "metadata": {
        "id": "IJcSE3avdXel"
      },
      "source": [
        "#criar o objeto e setar a estratégia\n",
        "preenche_0 = SimpleImputer(missing_values=0, strategy='mean')\n",
        "\n",
        "#Aplicar a estratégia\n",
        "X_treino = preenche_0.fit_transform(X_treino)\n",
        "X_teste = preenche_0.fit_transform(X_teste)"
      ],
      "execution_count": 21,
      "outputs": []
    },
    {
      "cell_type": "markdown",
      "metadata": {
        "id": "wq2CQWJAf-GH"
      },
      "source": [
        "#Construindo o modelo 1 e treinando"
      ]
    },
    {
      "cell_type": "code",
      "metadata": {
        "id": "FNAqU54hfynw"
      },
      "source": [
        "from sklearn.naive_bayes import GaussianNB"
      ],
      "execution_count": 22,
      "outputs": []
    },
    {
      "cell_type": "code",
      "metadata": {
        "id": "DDmuxHoGg3ON"
      },
      "source": [
        "#Criar uma instância do algoritmo de aprendizagem GaussianNB\n",
        "modelo_v1 = GaussianNB()"
      ],
      "execution_count": 23,
      "outputs": []
    },
    {
      "cell_type": "code",
      "metadata": {
        "colab": {
          "base_uri": "https://localhost:8080/"
        },
        "id": "ebt6wEArhOhZ",
        "outputId": "a8a6b279-eee8-4239-ecee-524cfeca3ef5"
      },
      "source": [
        "#Treinando o MODELO - FIT\n",
        "modelo_v1.fit(X_treino, Y_treino.ravel())"
      ],
      "execution_count": 24,
      "outputs": [
        {
          "output_type": "execute_result",
          "data": {
            "text/plain": [
              "GaussianNB(priors=None, var_smoothing=1e-09)"
            ]
          },
          "metadata": {},
          "execution_count": 24
        }
      ]
    },
    {
      "cell_type": "markdown",
      "metadata": {
        "id": "wYKJ5KI8hwii"
      },
      "source": [
        "Verificar exatidão do treino (acurácia)"
      ]
    },
    {
      "cell_type": "code",
      "metadata": {
        "id": "izj9n_CGhYHq"
      },
      "source": [
        "# Pacote de métricas\n",
        "from sklearn import metrics"
      ],
      "execution_count": 25,
      "outputs": []
    },
    {
      "cell_type": "code",
      "metadata": {
        "id": "pUHHE2nQh-dt"
      },
      "source": [
        "#Acurácia do Modelo DO TREINO\n",
        "nb_predict_train = modelo_v1.predict(X_treino)"
      ],
      "execution_count": 26,
      "outputs": []
    },
    {
      "cell_type": "code",
      "metadata": {
        "colab": {
          "base_uri": "https://localhost:8080/"
        },
        "id": "H133bI3LiQXM",
        "outputId": "67e4a72f-c879-4180-c98b-a16e00e4e381"
      },
      "source": [
        "print(\"Exatidão (Acurácia): {0:.4f}\".format(metrics.accuracy_score(Y_treino, nb_predict_train)))"
      ],
      "execution_count": 27,
      "outputs": [
        {
          "output_type": "stream",
          "text": [
            "Exatidão (Acurácia): 0.7542\n"
          ],
          "name": "stdout"
        }
      ]
    },
    {
      "cell_type": "code",
      "metadata": {
        "id": "O29Hnso8iivw"
      },
      "source": [
        "#Acurácia do Modelo de TESTE\n",
        "nd_predict_test = modelo_v1.predict(X_teste)"
      ],
      "execution_count": 28,
      "outputs": []
    },
    {
      "cell_type": "code",
      "metadata": {
        "colab": {
          "base_uri": "https://localhost:8080/"
        },
        "id": "IQAQNnxhjClC",
        "outputId": "97444a0f-1e58-44d6-8963-951586f03b16"
      },
      "source": [
        "print(\"Exatidão (Acurácia): {0:.4f}\".format(metrics.accuracy_score(Y_teste, nd_predict_test)))"
      ],
      "execution_count": 29,
      "outputs": [
        {
          "output_type": "stream",
          "text": [
            "Exatidão (Acurácia): 0.7359\n"
          ],
          "name": "stdout"
        }
      ]
    },
    {
      "cell_type": "markdown",
      "metadata": {
        "id": "Tcep_9igjzuu"
      },
      "source": [
        "#Contruindo o modelo 2 "
      ]
    },
    {
      "cell_type": "code",
      "metadata": {
        "id": "JfyQi2SVjFvh"
      },
      "source": [
        "from sklearn.ensemble import RandomForestClassifier"
      ],
      "execution_count": 30,
      "outputs": []
    },
    {
      "cell_type": "code",
      "metadata": {
        "colab": {
          "base_uri": "https://localhost:8080/"
        },
        "id": "Vd6eRTWBkE6z",
        "outputId": "cf6add88-a38d-44ed-a96b-2091eeabff75"
      },
      "source": [
        "modelo_v2 = RandomForestClassifier(random_state=42)\n",
        "modelo_v2.fit(X_treino, Y_treino.ravel())"
      ],
      "execution_count": 31,
      "outputs": [
        {
          "output_type": "execute_result",
          "data": {
            "text/plain": [
              "RandomForestClassifier(bootstrap=True, ccp_alpha=0.0, class_weight=None,\n",
              "                       criterion='gini', max_depth=None, max_features='auto',\n",
              "                       max_leaf_nodes=None, max_samples=None,\n",
              "                       min_impurity_decrease=0.0, min_impurity_split=None,\n",
              "                       min_samples_leaf=1, min_samples_split=2,\n",
              "                       min_weight_fraction_leaf=0.0, n_estimators=100,\n",
              "                       n_jobs=None, oob_score=False, random_state=42, verbose=0,\n",
              "                       warm_start=False)"
            ]
          },
          "metadata": {},
          "execution_count": 31
        }
      ]
    },
    {
      "cell_type": "code",
      "metadata": {
        "colab": {
          "base_uri": "https://localhost:8080/"
        },
        "id": "IAAHAY_HkRIH",
        "outputId": "d0e1ffc3-4d8f-4170-cd67-8710fea4db9f"
      },
      "source": [
        "#Acurácia do Modelo\n",
        "rf_predict_train = modelo_v2.predict(X_treino)\n",
        "\n",
        "print(\"Exatidão (Acurácia): {0:.4f}\".format(metrics.accuracy_score(Y_treino, rf_predict_train)))"
      ],
      "execution_count": 32,
      "outputs": [
        {
          "output_type": "stream",
          "text": [
            "Exatidão (Acurácia): 1.0000\n"
          ],
          "name": "stdout"
        }
      ]
    },
    {
      "cell_type": "code",
      "metadata": {
        "colab": {
          "base_uri": "https://localhost:8080/"
        },
        "id": "W3R2zd0VkiRp",
        "outputId": "9ee0ce4c-d8ee-4e16-9576-c7da4fa026ab"
      },
      "source": [
        "rf_predict_test = modelo_v2.predict(X_teste)\n",
        "\n",
        "print(\"Exatidão (Acurácia): {0:.4f}\".format(metrics.accuracy_score(Y_teste, rf_predict_test)))"
      ],
      "execution_count": 33,
      "outputs": [
        {
          "output_type": "stream",
          "text": [
            "Exatidão (Acurácia): 0.7403\n"
          ],
          "name": "stdout"
        }
      ]
    },
    {
      "cell_type": "markdown",
      "metadata": {
        "id": "sLqnoOJmUmWM"
      },
      "source": [
        ""
      ]
    },
    {
      "cell_type": "markdown",
      "metadata": {
        "id": "wZ0Pud9HYZL-"
      },
      "source": [
        "#Construindo o Modelo 3"
      ]
    },
    {
      "cell_type": "code",
      "metadata": {
        "id": "dffNZnC5fBU7",
        "colab": {
          "base_uri": "https://localhost:8080/"
        },
        "outputId": "5fb57252-e816-4b1e-a466-4d73bbe5843f"
      },
      "source": [
        "#Usando ComplementNB (CNB)\n",
        "\n",
        "from sklearn.naive_bayes import  ComplementNB\n",
        "\n",
        "modelo_v3 = ComplementNB()\n",
        "\n",
        "modelo_v3.fit(X_treino, Y_treino.ravel())\n",
        "\n",
        "cnb_predict_train = modelo_v3.predict(X_treino)\n",
        "cnb_predict_test = modelo_v3.predict(X_teste)\n",
        "\n",
        "print(\"Exatidão (acuracia) Treino:  {0:.4f})\".format(metrics.accuracy_score(Y_treino, cnb_predict_train)))\n",
        "print(\"Exatidão (acuracia)Teste :  {0:.4f})\".format(metrics.accuracy_score(Y_teste, cnb_predict_test)))\n",
        "\n"
      ],
      "execution_count": 34,
      "outputs": [
        {
          "output_type": "stream",
          "text": [
            "Exatidão (acuracia) Treino:  0.6443)\n",
            "Exatidão (acuracia)Teste :  0.6234)\n"
          ],
          "name": "stdout"
        }
      ]
    },
    {
      "cell_type": "code",
      "metadata": {
        "id": "8oXLl14OfEx-",
        "colab": {
          "base_uri": "https://localhost:8080/"
        },
        "outputId": "d97775a4-c109-4a40-df1d-bfb5b618b58d"
      },
      "source": [
        "# Usando LARS Lasso\n",
        "\n",
        "from sklearn import linear_model\n",
        "\n",
        "modelo_v4 = linear_model.LassoLars()\n",
        "\n",
        "modelo_v4.fit(X_treino, Y_treino.ravel())\n",
        "\n",
        "lm_predict_train = modelo_v3.predict(X_treino)\n",
        "lm_predict_test = modelo_v3.predict(X_teste)\n",
        "\n",
        "print(\"Exatidão (acuracia): Treino  {0:.4f})\".format(metrics.accuracy_score(Y_treino, lm_predict_train)))\n",
        "print(\"Exatidão (acuracia): Teste {0:.4f})\".format(metrics.accuracy_score(Y_teste, lm_predict_test)))"
      ],
      "execution_count": 35,
      "outputs": [
        {
          "output_type": "stream",
          "text": [
            "Exatidão (acuracia): Treino  0.6443)\n",
            "Exatidão (acuracia): Teste 0.6234)\n"
          ],
          "name": "stdout"
        }
      ]
    },
    {
      "cell_type": "code",
      "metadata": {
        "id": "LoTXjpfJfMnO",
        "colab": {
          "base_uri": "https://localhost:8080/"
        },
        "outputId": "4a9197de-3de8-49de-ce17-274d54fa1144"
      },
      "source": [
        "# Usando SGDClassifier\n",
        "\n",
        "from sklearn.linear_model import SGDClassifier\n",
        "\n",
        "modelo_v5 = linear_model.SGDClassifier()\n",
        "\n",
        "modelo_v5.fit(X_treino, Y_treino.ravel())\n",
        "\n",
        "\n",
        "\n",
        "sgdc_predict_train = modelo_v5.predict(X_treino)\n",
        "sgdc_predict_test = modelo_v5.predict(X_teste)\n",
        "\n",
        "\n",
        "\n",
        "print(\"Exatidão (acuracia): Treino  {0:.4f})\".format(metrics.accuracy_score(Y_treino, sgdc_predict_train)))\n",
        "print(\"Exatidão (acuracia): Teste  {0:.4f})\".format(metrics.accuracy_score(Y_teste, sgdc_predict_test)))"
      ],
      "execution_count": 36,
      "outputs": [
        {
          "output_type": "stream",
          "text": [
            "Exatidão (acuracia): Treino  0.6480)\n",
            "Exatidão (acuracia): Teste  0.6537)\n"
          ],
          "name": "stdout"
        }
      ]
    },
    {
      "cell_type": "markdown",
      "metadata": {
        "id": "9jdR0e2xYnPY"
      },
      "source": [
        "#Conclusão"
      ]
    },
    {
      "cell_type": "markdown",
      "metadata": {
        "id": "ulbCHjdiYqDv"
      },
      "source": [
        "Responda aqui: qual o algoritmo que teve um melhor resultado, acurária?\n",
        "\n",
        "De todos os usados o que se saiu melhor foi o 2modelo RandomForestClassifier"
      ]
    }
  ]
}