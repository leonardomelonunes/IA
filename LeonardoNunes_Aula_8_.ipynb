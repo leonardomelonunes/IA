{
  "nbformat": 4,
  "nbformat_minor": 0,
  "metadata": {
    "colab": {
      "name": "LeonardoNunes Aula 8 .ipynb",
      "provenance": []
    },
    "kernelspec": {
      "name": "python3",
      "display_name": "Python 3"
    },
    "language_info": {
      "name": "python"
    }
  },
  "cells": [
    {
      "cell_type": "code",
      "metadata": {
        "id": "z6Qc_DOYIqzy"
      },
      "source": [
        "import pandas as pd\n",
        "dados = pd.read_csv(\"imoveis.csv\", sep = ';')    #Importando Pandas e arquivo CSV\n"
      ],
      "execution_count": null,
      "outputs": []
    },
    {
      "cell_type": "code",
      "metadata": {
        "id": "sFNE1g3wJuKc"
      },
      "source": [
        "# Pandas Options\n",
        "#https://pandas.pydata.org/pandas-docs/version/1.2.4/user_guide/options.html\n"
      ],
      "execution_count": null,
      "outputs": []
    },
    {
      "cell_type": "code",
      "metadata": {
        "id": "Un3kyzY7J1sI"
      },
      "source": [
        "# Configurando separados de milhar para float\n",
        "pd.__version__\n",
        "pd.options.display.float_format = '{:,.2f}'.format"
      ],
      "execution_count": null,
      "outputs": []
    },
    {
      "cell_type": "code",
      "metadata": {
        "colab": {
          "base_uri": "https://localhost:8080/",
          "height": 266
        },
        "id": "G9KS35uwKY-0",
        "outputId": "6951f3f4-efcf-4ab7-a874-2de81a4395cd"
      },
      "source": [
        "# descrição estatística do dataframe\n",
        "labels = ['count', 'mean', 'min', 'max', '25%', '50%',\"75%\"]\n",
        "dados.describe().loc[labels]"
      ],
      "execution_count": null,
      "outputs": [
        {
          "output_type": "execute_result",
          "data": {
            "text/html": [
              "<div>\n",
              "<style scoped>\n",
              "    .dataframe tbody tr th:only-of-type {\n",
              "        vertical-align: middle;\n",
              "    }\n",
              "\n",
              "    .dataframe tbody tr th {\n",
              "        vertical-align: top;\n",
              "    }\n",
              "\n",
              "    .dataframe thead th {\n",
              "        text-align: right;\n",
              "    }\n",
              "</style>\n",
              "<table border=\"1\" class=\"dataframe\">\n",
              "  <thead>\n",
              "    <tr style=\"text-align: right;\">\n",
              "      <th></th>\n",
              "      <th>Quartos</th>\n",
              "      <th>Vagas</th>\n",
              "      <th>Suites</th>\n",
              "      <th>Area</th>\n",
              "      <th>Valor</th>\n",
              "      <th>Condominio</th>\n",
              "      <th>IPTU</th>\n",
              "    </tr>\n",
              "  </thead>\n",
              "  <tbody>\n",
              "    <tr>\n",
              "      <th>count</th>\n",
              "      <td>32,960.00</td>\n",
              "      <td>32,960.00</td>\n",
              "      <td>32,960.00</td>\n",
              "      <td>32,960.00</td>\n",
              "      <td>32,943.00</td>\n",
              "      <td>28,867.00</td>\n",
              "      <td>22,723.00</td>\n",
              "    </tr>\n",
              "    <tr>\n",
              "      <th>mean</th>\n",
              "      <td>1.77</td>\n",
              "      <td>1.75</td>\n",
              "      <td>0.67</td>\n",
              "      <td>231.90</td>\n",
              "      <td>12,952.66</td>\n",
              "      <td>2,388.06</td>\n",
              "      <td>2,364.41</td>\n",
              "    </tr>\n",
              "    <tr>\n",
              "      <th>min</th>\n",
              "      <td>0.00</td>\n",
              "      <td>0.00</td>\n",
              "      <td>0.00</td>\n",
              "      <td>0.00</td>\n",
              "      <td>75.00</td>\n",
              "      <td>1.00</td>\n",
              "      <td>1.00</td>\n",
              "    </tr>\n",
              "    <tr>\n",
              "      <th>max</th>\n",
              "      <td>100.00</td>\n",
              "      <td>1,966.00</td>\n",
              "      <td>70.00</td>\n",
              "      <td>90,000.00</td>\n",
              "      <td>120,000,000.00</td>\n",
              "      <td>6,552,570.00</td>\n",
              "      <td>27,053,070.00</td>\n",
              "    </tr>\n",
              "    <tr>\n",
              "      <th>25%</th>\n",
              "      <td>0.00</td>\n",
              "      <td>0.00</td>\n",
              "      <td>0.00</td>\n",
              "      <td>55.00</td>\n",
              "      <td>1,500.00</td>\n",
              "      <td>590.00</td>\n",
              "      <td>110.00</td>\n",
              "    </tr>\n",
              "    <tr>\n",
              "      <th>50%</th>\n",
              "      <td>2.00</td>\n",
              "      <td>1.00</td>\n",
              "      <td>0.00</td>\n",
              "      <td>87.00</td>\n",
              "      <td>2,800.00</td>\n",
              "      <td>990.00</td>\n",
              "      <td>250.00</td>\n",
              "    </tr>\n",
              "    <tr>\n",
              "      <th>75%</th>\n",
              "      <td>3.00</td>\n",
              "      <td>2.00</td>\n",
              "      <td>1.00</td>\n",
              "      <td>170.00</td>\n",
              "      <td>6,500.00</td>\n",
              "      <td>1,800.00</td>\n",
              "      <td>697.00</td>\n",
              "    </tr>\n",
              "  </tbody>\n",
              "</table>\n",
              "</div>"
            ],
            "text/plain": [
              "        Quartos     Vagas    Suites  ...          Valor   Condominio          IPTU\n",
              "count 32,960.00 32,960.00 32,960.00  ...      32,943.00    28,867.00     22,723.00\n",
              "mean       1.77      1.75      0.67  ...      12,952.66     2,388.06      2,364.41\n",
              "min        0.00      0.00      0.00  ...          75.00         1.00          1.00\n",
              "max      100.00  1,966.00     70.00  ... 120,000,000.00 6,552,570.00 27,053,070.00\n",
              "25%        0.00      0.00      0.00  ...       1,500.00       590.00        110.00\n",
              "50%        2.00      1.00      0.00  ...       2,800.00       990.00        250.00\n",
              "75%        3.00      2.00      1.00  ...       6,500.00     1,800.00        697.00\n",
              "\n",
              "[7 rows x 7 columns]"
            ]
          },
          "metadata": {},
          "execution_count": 4
        }
      ]
    },
    {
      "cell_type": "code",
      "metadata": {
        "id": "_ucEEeHqKxcC"
      },
      "source": [
        "# Métodos de Detecção de Outliers\n",
        "### Boxplot ou Diagrama de Caixa\n",
        "\n",
        "# Duas das principais características de um box plot é a possibilidade de identificar \n",
        "# a simetria ou assimetria do conjunto de dados e a presença de outliers.\n"
      ],
      "execution_count": null,
      "outputs": []
    },
    {
      "cell_type": "code",
      "metadata": {
        "id": "S1Ed8xKiKyR1"
      },
      "source": [
        "import matplotlib.pyplot as plt    #importando matplotlib.pylot e numpy \n",
        "%matplotlib inline\n",
        "import numpy as np"
      ],
      "execution_count": null,
      "outputs": []
    },
    {
      "cell_type": "code",
      "metadata": {
        "colab": {
          "base_uri": "https://localhost:8080/",
          "height": 500
        },
        "id": "ZzS9gSwBK5Qk",
        "outputId": "6ac38c5b-9998-44c9-a248-9b63bb9bca15"
      },
      "source": [
        "np.random.seed(2231)                                                           #Aplicando random.seed para geração de numeros aleatorios passando como seed 2231, Localizando alinha em bloxpot\n",
        "df = pd.DataFrame(np.random.randn(10, 4),\n",
        "                 columns = ['Coluna 1', 'Coluna 2', 'Coluna 3', 'Coluna 4']\n",
        "                 )\n",
        "\n",
        "plt.rc('figure', figsize = (16, 8))\n",
        "df.boxplot(column = 'Coluna 1',\n",
        "            grid=False)"
      ],
      "execution_count": null,
      "outputs": [
        {
          "output_type": "execute_result",
          "data": {
            "text/plain": [
              "<matplotlib.axes._subplots.AxesSubplot at 0x7f147a0aeb90>"
            ]
          },
          "metadata": {},
          "execution_count": 27
        },
        {
          "output_type": "display_data",
          "data": {
            "image/png": "[encoded data removed]",
            "text/plain": [
              "<Figure size 1152x576 with 1 Axes>"
            ]
          },
          "metadata": {
            "needs_background": "light"
          }
        }
      ]
    },
    {
      "cell_type": "code",
      "metadata": {
        "colab": {
          "base_uri": "https://localhost:8080/",
          "height": 632
        },
        "id": "QMujoap9K_T-",
        "outputId": "1525dd2e-fc46-459c-c073-a13973706399"
      },
      "source": [
        "### Exemplo com agrupamento de campos\n",
        "\n",
        "# lista de meses\n",
        "meses = ['Abril','Abril','Abril','Abril', 'Maio', 'Maio', 'Maio', 'Junho', 'Junho', 'Junho','Junho']\n",
        "# lista de preços\n",
        "preços = [4, 1, 9, 2, 2, 4, 5, 7, 6, 1, 2]\n",
        "\n",
        "df = pd.DataFrame({'Mês' : meses, \n",
        "                   'Preços' : preços})\n",
        "\n",
        "boxplot = df.boxplot(column = ['Preços'], \n",
        "                     by = 'Mês',\n",
        "                     fontsize = 18,\n",
        "                     rot = 45,\n",
        "                     grid = False)"
      ],
      "execution_count": null,
      "outputs": [
        {
          "output_type": "stream",
          "name": "stderr",
          "text": [
            "/usr/local/lib/python3.7/dist-packages/numpy/core/_asarray.py:83: VisibleDeprecationWarning: Creating an ndarray from ragged nested sequences (which is a list-or-tuple of lists-or-tuples-or ndarrays with different lengths or shapes) is deprecated. If you meant to do this, you must specify 'dtype=object' when creating the ndarray\n",
            "  return array(a, dtype, copy=False, order=order)\n"
          ]
        },
        {
          "output_type": "display_data",
          "data": {
            "image/png": "[encoded data removed]",
            "text/plain": [
              "<Figure size 1152x576 with 1 Axes>"
            ]
          },
          "metadata": {
            "needs_background": "light"
          }
        }
      ]
    },
    {
      "cell_type": "code",
      "metadata": {
        "colab": {
          "base_uri": "https://localhost:8080/",
          "height": 763
        },
        "id": "VCW3jtpvLLMm",
        "outputId": "edc0a207-25dc-4899-c23e-0eb8020c933c"
      },
      "source": [
        "### Histograma\n",
        "# Gráfico de barras que demonstra uma distribuição de frequências.\n",
        "# A base de cada barra representa uma classe e a altera a quantidade ou frequência absoluta\n",
        "# com que o valor de cada classe ocorre.\n",
        "\n",
        "# inicia o gerador de números aleatórios do Numpy\n",
        "np.random.seed(4321)\n",
        "\n",
        "# criando o Data Frame\n",
        "df = pd.DataFrame(np.random.randint(0, 10, (10, 4)),\n",
        "                  columns=['Coluna 1', 'Coluna 2', 'Coluna 3', 'Coluna 4'])\n",
        "\n",
        "ax = df.hist()\n",
        "\n",
        "hist = df.hist(column = \"Coluna 2\", \n",
        "               bins=5, \n",
        "               figsize=(6, 4))\n"
      ],
      "execution_count": null,
      "outputs": [
        {
          "output_type": "display_data",
          "data": {
            "image/png": "[encoded data removed]",
            "text/plain": [
              "<Figure size 1152x576 with 4 Axes>"
            ]
          },
          "metadata": {
            "needs_background": "light"
          }
        },
        {
          "output_type": "display_data",
          "data": {
            "image/png": "[encoded data removed]",
            "text/plain": [
              "<Figure size 432x288 with 1 Axes>"
            ]
          },
          "metadata": {
            "needs_background": "light"
          }
        }
      ]
    },
    {
      "cell_type": "code",
      "metadata": {
        "id": "HXZQwa_DLT0F"
      },
      "source": [
        "# exemplo com notas\n",
        "media, desvio, linhas = 5, 1.47, 1000\n",
        "\n",
        "notas = pd.Series(np.random.normal(media, desvio, linhas).round(2))\n"
      ],
      "execution_count": null,
      "outputs": []
    },
    {
      "cell_type": "code",
      "metadata": {
        "colab": {
          "base_uri": "https://localhost:8080/",
          "height": 513
        },
        "id": "bMkpBPaJLWzl",
        "outputId": "02016e77-0ba6-479f-968e-6aa2d23e3535"
      },
      "source": [
        "# Kernel Density Estimation\n",
        "notas.plot.kde()\n",
        "\n",
        "notas.plot.hist(grid=True, bins=10, rwidth=0.9,\n",
        "                   color='#607c8e')\n",
        "\n",
        "plt.title('Distruibuição das Notas')\n",
        "plt.xlabel('Notas')\n",
        "plt.ylabel('Alunos')\n",
        "plt.grid(axis='x', alpha=0.75)"
      ],
      "execution_count": null,
      "outputs": [
        {
          "output_type": "display_data",
          "data": {
            "image/png": "[encoded data removed]",
            "text/plain": [
              "<Figure size 1152x576 with 1 Axes>"
            ]
          },
          "metadata": {
            "needs_background": "light"
          }
        }
      ]
    },
    {
      "cell_type": "code",
      "metadata": {
        "colab": {
          "base_uri": "https://localhost:8080/",
          "height": 634
        },
        "id": "rKwD_SMFLoCN",
        "outputId": "af6321d4-79a5-4335-d5a4-84ae7ba18772"
      },
      "source": [
        "# De volta ao imóveis\n",
        "dados = pd.read_csv(\"imoveis.csv\", sep=';')\n",
        "\n",
        "# boxplot\n",
        "plt.rc('figure', figsize = (12, 6))\n",
        "dados.boxplot(['Valor'])\n",
        "\n",
        "\n",
        "dados[dados['Valor'] >= 1000000]\n"
      ],
      "execution_count": null,
      "outputs": [
        {
          "output_type": "execute_result",
          "data": {
            "text/html": [
              "<div>\n",
              "<style scoped>\n",
              "    .dataframe tbody tr th:only-of-type {\n",
              "        vertical-align: middle;\n",
              "    }\n",
              "\n",
              "    .dataframe tbody tr th {\n",
              "        vertical-align: top;\n",
              "    }\n",
              "\n",
              "    .dataframe thead th {\n",
              "        text-align: right;\n",
              "    }\n",
              "</style>\n",
              "<table border=\"1\" class=\"dataframe\">\n",
              "  <thead>\n",
              "    <tr style=\"text-align: right;\">\n",
              "      <th></th>\n",
              "      <th>Tipo</th>\n",
              "      <th>Bairro</th>\n",
              "      <th>Quartos</th>\n",
              "      <th>Vagas</th>\n",
              "      <th>Suites</th>\n",
              "      <th>Area</th>\n",
              "      <th>Valor</th>\n",
              "      <th>Condominio</th>\n",
              "      <th>IPTU</th>\n",
              "    </tr>\n",
              "  </thead>\n",
              "  <tbody>\n",
              "    <tr>\n",
              "      <th>4595</th>\n",
              "      <td>Galpão/Depósito/Armazém</td>\n",
              "      <td>Irajá</td>\n",
              "      <td>0</td>\n",
              "      <td>5</td>\n",
              "      <td>0</td>\n",
              "      <td>1100</td>\n",
              "      <td>15,000,000.00</td>\n",
              "      <td>nan</td>\n",
              "      <td>1,000.00</td>\n",
              "    </tr>\n",
              "    <tr>\n",
              "      <th>5592</th>\n",
              "      <td>Prédio Inteiro</td>\n",
              "      <td>Jacarepaguá</td>\n",
              "      <td>0</td>\n",
              "      <td>15</td>\n",
              "      <td>0</td>\n",
              "      <td>1200</td>\n",
              "      <td>120,000,000.00</td>\n",
              "      <td>nan</td>\n",
              "      <td>10,000.00</td>\n",
              "    </tr>\n",
              "    <tr>\n",
              "      <th>21024</th>\n",
              "      <td>Apartamento</td>\n",
              "      <td>Recreio dos Bandeirantes</td>\n",
              "      <td>3</td>\n",
              "      <td>2</td>\n",
              "      <td>1</td>\n",
              "      <td>167</td>\n",
              "      <td>1,250,000.00</td>\n",
              "      <td>1,186.00</td>\n",
              "      <td>320.00</td>\n",
              "    </tr>\n",
              "    <tr>\n",
              "      <th>23491</th>\n",
              "      <td>Apartamento</td>\n",
              "      <td>Botafogo</td>\n",
              "      <td>4</td>\n",
              "      <td>1</td>\n",
              "      <td>1</td>\n",
              "      <td>300</td>\n",
              "      <td>4,500,000.00</td>\n",
              "      <td>1,100.00</td>\n",
              "      <td>nan</td>\n",
              "    </tr>\n",
              "    <tr>\n",
              "      <th>25632</th>\n",
              "      <td>Prédio Inteiro</td>\n",
              "      <td>Humaitá</td>\n",
              "      <td>0</td>\n",
              "      <td>96</td>\n",
              "      <td>0</td>\n",
              "      <td>8279</td>\n",
              "      <td>1,324,640.00</td>\n",
              "      <td>165,580.00</td>\n",
              "      <td>96,889.00</td>\n",
              "    </tr>\n",
              "    <tr>\n",
              "      <th>26327</th>\n",
              "      <td>Conjunto Comercial/Sala</td>\n",
              "      <td>Caju</td>\n",
              "      <td>0</td>\n",
              "      <td>0</td>\n",
              "      <td>0</td>\n",
              "      <td>10660</td>\n",
              "      <td>1,279,200.00</td>\n",
              "      <td>nan</td>\n",
              "      <td>nan</td>\n",
              "    </tr>\n",
              "    <tr>\n",
              "      <th>28047</th>\n",
              "      <td>Prédio Inteiro</td>\n",
              "      <td>Humaitá</td>\n",
              "      <td>0</td>\n",
              "      <td>96</td>\n",
              "      <td>0</td>\n",
              "      <td>8279</td>\n",
              "      <td>1,076,270.00</td>\n",
              "      <td>nan</td>\n",
              "      <td>nan</td>\n",
              "    </tr>\n",
              "  </tbody>\n",
              "</table>\n",
              "</div>"
            ],
            "text/plain": [
              "                          Tipo                    Bairro  ...  Condominio      IPTU\n",
              "4595   Galpão/Depósito/Armazém                     Irajá  ...         nan  1,000.00\n",
              "5592            Prédio Inteiro               Jacarepaguá  ...         nan 10,000.00\n",
              "21024              Apartamento  Recreio dos Bandeirantes  ...    1,186.00    320.00\n",
              "23491              Apartamento                  Botafogo  ...    1,100.00       nan\n",
              "25632           Prédio Inteiro                   Humaitá  ...  165,580.00 96,889.00\n",
              "26327  Conjunto Comercial/Sala                      Caju  ...         nan       nan\n",
              "28047           Prédio Inteiro                   Humaitá  ...         nan       nan\n",
              "\n",
              "[7 rows x 9 columns]"
            ]
          },
          "metadata": {},
          "execution_count": 15
        },
        {
          "output_type": "display_data",
          "data": {
            "image/png": "[encoded data removed]",
            "text/plain": [
              "<Figure size 864x432 with 1 Axes>"
            ]
          },
          "metadata": {
            "needs_background": "light"
          }
        }
      ]
    },
    {
      "cell_type": "code",
      "metadata": {
        "colab": {
          "base_uri": "https://localhost:8080/"
        },
        "id": "pxjpOQe6Lrnk",
        "outputId": "573e2702-8b1d-4c68-ef79-7d80aae1338e"
      },
      "source": [
        "# Primeiros testes removendo Outliers\n",
        "valor = dados['Valor']\n",
        "valor\n"
      ],
      "execution_count": null,
      "outputs": [
        {
          "output_type": "execute_result",
          "data": {
            "text/plain": [
              "0       1,700.00\n",
              "1       7,000.00\n",
              "2       5,200.00\n",
              "3         800.00\n",
              "4         800.00\n",
              "          ...   \n",
              "32955     800.00\n",
              "32956   1,800.00\n",
              "32957   1,400.00\n",
              "32958   3,000.00\n",
              "32959   6,500.00\n",
              "Name: Valor, Length: 32960, dtype: float64"
            ]
          },
          "metadata": {},
          "execution_count": 16
        }
      ]
    },
    {
      "cell_type": "code",
      "metadata": {
        "id": "3ZezS0hpLu0c"
      },
      "source": [
        "# Utilizando Quartis\n",
        "#\n",
        "# Na estatística descritiva, um quartil é qualquer um dos três valores que divide o conjunto ordenado \n",
        "# de dados em quatro partes iguais, e assim cada parte representa 1/4 da amostra ou população.\n",
        "# Assim, no caso duma amostra ordenada,\n",
        "# - primeiro quartil (designado por Q1/4) = quartil inferior = é o valor aos 25% da amostra ordenada = 25º percentil\n",
        "# - segundo quartil (designado por Q2/4) = mediana = é o valor até ao qual se encontra 50% da amostra ordenada = 50º percentil, ou 5º decil.\n",
        "# - terceiro quartil (designado por Q3/4) = quartil superior = valor a partir do qual se encontram 25% dos valores mais elevados = valor aos 75% da amostra ordenada = 75º percentil\n",
        "# A diferença entre os quartis superior e inferior chama-se amplitude inter-quartil."
      ],
      "execution_count": null,
      "outputs": []
    },
    {
      "cell_type": "code",
      "metadata": {
        "colab": {
          "base_uri": "https://localhost:8080/"
        },
        "id": "-jsyQN6JLx9T",
        "outputId": "51abf38e-d21c-4084-8bb4-10d04864dc55"
      },
      "source": [
        "# Calculando\n",
        "\n",
        "# primeiro quartil\n",
        "Q1 = valor.quantile(.25)\n",
        "Q1"
      ],
      "execution_count": null,
      "outputs": [
        {
          "output_type": "execute_result",
          "data": {
            "text/plain": [
              "1500.0"
            ]
          },
          "metadata": {},
          "execution_count": 18
        }
      ]
    },
    {
      "cell_type": "code",
      "metadata": {
        "colab": {
          "base_uri": "https://localhost:8080/"
        },
        "id": "27Iao9FXLz6j",
        "outputId": "d39d0ee0-2d37-457c-c73c-595f42055bc9"
      },
      "source": [
        "# terceiro quartil\n",
        "Q3 = valor.quantile(.75)\n",
        "Q3\n"
      ],
      "execution_count": null,
      "outputs": [
        {
          "output_type": "execute_result",
          "data": {
            "text/plain": [
              "6500.0"
            ]
          },
          "metadata": {},
          "execution_count": 19
        }
      ]
    },
    {
      "cell_type": "code",
      "metadata": {
        "colab": {
          "base_uri": "https://localhost:8080/"
        },
        "id": "kAlWpWjaL1jz",
        "outputId": "83e1a44a-9b1c-46cf-f5b5-1b061b7e6815"
      },
      "source": [
        "# cálculo do intervalo interquartil\n",
        "IIQ = Q3 - Q1\n",
        "IIQ"
      ],
      "execution_count": null,
      "outputs": [
        {
          "output_type": "execute_result",
          "data": {
            "text/plain": [
              "5000.0"
            ]
          },
          "metadata": {},
          "execution_count": 20
        }
      ]
    },
    {
      "cell_type": "code",
      "metadata": {
        "colab": {
          "base_uri": "https://localhost:8080/"
        },
        "id": "qCOMzJ87L4-d",
        "outputId": "773ace58-b7a5-46aa-c644-b2968096ab01"
      },
      "source": [
        "limite_inferior = 1.5 * IIQ - Q1     \n",
        "limite_inferior"
      ],
      "execution_count": null,
      "outputs": [
        {
          "output_type": "execute_result",
          "data": {
            "text/plain": [
              "6000.0"
            ]
          },
          "metadata": {},
          "execution_count": 21
        }
      ]
    },
    {
      "cell_type": "code",
      "metadata": {
        "colab": {
          "base_uri": "https://localhost:8080/"
        },
        "id": "gJbRuml_L7Ms",
        "outputId": "80c1d998-53f8-4195-8834-67b77b17c6d6"
      },
      "source": [
        "limite_superior = 1.5 * IIQ + Q3\n",
        "limite_superior\n"
      ],
      "execution_count": null,
      "outputs": [
        {
          "output_type": "execute_result",
          "data": {
            "text/plain": [
              "14000.0"
            ]
          },
          "metadata": {},
          "execution_count": 22
        }
      ]
    },
    {
      "cell_type": "code",
      "metadata": {
        "colab": {
          "base_uri": "https://localhost:8080/",
          "height": 391
        },
        "id": "TXtVMPYIL8Ou",
        "outputId": "280f8aa1-05c9-46a1-f426-2d5f244fe3e1"
      },
      "source": [
        "# dataframe com os outliers removidos\n",
        "selecao = (valor >= limite_inferior) & (valor <= limite_superior)\n",
        "dados_novo = dados[selecao]\n",
        "dados_novo\n",
        "\n",
        "dados_novo.boxplot(['Valor'])\n"
      ],
      "execution_count": null,
      "outputs": [
        {
          "output_type": "execute_result",
          "data": {
            "text/plain": [
              "<matplotlib.axes._subplots.AxesSubplot at 0x7f147a1ea710>"
            ]
          },
          "metadata": {},
          "execution_count": 26
        },
        {
          "output_type": "display_data",
          "data": {
            "image/png": "[encoded data removed]",
            "text/plain": [
              "<Figure size 864x432 with 1 Axes>"
            ]
          },
          "metadata": {
            "needs_background": "light"
          }
        }
      ]
    }
  ]
}