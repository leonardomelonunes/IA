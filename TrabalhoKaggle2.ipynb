{
  "nbformat": 4,
  "nbformat_minor": 0,
  "metadata": {
    "colab": {
      "name": "TrabalhoKaggle.ipynb",
      "provenance": [],
      "collapsed_sections": []
    },
    "kernelspec": {
      "name": "python3",
      "display_name": "Python 3"
    },
    "language_info": {
      "name": "python"
    }
  },
  "cells": [
    {
      "cell_type": "markdown",
      "metadata": {
        "id": "RCTldcvibkgr"
      },
      "source": [
        "# Carregar Dados"
      ]
    },
    {
      "cell_type": "code",
      "metadata": {
        "id": "SB4Xtoi1OPFR",
        "colab": {
          "base_uri": "https://localhost:8080/"
        },
        "outputId": "119f4e51-6a59-4c39-9c45-763d24b00044"
      },
      "source": [
        "from google.colab import drive\n",
        "drive.mount(\"/content/gdrive\")"
      ],
      "execution_count": 1,
      "outputs": [
        {
          "output_type": "stream",
          "name": "stdout",
          "text": [
            "Mounted at /content/gdrive\n"
          ]
        }
      ]
    },
    {
      "cell_type": "code",
      "metadata": {
        "id": "04yjg9jGPYo3"
      },
      "source": [
        "import pandas as pd"
      ],
      "execution_count": 2,
      "outputs": []
    },
    {
      "cell_type": "code",
      "metadata": {
        "id": "Cwt3bMBJPj7B"
      },
      "source": [
        "df = pd.read_csv(\"/content/gdrive/MyDrive/Colab Notebooks/gender_classification_v7.csv\")"
      ],
      "execution_count": 3,
      "outputs": []
    },
    {
      "cell_type": "code",
      "metadata": {
        "colab": {
          "base_uri": "https://localhost:8080/",
          "height": 363
        },
        "id": "_HMDMbEoQf6B",
        "outputId": "538fd939-b38f-4dee-9534-27a740699842"
      },
      "source": [
        "df.head(10)"
      ],
      "execution_count": 4,
      "outputs": [
        {
          "output_type": "execute_result",
          "data": {
            "text/html": [
              "<div>\n",
              "<style scoped>\n",
              "    .dataframe tbody tr th:only-of-type {\n",
              "        vertical-align: middle;\n",
              "    }\n",
              "\n",
              "    .dataframe tbody tr th {\n",
              "        vertical-align: top;\n",
              "    }\n",
              "\n",
              "    .dataframe thead th {\n",
              "        text-align: right;\n",
              "    }\n",
              "</style>\n",
              "<table border=\"1\" class=\"dataframe\">\n",
              "  <thead>\n",
              "    <tr style=\"text-align: right;\">\n",
              "      <th></th>\n",
              "      <th>long_hair</th>\n",
              "      <th>forehead_width_cm</th>\n",
              "      <th>forehead_height_cm</th>\n",
              "      <th>nose_wide</th>\n",
              "      <th>nose_long</th>\n",
              "      <th>lips_thin</th>\n",
              "      <th>distance_nose_to_lip_long</th>\n",
              "      <th>gender</th>\n",
              "    </tr>\n",
              "  </thead>\n",
              "  <tbody>\n",
              "    <tr>\n",
              "      <th>0</th>\n",
              "      <td>1</td>\n",
              "      <td>11.8</td>\n",
              "      <td>6.1</td>\n",
              "      <td>1</td>\n",
              "      <td>0</td>\n",
              "      <td>1</td>\n",
              "      <td>1</td>\n",
              "      <td>Male</td>\n",
              "    </tr>\n",
              "    <tr>\n",
              "      <th>1</th>\n",
              "      <td>0</td>\n",
              "      <td>14.0</td>\n",
              "      <td>5.4</td>\n",
              "      <td>0</td>\n",
              "      <td>0</td>\n",
              "      <td>1</td>\n",
              "      <td>0</td>\n",
              "      <td>Female</td>\n",
              "    </tr>\n",
              "    <tr>\n",
              "      <th>2</th>\n",
              "      <td>0</td>\n",
              "      <td>11.8</td>\n",
              "      <td>6.3</td>\n",
              "      <td>1</td>\n",
              "      <td>1</td>\n",
              "      <td>1</td>\n",
              "      <td>1</td>\n",
              "      <td>Male</td>\n",
              "    </tr>\n",
              "    <tr>\n",
              "      <th>3</th>\n",
              "      <td>0</td>\n",
              "      <td>14.4</td>\n",
              "      <td>6.1</td>\n",
              "      <td>0</td>\n",
              "      <td>1</td>\n",
              "      <td>1</td>\n",
              "      <td>1</td>\n",
              "      <td>Male</td>\n",
              "    </tr>\n",
              "    <tr>\n",
              "      <th>4</th>\n",
              "      <td>1</td>\n",
              "      <td>13.5</td>\n",
              "      <td>5.9</td>\n",
              "      <td>0</td>\n",
              "      <td>0</td>\n",
              "      <td>0</td>\n",
              "      <td>0</td>\n",
              "      <td>Female</td>\n",
              "    </tr>\n",
              "    <tr>\n",
              "      <th>5</th>\n",
              "      <td>1</td>\n",
              "      <td>13.0</td>\n",
              "      <td>6.8</td>\n",
              "      <td>1</td>\n",
              "      <td>1</td>\n",
              "      <td>1</td>\n",
              "      <td>1</td>\n",
              "      <td>Male</td>\n",
              "    </tr>\n",
              "    <tr>\n",
              "      <th>6</th>\n",
              "      <td>1</td>\n",
              "      <td>15.3</td>\n",
              "      <td>6.2</td>\n",
              "      <td>1</td>\n",
              "      <td>1</td>\n",
              "      <td>1</td>\n",
              "      <td>0</td>\n",
              "      <td>Male</td>\n",
              "    </tr>\n",
              "    <tr>\n",
              "      <th>7</th>\n",
              "      <td>0</td>\n",
              "      <td>13.0</td>\n",
              "      <td>5.2</td>\n",
              "      <td>0</td>\n",
              "      <td>0</td>\n",
              "      <td>0</td>\n",
              "      <td>0</td>\n",
              "      <td>Female</td>\n",
              "    </tr>\n",
              "    <tr>\n",
              "      <th>8</th>\n",
              "      <td>1</td>\n",
              "      <td>11.9</td>\n",
              "      <td>5.4</td>\n",
              "      <td>1</td>\n",
              "      <td>0</td>\n",
              "      <td>1</td>\n",
              "      <td>1</td>\n",
              "      <td>Female</td>\n",
              "    </tr>\n",
              "    <tr>\n",
              "      <th>9</th>\n",
              "      <td>1</td>\n",
              "      <td>12.1</td>\n",
              "      <td>5.4</td>\n",
              "      <td>0</td>\n",
              "      <td>0</td>\n",
              "      <td>0</td>\n",
              "      <td>0</td>\n",
              "      <td>Female</td>\n",
              "    </tr>\n",
              "  </tbody>\n",
              "</table>\n",
              "</div>"
            ],
            "text/plain": [
              "   long_hair  forehead_width_cm  ...  distance_nose_to_lip_long  gender\n",
              "0          1               11.8  ...                          1    Male\n",
              "1          0               14.0  ...                          0  Female\n",
              "2          0               11.8  ...                          1    Male\n",
              "3          0               14.4  ...                          1    Male\n",
              "4          1               13.5  ...                          0  Female\n",
              "5          1               13.0  ...                          1    Male\n",
              "6          1               15.3  ...                          0    Male\n",
              "7          0               13.0  ...                          0  Female\n",
              "8          1               11.9  ...                          1  Female\n",
              "9          1               12.1  ...                          0  Female\n",
              "\n",
              "[10 rows x 8 columns]"
            ]
          },
          "metadata": {},
          "execution_count": 4
        }
      ]
    },
    {
      "cell_type": "code",
      "metadata": {
        "colab": {
          "base_uri": "https://localhost:8080/"
        },
        "id": "Rd0v6dqpQytH",
        "outputId": "f05729d0-7869-47ae-b204-fed2b5515b84"
      },
      "source": [
        "df.shape"
      ],
      "execution_count": 5,
      "outputs": [
        {
          "output_type": "execute_result",
          "data": {
            "text/plain": [
              "(5001, 8)"
            ]
          },
          "metadata": {},
          "execution_count": 5
        }
      ]
    },
    {
      "cell_type": "markdown",
      "metadata": {
        "id": "qRJWLQK4bhW7"
      },
      "source": [
        "# Mapeamento"
      ]
    },
    {
      "cell_type": "code",
      "metadata": {
        "id": "fl4YJVG2bbrt"
      },
      "source": [
        "# Mapeamento de variáveis\n",
        "gender_map = {'Male': 0, 'Female': 1}\n",
        "\n",
        "# Add mapeamento\n",
        "df['gender'] = df['gender'].map(gender_map)"
      ],
      "execution_count": 6,
      "outputs": []
    },
    {
      "cell_type": "code",
      "metadata": {
        "colab": {
          "base_uri": "https://localhost:8080/",
          "height": 206
        },
        "id": "P7O1bdlZcTu7",
        "outputId": "4bdaedf1-b650-4b0e-a20d-7c0bc09e5c2f"
      },
      "source": [
        "# Verificando mapeamento\n",
        "df.head()"
      ],
      "execution_count": 7,
      "outputs": [
        {
          "output_type": "execute_result",
          "data": {
            "text/html": [
              "<div>\n",
              "<style scoped>\n",
              "    .dataframe tbody tr th:only-of-type {\n",
              "        vertical-align: middle;\n",
              "    }\n",
              "\n",
              "    .dataframe tbody tr th {\n",
              "        vertical-align: top;\n",
              "    }\n",
              "\n",
              "    .dataframe thead th {\n",
              "        text-align: right;\n",
              "    }\n",
              "</style>\n",
              "<table border=\"1\" class=\"dataframe\">\n",
              "  <thead>\n",
              "    <tr style=\"text-align: right;\">\n",
              "      <th></th>\n",
              "      <th>long_hair</th>\n",
              "      <th>forehead_width_cm</th>\n",
              "      <th>forehead_height_cm</th>\n",
              "      <th>nose_wide</th>\n",
              "      <th>nose_long</th>\n",
              "      <th>lips_thin</th>\n",
              "      <th>distance_nose_to_lip_long</th>\n",
              "      <th>gender</th>\n",
              "    </tr>\n",
              "  </thead>\n",
              "  <tbody>\n",
              "    <tr>\n",
              "      <th>0</th>\n",
              "      <td>1</td>\n",
              "      <td>11.8</td>\n",
              "      <td>6.1</td>\n",
              "      <td>1</td>\n",
              "      <td>0</td>\n",
              "      <td>1</td>\n",
              "      <td>1</td>\n",
              "      <td>0</td>\n",
              "    </tr>\n",
              "    <tr>\n",
              "      <th>1</th>\n",
              "      <td>0</td>\n",
              "      <td>14.0</td>\n",
              "      <td>5.4</td>\n",
              "      <td>0</td>\n",
              "      <td>0</td>\n",
              "      <td>1</td>\n",
              "      <td>0</td>\n",
              "      <td>1</td>\n",
              "    </tr>\n",
              "    <tr>\n",
              "      <th>2</th>\n",
              "      <td>0</td>\n",
              "      <td>11.8</td>\n",
              "      <td>6.3</td>\n",
              "      <td>1</td>\n",
              "      <td>1</td>\n",
              "      <td>1</td>\n",
              "      <td>1</td>\n",
              "      <td>0</td>\n",
              "    </tr>\n",
              "    <tr>\n",
              "      <th>3</th>\n",
              "      <td>0</td>\n",
              "      <td>14.4</td>\n",
              "      <td>6.1</td>\n",
              "      <td>0</td>\n",
              "      <td>1</td>\n",
              "      <td>1</td>\n",
              "      <td>1</td>\n",
              "      <td>0</td>\n",
              "    </tr>\n",
              "    <tr>\n",
              "      <th>4</th>\n",
              "      <td>1</td>\n",
              "      <td>13.5</td>\n",
              "      <td>5.9</td>\n",
              "      <td>0</td>\n",
              "      <td>0</td>\n",
              "      <td>0</td>\n",
              "      <td>0</td>\n",
              "      <td>1</td>\n",
              "    </tr>\n",
              "  </tbody>\n",
              "</table>\n",
              "</div>"
            ],
            "text/plain": [
              "   long_hair  forehead_width_cm  ...  distance_nose_to_lip_long  gender\n",
              "0          1               11.8  ...                          1       0\n",
              "1          0               14.0  ...                          0       1\n",
              "2          0               11.8  ...                          1       0\n",
              "3          0               14.4  ...                          1       0\n",
              "4          1               13.5  ...                          0       1\n",
              "\n",
              "[5 rows x 8 columns]"
            ]
          },
          "metadata": {},
          "execution_count": 7
        }
      ]
    },
    {
      "cell_type": "code",
      "metadata": {
        "colab": {
          "base_uri": "https://localhost:8080/"
        },
        "id": "E2EGmksedqLJ",
        "outputId": "a4e948d8-62a2-45c1-c2e1-00d032c365d9"
      },
      "source": [
        "#Conferir como os dados estão distribuídos\n",
        "num_true = len(df.loc[df['gender'] == True])\n",
        "num_false = len(df.loc[df['gender'] == False])\n",
        "\n",
        "print(\"Número de casos verdadeiros: {0} ({1:2.2f}%) \".format(num_true, (num_true/ (num_true + num_false)) * 100))\n",
        "print(\"Número de casos falsos: {0} ({1:2.2f}%) \".format(num_false, (num_false/ (num_true + num_false)) * 100))"
      ],
      "execution_count": 8,
      "outputs": [
        {
          "output_type": "stream",
          "name": "stdout",
          "text": [
            "Número de casos verdadeiros: 2501 (50.01%) \n",
            "Número de casos falsos: 2500 (49.99%) \n"
          ]
        }
      ]
    },
    {
      "cell_type": "markdown",
      "metadata": {
        "id": "Q3Ryk-_ffINg"
      },
      "source": [
        "## Spliting dos Dados"
      ]
    },
    {
      "cell_type": "code",
      "metadata": {
        "id": "-bAtBwapfLno"
      },
      "source": [
        "#scikit_learn\n",
        "from sklearn.model_selection import train_test_split"
      ],
      "execution_count": 9,
      "outputs": []
    },
    {
      "cell_type": "code",
      "metadata": {
        "id": "fUEj64dZfPIT"
      },
      "source": [
        "#selecionar variaveis preditoras\n",
        "atributos = ['long_hair', 'forehead_width_cm', 'forehead_height_cm','nose_wide', 'nose_long','lips_thin', 'distance_nose_to_lip_long' ]"
      ],
      "execution_count": 10,
      "outputs": []
    },
    {
      "cell_type": "code",
      "metadata": {
        "id": "bpyB5qwbfgIw"
      },
      "source": [
        "#variavel prevista (saída Y)\n",
        "atrib_prev = ['gender']"
      ],
      "execution_count": 11,
      "outputs": []
    },
    {
      "cell_type": "code",
      "metadata": {
        "id": "X_IVVoksfjZf"
      },
      "source": [
        "# Criar objetos X e Y\n",
        "X = df[atributos].values\n",
        "Y = df[atrib_prev].values"
      ],
      "execution_count": 12,
      "outputs": []
    },
    {
      "cell_type": "code",
      "metadata": {
        "colab": {
          "base_uri": "https://localhost:8080/"
        },
        "id": "1SvlCKSLfq2P",
        "outputId": "cd701225-9357-432c-e916-580ada799053"
      },
      "source": [
        "X[0]"
      ],
      "execution_count": 13,
      "outputs": [
        {
          "output_type": "execute_result",
          "data": {
            "text/plain": [
              "array([ 1. , 11.8,  6.1,  1. ,  0. ,  1. ,  1. ])"
            ]
          },
          "metadata": {},
          "execution_count": 13
        }
      ]
    },
    {
      "cell_type": "code",
      "metadata": {
        "colab": {
          "base_uri": "https://localhost:8080/"
        },
        "id": "tHWxP9jKfrMO",
        "outputId": "4275fa59-a01e-43bd-f200-93fb7abbb818"
      },
      "source": [
        "Y"
      ],
      "execution_count": 14,
      "outputs": [
        {
          "output_type": "execute_result",
          "data": {
            "text/plain": [
              "array([[0],\n",
              "       [1],\n",
              "       [0],\n",
              "       ...,\n",
              "       [1],\n",
              "       [1],\n",
              "       [0]])"
            ]
          },
          "metadata": {},
          "execution_count": 14
        }
      ]
    },
    {
      "cell_type": "code",
      "metadata": {
        "id": "AV03ngtxfvkG"
      },
      "source": [
        "# Definir a taxa do split\n",
        "split_test_size = 0.30"
      ],
      "execution_count": 15,
      "outputs": []
    },
    {
      "cell_type": "code",
      "metadata": {
        "id": "zq4u4GGufyzn"
      },
      "source": [
        "# Criar os dados de treino e teste\n",
        "X_treino, X_teste, Y_treino, Y_teste = train_test_split(X, Y, test_size = split_test_size, random_state=42)"
      ],
      "execution_count": 16,
      "outputs": []
    },
    {
      "cell_type": "code",
      "metadata": {
        "colab": {
          "base_uri": "https://localhost:8080/"
        },
        "id": "yqYs4OM2f12W",
        "outputId": "695ce298-5027-4440-e927-67e49a56a070"
      },
      "source": [
        "# Verificando se tá tudo ok\n",
        "print(\"{0:0.2f}% nos dados de treino\".format((len(X_treino)/len(df.index))*100))\n",
        "print(\"{0:0.2f}% nos dados de teste\".format((len(X_teste)/len(df.index))*100))"
      ],
      "execution_count": 17,
      "outputs": [
        {
          "output_type": "stream",
          "name": "stdout",
          "text": [
            "69.99% nos dados de treino\n",
            "30.01% nos dados de teste\n"
          ]
        }
      ]
    },
    {
      "cell_type": "markdown",
      "metadata": {
        "id": "2SqnfY0NgBTG"
      },
      "source": [
        "# Limpar Dados"
      ]
    },
    {
      "cell_type": "code",
      "metadata": {
        "colab": {
          "base_uri": "https://localhost:8080/"
        },
        "id": "iHH-hcmBgACe",
        "outputId": "791546fc-2922-409c-d6e8-b890c45ae5b6"
      },
      "source": [
        "df.isnull().values.any()"
      ],
      "execution_count": 18,
      "outputs": [
        {
          "output_type": "execute_result",
          "data": {
            "text/plain": [
              "False"
            ]
          },
          "metadata": {},
          "execution_count": 18
        }
      ]
    },
    {
      "cell_type": "code",
      "metadata": {
        "colab": {
          "base_uri": "https://localhost:8080/"
        },
        "id": "22wANEkfgGb-",
        "outputId": "f0031ebf-17f3-4b1d-9fee-8bada9f72152"
      },
      "source": [
        "# Verificando se há Nulos \n",
        "print(len(df.loc[df['long_hair']==None]))\n",
        "print(len(df.loc[df['forehead_width_cm']==None]))\n",
        "print(len(df.loc[df['forehead_height_cm']==None]))\n",
        "print(len(df.loc[df['nose_wide']==None]))\n",
        "print(len(df.loc[df['nose_long']==None]))\n",
        "print(len(df.loc[df['lips_thin']==None]))\n",
        "print(len(df.loc[df['distance_nose_to_lip_long']==None]))"
      ],
      "execution_count": 19,
      "outputs": [
        {
          "output_type": "stream",
          "name": "stdout",
          "text": [
            "0\n",
            "0\n",
            "0\n",
            "0\n",
            "0\n",
            "0\n",
            "0\n"
          ]
        }
      ]
    },
    {
      "cell_type": "code",
      "metadata": {
        "id": "673DBEiFgqgG"
      },
      "source": [
        "from sklearn.impute import SimpleImputer"
      ],
      "execution_count": 20,
      "outputs": []
    },
    {
      "cell_type": "code",
      "metadata": {
        "id": "WcRsFKGngvk4"
      },
      "source": [
        "# Criar o objeto e setar a estratégia\n",
        "preenche_0 = SimpleImputer(strategy='median')\n",
        "\n",
        "#Aplicar a estratégia\n",
        "X_treino = preenche_0.fit_transform(X_treino)\n",
        "X_teste = preenche_0.fit_transform(X_teste)"
      ],
      "execution_count": 21,
      "outputs": []
    },
    {
      "cell_type": "code",
      "metadata": {
        "colab": {
          "base_uri": "https://localhost:8080/"
        },
        "id": "KbLz3iZthJlW",
        "outputId": "be62ba06-11c0-479a-e408-d1ca28ad2b55"
      },
      "source": [
        "X_treino"
      ],
      "execution_count": 22,
      "outputs": [
        {
          "output_type": "execute_result",
          "data": {
            "text/plain": [
              "array([[ 1. , 15.1,  6.7, ...,  1. ,  1. ,  1. ],\n",
              "       [ 1. , 12.6,  5.1, ...,  0. ,  0. ,  0. ],\n",
              "       [ 1. , 11.9,  5.9, ...,  1. ,  1. ,  1. ],\n",
              "       ...,\n",
              "       [ 1. , 12. ,  5.9, ...,  0. ,  0. ,  0. ],\n",
              "       [ 1. , 12.8,  5.4, ...,  0. ,  0. ,  0. ],\n",
              "       [ 1. , 11.4,  5.5, ...,  0. ,  0. ,  0. ]])"
            ]
          },
          "metadata": {},
          "execution_count": 22
        }
      ]
    },
    {
      "cell_type": "code",
      "metadata": {
        "colab": {
          "base_uri": "https://localhost:8080/"
        },
        "id": "guvFjjNQitl0",
        "outputId": "f1338073-79f1-4dfb-94a4-7d7b7b6b7862"
      },
      "source": [
        "X_teste"
      ],
      "execution_count": 23,
      "outputs": [
        {
          "output_type": "execute_result",
          "data": {
            "text/plain": [
              "array([[ 1. , 13.2,  5.7, ...,  1. ,  1. ,  1. ],\n",
              "       [ 1. , 13.7,  6. , ...,  0. ,  0. ,  0. ],\n",
              "       [ 0. , 12.9,  5.3, ...,  0. ,  0. ,  1. ],\n",
              "       ...,\n",
              "       [ 0. , 12.3,  6.6, ...,  1. ,  0. ,  1. ],\n",
              "       [ 1. , 12.1,  5.7, ...,  1. ,  1. ,  1. ],\n",
              "       [ 1. , 14.7,  6.7, ...,  1. ,  0. ,  0. ]])"
            ]
          },
          "metadata": {},
          "execution_count": 23
        }
      ]
    },
    {
      "cell_type": "markdown",
      "metadata": {
        "id": "Yto11hAcmc2Q"
      },
      "source": [
        "# Utilizando o Random Forest"
      ]
    },
    {
      "cell_type": "code",
      "metadata": {
        "id": "_V7KFh1KnXUQ"
      },
      "source": [
        "# importando o metrics\n",
        "from sklearn import metrics"
      ],
      "execution_count": 29,
      "outputs": []
    },
    {
      "cell_type": "code",
      "metadata": {
        "id": "dG6E3tMKmkAo"
      },
      "source": [
        "# importando o Forest\n",
        "from sklearn.ensemble import RandomForestClassifier"
      ],
      "execution_count": 24,
      "outputs": []
    },
    {
      "cell_type": "code",
      "metadata": {
        "colab": {
          "base_uri": "https://localhost:8080/"
        },
        "id": "537TphqamuEo",
        "outputId": "55f76070-e423-4610-c6c4-ca78998416e8"
      },
      "source": [
        "# criando o modelo\n",
        "modelo_forest = RandomForestClassifier(random_state=42)\n",
        "modelo_forest.fit(X_treino,Y_treino.ravel())"
      ],
      "execution_count": 25,
      "outputs": [
        {
          "output_type": "execute_result",
          "data": {
            "text/plain": [
              "RandomForestClassifier(bootstrap=True, ccp_alpha=0.0, class_weight=None,\n",
              "                       criterion='gini', max_depth=None, max_features='auto',\n",
              "                       max_leaf_nodes=None, max_samples=None,\n",
              "                       min_impurity_decrease=0.0, min_impurity_split=None,\n",
              "                       min_samples_leaf=1, min_samples_split=2,\n",
              "                       min_weight_fraction_leaf=0.0, n_estimators=100,\n",
              "                       n_jobs=None, oob_score=False, random_state=42, verbose=0,\n",
              "                       warm_start=False)"
            ]
          },
          "metadata": {},
          "execution_count": 25
        }
      ]
    },
    {
      "cell_type": "code",
      "metadata": {
        "colab": {
          "base_uri": "https://localhost:8080/"
        },
        "id": "V2TgYX63m9gA",
        "outputId": "730a6286-2a21-4bc1-c8e2-36136f6ff294"
      },
      "source": [
        "# predicao de treino\n",
        "forest_predict_train = modelo_forest.predict(X_treino)\n",
        "forest_predict_train"
      ],
      "execution_count": 27,
      "outputs": [
        {
          "output_type": "execute_result",
          "data": {
            "text/plain": [
              "array([0, 1, 0, ..., 1, 1, 1])"
            ]
          },
          "metadata": {},
          "execution_count": 27
        }
      ]
    },
    {
      "cell_type": "code",
      "metadata": {
        "colab": {
          "base_uri": "https://localhost:8080/"
        },
        "id": "FU_fwc5lnHoR",
        "outputId": "2174bb8a-5fb2-4893-a2bb-0d870733a105"
      },
      "source": [
        "print('Exatidão (Acurácia) : {0:.4f}'.format(metrics.accuracy_score(Y_treino, forest_predict_train)))"
      ],
      "execution_count": 30,
      "outputs": [
        {
          "output_type": "stream",
          "name": "stdout",
          "text": [
            "Exatidão (Acurácia) : 0.9991\n"
          ]
        }
      ]
    },
    {
      "cell_type": "code",
      "metadata": {
        "colab": {
          "base_uri": "https://localhost:8080/"
        },
        "id": "l3eULyYHnMjI",
        "outputId": "e9d9d1cf-80bb-4fc5-f179-0d8b159f39c9"
      },
      "source": [
        "#predicao de test\n",
        "forest_predict_test = modelo_forest.predict(X_teste)\n",
        "forest_predict_test"
      ],
      "execution_count": 31,
      "outputs": [
        {
          "output_type": "execute_result",
          "data": {
            "text/plain": [
              "array([0, 1, 1, ..., 0, 0, 0])"
            ]
          },
          "metadata": {},
          "execution_count": 31
        }
      ]
    },
    {
      "cell_type": "code",
      "metadata": {
        "colab": {
          "base_uri": "https://localhost:8080/"
        },
        "id": "BkpddsJwnDeo",
        "outputId": "f14523dc-49c2-4a0b-a093-6b5e7aabcd92"
      },
      "source": [
        "print('Exatidão (Acurácia) : {0:.4f}'.format(metrics.accuracy_score(Y_teste, forest_predict_test)))"
      ],
      "execution_count": 32,
      "outputs": [
        {
          "output_type": "stream",
          "name": "stdout",
          "text": [
            "Exatidão (Acurácia) : 0.9627\n"
          ]
        }
      ]
    },
    {
      "cell_type": "markdown",
      "metadata": {
        "id": "1RO-ulJun50f"
      },
      "source": [
        "## Utilizando o GaussianNB"
      ]
    },
    {
      "cell_type": "code",
      "metadata": {
        "id": "jtBGFzj8n9UA"
      },
      "source": [
        "# importando o gaussian\n",
        "from sklearn.naive_bayes import  GaussianNB"
      ],
      "execution_count": 33,
      "outputs": []
    },
    {
      "cell_type": "code",
      "metadata": {
        "colab": {
          "base_uri": "https://localhost:8080/"
        },
        "id": "14yM_SSOoD5Y",
        "outputId": "25244b62-f4ec-4307-f212-ba23c1a6dd58"
      },
      "source": [
        "# criando o modelo\n",
        "modelo_gaussian = GaussianNB()\n",
        "modelo_gaussian.fit(X_treino,Y_treino.ravel())"
      ],
      "execution_count": 34,
      "outputs": [
        {
          "output_type": "execute_result",
          "data": {
            "text/plain": [
              "GaussianNB(priors=None, var_smoothing=1e-09)"
            ]
          },
          "metadata": {},
          "execution_count": 34
        }
      ]
    },
    {
      "cell_type": "code",
      "metadata": {
        "colab": {
          "base_uri": "https://localhost:8080/"
        },
        "id": "JXja5C9GoLeI",
        "outputId": "58a2f9f2-d693-4bbf-ef70-3c79089ae429"
      },
      "source": [
        "# predicao de treino\n",
        "gaussian_predict_train = modelo_gaussian.predict(X_treino)\n",
        "gaussian_predict_train"
      ],
      "execution_count": 35,
      "outputs": [
        {
          "output_type": "execute_result",
          "data": {
            "text/plain": [
              "array([0, 1, 0, ..., 1, 1, 1])"
            ]
          },
          "metadata": {},
          "execution_count": 35
        }
      ]
    },
    {
      "cell_type": "code",
      "metadata": {
        "colab": {
          "base_uri": "https://localhost:8080/"
        },
        "id": "xjJ6ugfGojSf",
        "outputId": "ed0570fa-7da2-4cdc-b8a4-c47943a4a72d"
      },
      "source": [
        "print('Exatidão (Acurácia) : {0:.4f}'.format(metrics.accuracy_score(Y_treino, gaussian_predict_train)))"
      ],
      "execution_count": 36,
      "outputs": [
        {
          "output_type": "stream",
          "name": "stdout",
          "text": [
            "Exatidão (Acurácia) : 0.9706\n"
          ]
        }
      ]
    },
    {
      "cell_type": "code",
      "metadata": {
        "colab": {
          "base_uri": "https://localhost:8080/"
        },
        "id": "sMcsHZc2onnX",
        "outputId": "f83121e2-e4f0-446a-9f76-6b37000df44f"
      },
      "source": [
        "# predicao de teste\n",
        "gaussian_predict_test = modelo_gaussian.predict(X_teste)\n",
        "gaussian_predict_test"
      ],
      "execution_count": 38,
      "outputs": [
        {
          "output_type": "execute_result",
          "data": {
            "text/plain": [
              "array([0, 1, 1, ..., 0, 0, 0])"
            ]
          },
          "metadata": {},
          "execution_count": 38
        }
      ]
    },
    {
      "cell_type": "code",
      "metadata": {
        "colab": {
          "base_uri": "https://localhost:8080/"
        },
        "id": "MYGsIJ_xovZf",
        "outputId": "4d955dfe-1987-4f6a-9421-eba7894fb0ca"
      },
      "source": [
        "print('Exatidão (Acurácia) : {0:.4f}'.format(metrics.accuracy_score(Y_teste, gaussian_predict_test)))"
      ],
      "execution_count": 39,
      "outputs": [
        {
          "output_type": "stream",
          "name": "stdout",
          "text": [
            "Exatidão (Acurácia) : 0.9654\n"
          ]
        }
      ]
    },
    {
      "cell_type": "markdown",
      "metadata": {
        "id": "-DrS20THpHAv"
      },
      "source": [
        "## Utilizando Support Vector Machines (SVM)"
      ]
    },
    {
      "cell_type": "code",
      "metadata": {
        "id": "UOU5OXj3pICA"
      },
      "source": [
        "# importando o svm\n",
        "from sklearn import svm"
      ],
      "execution_count": 40,
      "outputs": []
    },
    {
      "cell_type": "code",
      "metadata": {
        "colab": {
          "base_uri": "https://localhost:8080/"
        },
        "id": "rCZXJWxspLJ3",
        "outputId": "f92660cc-d96d-451d-c672-4dab615ae0d8"
      },
      "source": [
        "# criando o modelo\n",
        "modelo_svm = svm.SVC()\n",
        "modelo_svm.fit(X_treino, Y_treino)"
      ],
      "execution_count": 41,
      "outputs": [
        {
          "output_type": "stream",
          "name": "stderr",
          "text": [
            "/usr/local/lib/python3.7/dist-packages/sklearn/utils/validation.py:760: DataConversionWarning: A column-vector y was passed when a 1d array was expected. Please change the shape of y to (n_samples, ), for example using ravel().\n",
            "  y = column_or_1d(y, warn=True)\n"
          ]
        },
        {
          "output_type": "execute_result",
          "data": {
            "text/plain": [
              "SVC(C=1.0, break_ties=False, cache_size=200, class_weight=None, coef0=0.0,\n",
              "    decision_function_shape='ovr', degree=3, gamma='scale', kernel='rbf',\n",
              "    max_iter=-1, probability=False, random_state=None, shrinking=True,\n",
              "    tol=0.001, verbose=False)"
            ]
          },
          "metadata": {},
          "execution_count": 41
        }
      ]
    },
    {
      "cell_type": "code",
      "metadata": {
        "colab": {
          "base_uri": "https://localhost:8080/"
        },
        "id": "_d12wKPFpUoG",
        "outputId": "85e7e929-9aad-4399-f43e-5b684e84c684"
      },
      "source": [
        "# predicao de treino\n",
        "svm_treino_predict = modelo_svm.predict(X_treino)\n",
        "svm_treino_predict"
      ],
      "execution_count": 42,
      "outputs": [
        {
          "output_type": "execute_result",
          "data": {
            "text/plain": [
              "array([0, 1, 0, ..., 1, 1, 1])"
            ]
          },
          "metadata": {},
          "execution_count": 42
        }
      ]
    },
    {
      "cell_type": "code",
      "metadata": {
        "colab": {
          "base_uri": "https://localhost:8080/"
        },
        "id": "gZuZHjaepegW",
        "outputId": "cd3f7bf1-6223-41f2-9002-90515240fe2f"
      },
      "source": [
        "print('Exatidão (Acurácia) : {0:.4f}'.format(metrics.accuracy_score(Y_treino, svm_treino_predict)))"
      ],
      "execution_count": 43,
      "outputs": [
        {
          "output_type": "stream",
          "name": "stdout",
          "text": [
            "Exatidão (Acurácia) : 0.9709\n"
          ]
        }
      ]
    },
    {
      "cell_type": "code",
      "metadata": {
        "colab": {
          "base_uri": "https://localhost:8080/"
        },
        "id": "9uNz6MhipjiP",
        "outputId": "f50cdf31-015b-4207-d54e-2ea90c6ae5a1"
      },
      "source": [
        "# predicao de teste\n",
        "svm_test_predict = modelo_svm.predict(X_teste)\n",
        "svm_test_predict"
      ],
      "execution_count": 44,
      "outputs": [
        {
          "output_type": "execute_result",
          "data": {
            "text/plain": [
              "array([0, 1, 1, ..., 0, 0, 0])"
            ]
          },
          "metadata": {},
          "execution_count": 44
        }
      ]
    },
    {
      "cell_type": "code",
      "metadata": {
        "colab": {
          "base_uri": "https://localhost:8080/"
        },
        "id": "iu1SydmPpu3-",
        "outputId": "5a63dd2d-5adf-44c9-a792-33fab29b4e94"
      },
      "source": [
        "print('Exatidão (Acurácia) : {0:.4f}'.format(metrics.accuracy_score(Y_teste, svm_test_predict)))"
      ],
      "execution_count": 45,
      "outputs": [
        {
          "output_type": "stream",
          "name": "stdout",
          "text": [
            "Exatidão (Acurácia) : 0.9680\n"
          ]
        }
      ]
    },
    {
      "cell_type": "markdown",
      "metadata": {
        "id": "NY6S9kVYp1PO"
      },
      "source": [
        "# Comparação\n",
        "\n",
        "## Randon Forest:  \n",
        "\n",
        "\n",
        "*   Treino: 0.9991\n",
        "*   Teste: 0.9627\n",
        "\n",
        "\n",
        "## GaussianNB\n",
        "\n",
        "\n",
        "*   Treino: 0.9706\n",
        "*   Teste: 0.9654\n",
        "\n",
        "## Support Vector Machines \n",
        "\n",
        "\n",
        "*   Treino: 0.9709\n",
        "*   Teste: 0.9680\n",
        "\n",
        "\n",
        "\n"
      ]
    },
    {
      "cell_type": "markdown",
      "metadata": {
        "id": "fnzOHiGNq8tm"
      },
      "source": [
        "# Conclusão\n",
        "\n",
        "## O mais acurado nos treinos: Randon Forest\n",
        "## O mais acurado nos testes: Suport Vector Machines"
      ]
    },
    {
      "cell_type": "markdown",
      "metadata": {
        "id": "dRqeGBM9rRce"
      },
      "source": [
        "# Salvando o Modelo"
      ]
    },
    {
      "cell_type": "code",
      "metadata": {
        "id": "9hwCbVQWrWVW"
      },
      "source": [
        "import pickle"
      ],
      "execution_count": 46,
      "outputs": []
    },
    {
      "cell_type": "code",
      "metadata": {
        "id": "1CWMwEYKrX9d"
      },
      "source": [
        "# salvando o modelo svm\n",
        "file_name = 'modelo_treinado_svm.sav'\n",
        "pickle.dump(modelo_svm, open(file_name, 'wb'))"
      ],
      "execution_count": 47,
      "outputs": []
    },
    {
      "cell_type": "code",
      "metadata": {
        "id": "cAlGDBoGrr1l"
      },
      "source": [
        "# carregando o modelo\n",
        "carrega_modelo = pickle.load(open(file_name, 'rb'))"
      ],
      "execution_count": 51,
      "outputs": []
    },
    {
      "cell_type": "code",
      "metadata": {
        "colab": {
          "base_uri": "https://localhost:8080/"
        },
        "id": "JJkw4MwKsWvs",
        "outputId": "90493d1c-57bd-4df5-8477-0e59bdb9f96b"
      },
      "source": [
        "X_teste"
      ],
      "execution_count": 52,
      "outputs": [
        {
          "output_type": "execute_result",
          "data": {
            "text/plain": [
              "array([[ 1. , 13.2,  5.7, ...,  1. ,  1. ,  1. ],\n",
              "       [ 1. , 13.7,  6. , ...,  0. ,  0. ,  0. ],\n",
              "       [ 0. , 12.9,  5.3, ...,  0. ,  0. ,  1. ],\n",
              "       ...,\n",
              "       [ 0. , 12.3,  6.6, ...,  1. ,  0. ,  1. ],\n",
              "       [ 1. , 12.1,  5.7, ...,  1. ,  1. ,  1. ],\n",
              "       [ 1. , 14.7,  6.7, ...,  1. ,  0. ,  0. ]])"
            ]
          },
          "metadata": {},
          "execution_count": 52
        }
      ]
    },
    {
      "cell_type": "code",
      "metadata": {
        "colab": {
          "base_uri": "https://localhost:8080/"
        },
        "id": "DTeT75gar9_N",
        "outputId": "bda4ba93-cb76-4c41-b920-7a8615395a5f"
      },
      "source": [
        "nova_pessoa = carrega_modelo.predict(X_teste[2].reshape(1, -1))\n",
        "nova_pessoa"
      ],
      "execution_count": 55,
      "outputs": [
        {
          "output_type": "execute_result",
          "data": {
            "text/plain": [
              "array([1])"
            ]
          },
          "metadata": {},
          "execution_count": 55
        }
      ]
    }
  ]
}