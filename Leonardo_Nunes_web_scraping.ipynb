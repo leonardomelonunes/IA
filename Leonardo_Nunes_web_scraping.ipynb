{
  "nbformat": 4,
  "nbformat_minor": 0,
  "metadata": {
    "colab": {
      "name": "Leonardo Nunes - web-scraping.ipynb",
      "provenance": [],
      "collapsed_sections": []
    },
    "kernelspec": {
      "display_name": "Python 3",
      "language": "python",
      "name": "python3"
    },
    "language_info": {
      "codemirror_mode": {
        "name": "ipython",
        "version": 3
      },
      "file_extension": ".py",
      "mimetype": "text/x-python",
      "name": "python",
      "nbconvert_exporter": "python",
      "pygments_lexer": "ipython3",
      "version": "3.8.8"
    }
  },
  "cells": [
    {
      "cell_type": "markdown",
      "metadata": {
        "id": "UM3DKz2wwi_W"
      },
      "source": [
        "# Web Scraping com Python\n",
        "\n",
        "(Adaptado de https://www.kaggle.com/aliceadativa/web-scraping-com-python-parte-1)\n",
        "\n",
        "<br>\n",
        "\n",
        "Web Scraping é o termo utilizado para definir a prática de coletar automaticamente informações na Internet. Isto é feito, geralmente, por meio de programas que simulam a navegação humana na Web.\n",
        "<br><br>\n",
        "\n",
        "## Resumo\n",
        "\n",
        "Neste notebook, iremos conhecer o [Beautiful Soup](https://www.crummy.com/software/BeautifulSoup/bs4/doc/) e faremos alguns exemplos com HTML para entendemos o funcionamento desta biblioteca.\n",
        "\n",
        "<br>\n",
        "\n",
        "## Para saber mais:\n",
        "\n",
        "* Ryan Mitchell. Web Scraping com Python: Coletando Mais Dados da Web Moderna. Novatec Editora, 2019.\n",
        "* O que é Web Scraping? Para iniciantes - https://www.gocache.com.br/seguranca/o-que-e-web-scraping-para-iniciantes\n",
        "* Descubra o que é Web Scraping e como isso pode ajudar a sua estratégia digital - https://rockcontent.com/br/blog/web-scraping\n",
        "* Beautiful Soup: parseamento de html - https://medium.com/pyladiesbh/beautiful-soup-parseamento-de-html-337197a7d4b9\n",
        "* Web scraping com Python para preguiçosos (unindo BeautifulSoup e Selenium) — Parte 1 - https://medium.com/data-hackers/web-scraping-com-python-para-pregui%C3%A7osos-unindo-beautifulsoup-e-selenium-parte-1-9677fc5e2385"
      ]
    },
    {
      "cell_type": "markdown",
      "metadata": {
        "id": "RaIX4fRBwi_a"
      },
      "source": [
        "## 1) Explorando o HTML\n",
        "\n",
        "Para os exemplos a seguir, iremos utilizar o código HTML abaixo."
      ]
    },
    {
      "cell_type": "markdown",
      "metadata": {
        "id": "1cby2jW8wi_b"
      },
      "source": [
        "<html>\n",
        "    <head>\n",
        "        <title>Indicados e vencedores do Oscar em 2020</title>\n",
        "    </head>\n",
        "    <body>\n",
        "        <h1>Oscar 2020</h1>\n",
        "        <p>A maior premiação do cinema aconteceu em Fevereiro. Os destaques deste ano foram:</p>\n",
        "        <ul class=\"destaques\">\n",
        "            <li>Coringa</li>\n",
        "            <li>1917</li>\n",
        "            <li>Era Uma Vez em Hollywood</li>\n",
        "            <li>O Irlandês</li>\n",
        "        </ul>\n",
        "        <p>Veja abaixo os vencedores de 3 categorias.</p>\n",
        "        <div>\n",
        "            <div class=\"categoria-melhor-filme\">\n",
        "                <h2>Categoria: melhor filme</h2>\n",
        "                <ul>\n",
        "                    <li>Ford vs Ferrari</li>\n",
        "                    <li>O Irlandês</li>\n",
        "                    <li>JoJo Rabbit</li>\n",
        "                    <li>Coringa</li>\n",
        "                    <li>Adoráveis Mulheres</li>\n",
        "                    <li>História de um Casamento</li>\n",
        "                    <li>1917</li>\n",
        "                    <li>Era Uma Vez Em Hollywood</li>\n",
        "                    <li class=\"vencedor\">Parasita <strong>[VENCEDOR]</strong></li>\n",
        "                </ul>\n",
        "            </div>\n",
        "            <br>\n",
        "            <div class=\"categoria-melhor-ator\">\n",
        "                <h2>Categoria: melhor ator</h2>\n",
        "                <ul>\n",
        "                    <li>Antonio Banderas - Dor e Glória</li>\n",
        "                    <li>Leonardo DiCaprio - Era Uma Vez Em... Hollywood</li>\n",
        "                    <li>Adam Driver - História de um Casamento</li>\n",
        "                    <li class=\"vencedor\">Joaquin Phoenix - Coringa <strong>[VENCEDOR]</strong></li>\n",
        "                    <li>Jonathan Price - Dois Papas</li>\n",
        "                </ul>\n",
        "            </div>\n",
        "            <br>\n",
        "            <div class=\"categoria-melhor-atriz\">\n",
        "                <h2>Categoria: melhor atriz</h2>\n",
        "                <ul>\n",
        "                    <li>Cythia Erivo - Harriet</li>\n",
        "                    <li>Scarlett Johansson - História de um Casamento</li>\n",
        "                    <li>Saoirse Ronan - Adoráveis Mulheres</li>\n",
        "                    <li>Charlize Theron - O Escândalo</li>\n",
        "                    <li class=\"vencedor\">Renée Zellweger - Judy: Muito Além do Arco-Íris <strong>[VENCEDOR]</strong></li>\n",
        "                </ul>\n",
        "            </div>\n",
        "        </div>\n",
        "    </body>\n",
        "</html>"
      ]
    },
    {
      "cell_type": "code",
      "metadata": {
        "execution": {
          "iopub.execute_input": "2021-09-24T12:18:18.289988Z",
          "iopub.status.busy": "2021-09-24T12:18:18.289522Z",
          "iopub.status.idle": "2021-09-24T12:18:18.294973Z",
          "shell.execute_reply": "2021-09-24T12:18:18.294321Z",
          "shell.execute_reply.started": "2021-09-24T12:18:18.289957Z"
        },
        "id": "X3ytfg_uwi_c"
      },
      "source": [
        "html = \"\"\"\n",
        "<html>\n",
        "    <head>\n",
        "        <title>Indicados e vencedores do Oscar em 2020</title>\n",
        "    </head>\n",
        "    <body>\n",
        "        <h1>Oscar 2020</h1>\n",
        "        <p>A maior premiação do cinema aconteceu em Fevereiro. Os destaques deste ano foram:</p>\n",
        "        <ul class=\"destaques\">\n",
        "            <li>Coringa</li>\n",
        "            <li>1917</li>\n",
        "            <li>Era Uma Vez em Hollywood</li>\n",
        "            <li>O Irlandês</li>\n",
        "        </ul>\n",
        "        <p>Veja abaixo os vencedores de 3 categorias.</p>\n",
        "        <div>\n",
        "            <div class=\"categoria-melhor-filme\">\n",
        "                <h2>Categoria: melhor filme</h2>\n",
        "                <ul>\n",
        "                    <li>Ford vs Ferrari</li>\n",
        "                    <li>O Irlandês</li>\n",
        "                    <li>JoJo Rabbit</li>\n",
        "                    <li>Coringa</li>\n",
        "                    <li>Adoráveis Mulheres</li>\n",
        "                    <li>História de um Casamento</li>\n",
        "                    <li>1917</li>\n",
        "                    <li>Era Uma Vez Em Hollywood</li>\n",
        "                    <li class=\"vencedor\">Parasita <strong>[VENCEDOR]</strong></li>\n",
        "                </ul>\n",
        "            </div>\n",
        "            <br>\n",
        "            <div class=\"categoria-melhor-ator\">\n",
        "                <h2>Categoria: melhor ator</h2>\n",
        "                <ul>\n",
        "                    <li>Antonio Banderas - Dor e Glória</li>\n",
        "                    <li>Leonardo DiCaprio - Era Uma Vez Em... Hollywood</li>\n",
        "                    <li>Adam Driver - História de um Casamento</li>\n",
        "                    <li class=\"vencedor\">Joaquin Phoenix - Coringa <strong>[VENCEDOR]</strong></li>\n",
        "                    <li>Jonathan Price - Dois Papas</li>\n",
        "                </ul>\n",
        "            </div>\n",
        "            <br>\n",
        "            <div class=\"categoria-melhor-atriz\">\n",
        "                <h2>Categoria: melhor atriz</h2>\n",
        "                <ul>\n",
        "                    <li>Cythia Erivo - Harriet</li>\n",
        "                    <li>Scarlett Johansson - História de um Casamento</li>\n",
        "                    <li>Saoirse Ronan - Adoráveis Mulheres</li>\n",
        "                    <li>Charlize Theron - O Escândalo</li>\n",
        "                    <li class=\"vencedor\">Renée Zellweger - Judy: Muito Além do Arco-Íris <strong>[VENCEDOR]</strong></li>\n",
        "                </ul>\n",
        "            </div>\n",
        "        </div>\n",
        "    </body>\n",
        "</html>\n",
        "\"\"\""
      ],
      "execution_count": 1,
      "outputs": []
    },
    {
      "cell_type": "markdown",
      "metadata": {
        "id": "1mepRPrvwi_e"
      },
      "source": [
        "## 2) Criando um objeto Beautiful Soup\n",
        "https://www.crummy.com/software/BeautifulSoup/<br>\n",
        "https://www.crummy.com/software/BeautifulSoup/bs4/doc/"
      ]
    },
    {
      "cell_type": "code",
      "metadata": {
        "_cell_guid": "79c7e3d0-c299-4dcb-8224-4455121ee9b0",
        "_uuid": "d629ff2d2480ee46fbb7e2d37f6b5fab8052498a",
        "execution": {
          "iopub.execute_input": "2021-09-24T12:18:18.303650Z",
          "iopub.status.busy": "2021-09-24T12:18:18.303315Z",
          "iopub.status.idle": "2021-09-24T12:18:18.548633Z",
          "shell.execute_reply": "2021-09-24T12:18:18.547494Z",
          "shell.execute_reply.started": "2021-09-24T12:18:18.303623Z"
        },
        "id": "0OtLoW_Nwi_e"
      },
      "source": [
        "from bs4 import BeautifulSoup"
      ],
      "execution_count": 2,
      "outputs": []
    },
    {
      "cell_type": "code",
      "metadata": {
        "execution": {
          "iopub.execute_input": "2021-09-24T12:18:18.551153Z",
          "iopub.status.busy": "2021-09-24T12:18:18.550734Z",
          "iopub.status.idle": "2021-09-24T12:18:18.559077Z",
          "shell.execute_reply": "2021-09-24T12:18:18.557907Z",
          "shell.execute_reply.started": "2021-09-24T12:18:18.551109Z"
        },
        "id": "25qHZbOJwi_f"
      },
      "source": [
        "soup = BeautifulSoup(html, 'html.parser')"
      ],
      "execution_count": 3,
      "outputs": []
    },
    {
      "cell_type": "code",
      "metadata": {
        "execution": {
          "iopub.execute_input": "2021-09-24T12:18:18.560739Z",
          "iopub.status.busy": "2021-09-24T12:18:18.560462Z",
          "iopub.status.idle": "2021-09-24T12:18:18.574189Z",
          "shell.execute_reply": "2021-09-24T12:18:18.573269Z",
          "shell.execute_reply.started": "2021-09-24T12:18:18.560713Z"
        },
        "id": "-CYrqSDrwi_f",
        "colab": {
          "base_uri": "https://localhost:8080/"
        },
        "outputId": "967e21d5-61fe-4cb3-d441-180268f84145"
      },
      "source": [
        "type(soup)"
      ],
      "execution_count": 4,
      "outputs": [
        {
          "output_type": "execute_result",
          "data": {
            "text/plain": [
              "bs4.BeautifulSoup"
            ]
          },
          "metadata": {},
          "execution_count": 4
        }
      ]
    },
    {
      "cell_type": "code",
      "metadata": {
        "execution": {
          "iopub.execute_input": "2021-09-24T12:18:18.575806Z",
          "iopub.status.busy": "2021-09-24T12:18:18.575339Z",
          "iopub.status.idle": "2021-09-24T12:18:18.593302Z",
          "shell.execute_reply": "2021-09-24T12:18:18.592604Z",
          "shell.execute_reply.started": "2021-09-24T12:18:18.575776Z"
        },
        "id": "L3wk2BLKwi_g",
        "colab": {
          "base_uri": "https://localhost:8080/"
        },
        "outputId": "6348cf72-365f-43a6-b98c-0bbdc9f38204"
      },
      "source": [
        "soup"
      ],
      "execution_count": 5,
      "outputs": [
        {
          "output_type": "execute_result",
          "data": {
            "text/plain": [
              "\n",
              "<html>\n",
              "<head>\n",
              "<title>Indicados e vencedores do Oscar em 2020</title>\n",
              "</head>\n",
              "<body>\n",
              "<h1>Oscar 2020</h1>\n",
              "<p>A maior premiação do cinema aconteceu em Fevereiro. Os destaques deste ano foram:</p>\n",
              "<ul class=\"destaques\">\n",
              "<li>Coringa</li>\n",
              "<li>1917</li>\n",
              "<li>Era Uma Vez em Hollywood</li>\n",
              "<li>O Irlandês</li>\n",
              "</ul>\n",
              "<p>Veja abaixo os vencedores de 3 categorias.</p>\n",
              "<div>\n",
              "<div class=\"categoria-melhor-filme\">\n",
              "<h2>Categoria: melhor filme</h2>\n",
              "<ul>\n",
              "<li>Ford vs Ferrari</li>\n",
              "<li>O Irlandês</li>\n",
              "<li>JoJo Rabbit</li>\n",
              "<li>Coringa</li>\n",
              "<li>Adoráveis Mulheres</li>\n",
              "<li>História de um Casamento</li>\n",
              "<li>1917</li>\n",
              "<li>Era Uma Vez Em Hollywood</li>\n",
              "<li class=\"vencedor\">Parasita <strong>[VENCEDOR]</strong></li>\n",
              "</ul>\n",
              "</div>\n",
              "<br/>\n",
              "<div class=\"categoria-melhor-ator\">\n",
              "<h2>Categoria: melhor ator</h2>\n",
              "<ul>\n",
              "<li>Antonio Banderas - Dor e Glória</li>\n",
              "<li>Leonardo DiCaprio - Era Uma Vez Em... Hollywood</li>\n",
              "<li>Adam Driver - História de um Casamento</li>\n",
              "<li class=\"vencedor\">Joaquin Phoenix - Coringa <strong>[VENCEDOR]</strong></li>\n",
              "<li>Jonathan Price - Dois Papas</li>\n",
              "</ul>\n",
              "</div>\n",
              "<br/>\n",
              "<div class=\"categoria-melhor-atriz\">\n",
              "<h2>Categoria: melhor atriz</h2>\n",
              "<ul>\n",
              "<li>Cythia Erivo - Harriet</li>\n",
              "<li>Scarlett Johansson - História de um Casamento</li>\n",
              "<li>Saoirse Ronan - Adoráveis Mulheres</li>\n",
              "<li>Charlize Theron - O Escândalo</li>\n",
              "<li class=\"vencedor\">Renée Zellweger - Judy: Muito Além do Arco-Íris <strong>[VENCEDOR]</strong></li>\n",
              "</ul>\n",
              "</div>\n",
              "</div>\n",
              "</body>\n",
              "</html>"
            ]
          },
          "metadata": {},
          "execution_count": 5
        }
      ]
    },
    {
      "cell_type": "code",
      "metadata": {
        "execution": {
          "iopub.execute_input": "2021-09-24T12:18:18.596103Z",
          "iopub.status.busy": "2021-09-24T12:18:18.595636Z",
          "iopub.status.idle": "2021-09-24T12:18:18.606342Z",
          "shell.execute_reply": "2021-09-24T12:18:18.605187Z",
          "shell.execute_reply.started": "2021-09-24T12:18:18.596055Z"
        },
        "id": "Z6Mrm6y6wi_g",
        "colab": {
          "base_uri": "https://localhost:8080/"
        },
        "outputId": "aa8b818f-8bd2-4ca7-f1d2-99477850255d"
      },
      "source": [
        "print(soup.prettify())"
      ],
      "execution_count": 6,
      "outputs": [
        {
          "output_type": "stream",
          "name": "stdout",
          "text": [
            "<html>\n",
            " <head>\n",
            "  <title>\n",
            "   Indicados e vencedores do Oscar em 2020\n",
            "  </title>\n",
            " </head>\n",
            " <body>\n",
            "  <h1>\n",
            "   Oscar 2020\n",
            "  </h1>\n",
            "  <p>\n",
            "   A maior premiação do cinema aconteceu em Fevereiro. Os destaques deste ano foram:\n",
            "  </p>\n",
            "  <ul class=\"destaques\">\n",
            "   <li>\n",
            "    Coringa\n",
            "   </li>\n",
            "   <li>\n",
            "    1917\n",
            "   </li>\n",
            "   <li>\n",
            "    Era Uma Vez em Hollywood\n",
            "   </li>\n",
            "   <li>\n",
            "    O Irlandês\n",
            "   </li>\n",
            "  </ul>\n",
            "  <p>\n",
            "   Veja abaixo os vencedores de 3 categorias.\n",
            "  </p>\n",
            "  <div>\n",
            "   <div class=\"categoria-melhor-filme\">\n",
            "    <h2>\n",
            "     Categoria: melhor filme\n",
            "    </h2>\n",
            "    <ul>\n",
            "     <li>\n",
            "      Ford vs Ferrari\n",
            "     </li>\n",
            "     <li>\n",
            "      O Irlandês\n",
            "     </li>\n",
            "     <li>\n",
            "      JoJo Rabbit\n",
            "     </li>\n",
            "     <li>\n",
            "      Coringa\n",
            "     </li>\n",
            "     <li>\n",
            "      Adoráveis Mulheres\n",
            "     </li>\n",
            "     <li>\n",
            "      História de um Casamento\n",
            "     </li>\n",
            "     <li>\n",
            "      1917\n",
            "     </li>\n",
            "     <li>\n",
            "      Era Uma Vez Em Hollywood\n",
            "     </li>\n",
            "     <li class=\"vencedor\">\n",
            "      Parasita\n",
            "      <strong>\n",
            "       [VENCEDOR]\n",
            "      </strong>\n",
            "     </li>\n",
            "    </ul>\n",
            "   </div>\n",
            "   <br/>\n",
            "   <div class=\"categoria-melhor-ator\">\n",
            "    <h2>\n",
            "     Categoria: melhor ator\n",
            "    </h2>\n",
            "    <ul>\n",
            "     <li>\n",
            "      Antonio Banderas - Dor e Glória\n",
            "     </li>\n",
            "     <li>\n",
            "      Leonardo DiCaprio - Era Uma Vez Em... Hollywood\n",
            "     </li>\n",
            "     <li>\n",
            "      Adam Driver - História de um Casamento\n",
            "     </li>\n",
            "     <li class=\"vencedor\">\n",
            "      Joaquin Phoenix - Coringa\n",
            "      <strong>\n",
            "       [VENCEDOR]\n",
            "      </strong>\n",
            "     </li>\n",
            "     <li>\n",
            "      Jonathan Price - Dois Papas\n",
            "     </li>\n",
            "    </ul>\n",
            "   </div>\n",
            "   <br/>\n",
            "   <div class=\"categoria-melhor-atriz\">\n",
            "    <h2>\n",
            "     Categoria: melhor atriz\n",
            "    </h2>\n",
            "    <ul>\n",
            "     <li>\n",
            "      Cythia Erivo - Harriet\n",
            "     </li>\n",
            "     <li>\n",
            "      Scarlett Johansson - História de um Casamento\n",
            "     </li>\n",
            "     <li>\n",
            "      Saoirse Ronan - Adoráveis Mulheres\n",
            "     </li>\n",
            "     <li>\n",
            "      Charlize Theron - O Escândalo\n",
            "     </li>\n",
            "     <li class=\"vencedor\">\n",
            "      Renée Zellweger - Judy: Muito Além do Arco-Íris\n",
            "      <strong>\n",
            "       [VENCEDOR]\n",
            "      </strong>\n",
            "     </li>\n",
            "    </ul>\n",
            "   </div>\n",
            "  </div>\n",
            " </body>\n",
            "</html>\n",
            "\n"
          ]
        }
      ]
    },
    {
      "cell_type": "markdown",
      "metadata": {
        "id": "PRM0vL-Xwi_i"
      },
      "source": [
        "## 3) Aprendendo a extrair dados de tags no HTML"
      ]
    },
    {
      "cell_type": "markdown",
      "metadata": {
        "id": "8-vKRZt_wi_j"
      },
      "source": [
        "### 3.1) Começando pelo começo: como extrair o título da página?"
      ]
    },
    {
      "cell_type": "code",
      "metadata": {
        "execution": {
          "iopub.execute_input": "2021-09-24T12:18:18.609934Z",
          "iopub.status.busy": "2021-09-24T12:18:18.609357Z",
          "iopub.status.idle": "2021-09-24T12:18:18.619935Z",
          "shell.execute_reply": "2021-09-24T12:18:18.618960Z",
          "shell.execute_reply.started": "2021-09-24T12:18:18.609890Z"
        },
        "id": "xl5cL6fcwi_j",
        "colab": {
          "base_uri": "https://localhost:8080/"
        },
        "outputId": "65bc8806-d0f8-4be7-c89c-99014af0dc3b"
      },
      "source": [
        "soup.html.head.title"
      ],
      "execution_count": 70,
      "outputs": [
        {
          "output_type": "execute_result",
          "data": {
            "text/plain": [
              "<title>Indicados e vencedores do Oscar em 2020</title>"
            ]
          },
          "metadata": {},
          "execution_count": 70
        }
      ]
    },
    {
      "cell_type": "code",
      "metadata": {
        "execution": {
          "iopub.execute_input": "2021-09-24T12:18:18.621369Z",
          "iopub.status.busy": "2021-09-24T12:18:18.620963Z",
          "iopub.status.idle": "2021-09-24T12:18:18.632530Z",
          "shell.execute_reply": "2021-09-24T12:18:18.631179Z",
          "shell.execute_reply.started": "2021-09-24T12:18:18.621330Z"
        },
        "id": "GNYfcIorwi_j",
        "colab": {
          "base_uri": "https://localhost:8080/"
        },
        "outputId": "96976f8c-966e-4df7-dfec-df70ccf1718e"
      },
      "source": [
        "soup.title"
      ],
      "execution_count": 71,
      "outputs": [
        {
          "output_type": "execute_result",
          "data": {
            "text/plain": [
              "<title>Indicados e vencedores do Oscar em 2020</title>"
            ]
          },
          "metadata": {},
          "execution_count": 71
        }
      ]
    },
    {
      "cell_type": "code",
      "metadata": {
        "execution": {
          "iopub.execute_input": "2021-09-24T12:18:18.634085Z",
          "iopub.status.busy": "2021-09-24T12:18:18.633824Z",
          "iopub.status.idle": "2021-09-24T12:18:18.644948Z",
          "shell.execute_reply": "2021-09-24T12:18:18.644229Z",
          "shell.execute_reply.started": "2021-09-24T12:18:18.634059Z"
        },
        "id": "bPsSQURLwi_k",
        "colab": {
          "base_uri": "https://localhost:8080/",
          "height": 35
        },
        "outputId": "3d8cd396-59f8-42da-faf4-1fb3196b3cc2"
      },
      "source": [
        "soup.title.get_text()"
      ],
      "execution_count": 72,
      "outputs": [
        {
          "output_type": "execute_result",
          "data": {
            "application/vnd.google.colaboratory.intrinsic+json": {
              "type": "string"
            },
            "text/plain": [
              "'Indicados e vencedores do Oscar em 2020'"
            ]
          },
          "metadata": {},
          "execution_count": 72
        }
      ]
    },
    {
      "cell_type": "markdown",
      "metadata": {
        "id": "7GhyXSn_wi_k"
      },
      "source": [
        "### 3.2) E se eu quiser extrair o título do maior hierarquia no corpo da página?"
      ]
    },
    {
      "cell_type": "code",
      "metadata": {
        "execution": {
          "iopub.execute_input": "2021-09-24T12:18:18.646517Z",
          "iopub.status.busy": "2021-09-24T12:18:18.646234Z",
          "iopub.status.idle": "2021-09-24T12:18:18.659344Z",
          "shell.execute_reply": "2021-09-24T12:18:18.658034Z",
          "shell.execute_reply.started": "2021-09-24T12:18:18.646492Z"
        },
        "id": "doep-3mDwi_l",
        "colab": {
          "base_uri": "https://localhost:8080/"
        },
        "outputId": "a91eb3c6-ee54-4bbb-e51d-bf6a73791317"
      },
      "source": [
        "soup.html.body.h1"
      ],
      "execution_count": 73,
      "outputs": [
        {
          "output_type": "execute_result",
          "data": {
            "text/plain": [
              "<h1>Oscar 2020</h1>"
            ]
          },
          "metadata": {},
          "execution_count": 73
        }
      ]
    },
    {
      "cell_type": "code",
      "metadata": {
        "execution": {
          "iopub.execute_input": "2021-09-24T12:18:18.661070Z",
          "iopub.status.busy": "2021-09-24T12:18:18.660789Z",
          "iopub.status.idle": "2021-09-24T12:18:18.672684Z",
          "shell.execute_reply": "2021-09-24T12:18:18.671625Z",
          "shell.execute_reply.started": "2021-09-24T12:18:18.661045Z"
        },
        "id": "2F7pbbRMwi_l",
        "colab": {
          "base_uri": "https://localhost:8080/"
        },
        "outputId": "99aecf55-fafc-439f-a69e-19dfc4d6a0bf"
      },
      "source": [
        "soup.h1"
      ],
      "execution_count": 74,
      "outputs": [
        {
          "output_type": "execute_result",
          "data": {
            "text/plain": [
              "<h1>Oscar 2020</h1>"
            ]
          },
          "metadata": {},
          "execution_count": 74
        }
      ]
    },
    {
      "cell_type": "code",
      "metadata": {
        "execution": {
          "iopub.execute_input": "2021-09-24T12:18:18.674139Z",
          "iopub.status.busy": "2021-09-24T12:18:18.673852Z",
          "iopub.status.idle": "2021-09-24T12:18:18.684432Z",
          "shell.execute_reply": "2021-09-24T12:18:18.683588Z",
          "shell.execute_reply.started": "2021-09-24T12:18:18.674114Z"
        },
        "id": "rcLZaTFxwi_m",
        "colab": {
          "base_uri": "https://localhost:8080/",
          "height": 35
        },
        "outputId": "cb65451d-d00c-49f0-906d-30c9ca1e978a"
      },
      "source": [
        "soup.h1.get_text()"
      ],
      "execution_count": 75,
      "outputs": [
        {
          "output_type": "execute_result",
          "data": {
            "application/vnd.google.colaboratory.intrinsic+json": {
              "type": "string"
            },
            "text/plain": [
              "'Oscar 2020'"
            ]
          },
          "metadata": {},
          "execution_count": 75
        }
      ]
    },
    {
      "cell_type": "markdown",
      "metadata": {
        "id": "OT5pdil3wi_m"
      },
      "source": [
        "### Questionário 1: com qual dos comandos abaixo eu NÃO coleto o texto \"Categoria: melhor filme\"?  \n",
        "\n",
        "#Resposta: opção C\n",
        "\n",
        "a) soup.body.div.div.h2.get_text()\n",
        "\n",
        "b) soup.div.div.h2.get_text()\n",
        "\n",
        "c) soup.div.ul.h2.get_text()     ______  \n",
        "\n",
        "d) soup.h2.get_text()"
      ]
    },
    {
      "cell_type": "code",
      "metadata": {
        "colab": {
          "base_uri": "https://localhost:8080/"
        },
        "id": "Nlf1mQ4gq8cG",
        "outputId": "1fef88e6-2f9f-48b6-eec2-f964b5acbd6d"
      },
      "source": [
        "print(soup.body.div.div.h2.get_text())\n",
        "\n",
        "print(soup.div.div.h2.get_text())\n",
        "\n",
        "#print(soup.div.ul.h2.get_text()) __\n",
        "\n",
        "print(soup.h2.get_text())"
      ],
      "execution_count": 220,
      "outputs": [
        {
          "output_type": "stream",
          "name": "stdout",
          "text": [
            "Categoria: melhor filme\n",
            "Categoria: melhor filme\n",
            "Categoria: melhor filme\n"
          ]
        }
      ]
    },
    {
      "cell_type": "markdown",
      "metadata": {
        "id": "Hl6rcd-2wi_m"
      },
      "source": [
        "### 3.3) Coletando o texto \"A maior premiação do cinema aconteceu em Fevereiro. Os destaques deste ano foram:\""
      ]
    },
    {
      "cell_type": "code",
      "metadata": {
        "execution": {
          "iopub.execute_input": "2021-09-24T12:18:18.686958Z",
          "iopub.status.busy": "2021-09-24T12:18:18.686523Z",
          "iopub.status.idle": "2021-09-24T12:18:18.697153Z",
          "shell.execute_reply": "2021-09-24T12:18:18.696146Z",
          "shell.execute_reply.started": "2021-09-24T12:18:18.686915Z"
        },
        "id": "r6fNohQzwi_m",
        "colab": {
          "base_uri": "https://localhost:8080/",
          "height": 35
        },
        "outputId": "f5bba7a4-72a3-4a8d-adf5-4568de88a150"
      },
      "source": [
        "soup.p.get_text()"
      ],
      "execution_count": 76,
      "outputs": [
        {
          "output_type": "execute_result",
          "data": {
            "application/vnd.google.colaboratory.intrinsic+json": {
              "type": "string"
            },
            "text/plain": [
              "'A maior premiação do cinema aconteceu em Fevereiro. Os destaques deste ano foram:'"
            ]
          },
          "metadata": {},
          "execution_count": 76
        }
      ]
    },
    {
      "cell_type": "markdown",
      "metadata": {
        "id": "f2F1TPYpwi_n"
      },
      "source": [
        "### Mas... E se eu quiser coletar o texto \"Veja abaixo os vencedores de 3 categorias.\"?"
      ]
    },
    {
      "cell_type": "markdown",
      "metadata": {
        "id": "WGbYDJFiwi_n"
      },
      "source": [
        "### 3.4) O método find()\n",
        "\n",
        "- *find(tag, attributes, recursive, text, **kwargs)*\n",
        "\n",
        "- *findAll(tag, attributes, recursive, text, limit, **kwargs)*\n",
        "\n",
        "- https://www.crummy.com/software/BeautifulSoup/bs4/doc/#find\n",
        "- https://www.crummy.com/software/BeautifulSoup/bs4/doc/#find-all\n",
        "\n",
        "> **Observação:**\n",
        "> - *findAll()* também pode ser utilizado como *find_all()*\n"
      ]
    },
    {
      "cell_type": "code",
      "metadata": {
        "execution": {
          "iopub.execute_input": "2021-09-24T12:18:18.698647Z",
          "iopub.status.busy": "2021-09-24T12:18:18.698198Z",
          "iopub.status.idle": "2021-09-24T12:18:18.711211Z",
          "shell.execute_reply": "2021-09-24T12:18:18.710359Z",
          "shell.execute_reply.started": "2021-09-24T12:18:18.698604Z"
        },
        "id": "QYpPiyZ1wi_n",
        "colab": {
          "base_uri": "https://localhost:8080/"
        },
        "outputId": "496559e8-e3af-4e75-aeae-b5550005c3a5"
      },
      "source": [
        "soup.find(\"p\")"
      ],
      "execution_count": 77,
      "outputs": [
        {
          "output_type": "execute_result",
          "data": {
            "text/plain": [
              "<p>A maior premiação do cinema aconteceu em Fevereiro. Os destaques deste ano foram:</p>"
            ]
          },
          "metadata": {},
          "execution_count": 77
        }
      ]
    },
    {
      "cell_type": "code",
      "metadata": {
        "execution": {
          "iopub.execute_input": "2021-09-24T12:18:18.712536Z",
          "iopub.status.busy": "2021-09-24T12:18:18.712264Z",
          "iopub.status.idle": "2021-09-24T12:18:18.722618Z",
          "shell.execute_reply": "2021-09-24T12:18:18.721814Z",
          "shell.execute_reply.started": "2021-09-24T12:18:18.712511Z"
        },
        "id": "qeBf0sWrwi_n",
        "colab": {
          "base_uri": "https://localhost:8080/",
          "height": 35
        },
        "outputId": "a754ff49-7c04-4c06-8dd2-ab3ade886ec6"
      },
      "source": [
        "soup.find(\"p\").get_text()"
      ],
      "execution_count": 78,
      "outputs": [
        {
          "output_type": "execute_result",
          "data": {
            "application/vnd.google.colaboratory.intrinsic+json": {
              "type": "string"
            },
            "text/plain": [
              "'A maior premiação do cinema aconteceu em Fevereiro. Os destaques deste ano foram:'"
            ]
          },
          "metadata": {},
          "execution_count": 78
        }
      ]
    },
    {
      "cell_type": "markdown",
      "metadata": {
        "id": "--yYz-Iewi_o"
      },
      "source": [
        "### 3.5) O método find_all()"
      ]
    },
    {
      "cell_type": "code",
      "metadata": {
        "execution": {
          "iopub.execute_input": "2021-09-24T12:18:18.724859Z",
          "iopub.status.busy": "2021-09-24T12:18:18.724438Z",
          "iopub.status.idle": "2021-09-24T12:18:18.733983Z",
          "shell.execute_reply": "2021-09-24T12:18:18.733032Z",
          "shell.execute_reply.started": "2021-09-24T12:18:18.724811Z"
        },
        "id": "Z5S8anJZwi_o",
        "colab": {
          "base_uri": "https://localhost:8080/"
        },
        "outputId": "c799f76a-af87-42f3-f74c-ece91ce8ec4a"
      },
      "source": [
        "soup.find_all(\"p\")"
      ],
      "execution_count": 79,
      "outputs": [
        {
          "output_type": "execute_result",
          "data": {
            "text/plain": [
              "[<p>A maior premiação do cinema aconteceu em Fevereiro. Os destaques deste ano foram:</p>,\n",
              " <p>Veja abaixo os vencedores de 3 categorias.</p>]"
            ]
          },
          "metadata": {},
          "execution_count": 79
        }
      ]
    },
    {
      "cell_type": "code",
      "metadata": {
        "execution": {
          "iopub.execute_input": "2021-09-24T12:18:18.736561Z",
          "iopub.status.busy": "2021-09-24T12:18:18.735776Z",
          "iopub.status.idle": "2021-09-24T12:18:18.745121Z",
          "shell.execute_reply": "2021-09-24T12:18:18.744105Z",
          "shell.execute_reply.started": "2021-09-24T12:18:18.736520Z"
        },
        "id": "TkY10HBIwi_o",
        "colab": {
          "base_uri": "https://localhost:8080/"
        },
        "outputId": "543cb236-379b-4400-ae4c-2572894c2961"
      },
      "source": [
        "soup.find_all(\"p\")[1]"
      ],
      "execution_count": 80,
      "outputs": [
        {
          "output_type": "execute_result",
          "data": {
            "text/plain": [
              "<p>Veja abaixo os vencedores de 3 categorias.</p>"
            ]
          },
          "metadata": {},
          "execution_count": 80
        }
      ]
    },
    {
      "cell_type": "code",
      "metadata": {
        "execution": {
          "iopub.execute_input": "2021-09-24T12:18:18.746578Z",
          "iopub.status.busy": "2021-09-24T12:18:18.746174Z",
          "iopub.status.idle": "2021-09-24T12:18:18.754151Z",
          "shell.execute_reply": "2021-09-24T12:18:18.753333Z",
          "shell.execute_reply.started": "2021-09-24T12:18:18.746550Z"
        },
        "id": "J1di9ahbwi_o",
        "colab": {
          "base_uri": "https://localhost:8080/",
          "height": 35
        },
        "outputId": "ce21a543-c73a-430c-c4f2-7c7bff35f6d8"
      },
      "source": [
        "soup.find_all(\"p\")[1].get_text()"
      ],
      "execution_count": 81,
      "outputs": [
        {
          "output_type": "execute_result",
          "data": {
            "application/vnd.google.colaboratory.intrinsic+json": {
              "type": "string"
            },
            "text/plain": [
              "'Veja abaixo os vencedores de 3 categorias.'"
            ]
          },
          "metadata": {},
          "execution_count": 81
        }
      ]
    },
    {
      "cell_type": "code",
      "metadata": {
        "execution": {
          "iopub.execute_input": "2021-09-24T12:18:18.755721Z",
          "iopub.status.busy": "2021-09-24T12:18:18.755322Z",
          "iopub.status.idle": "2021-09-24T12:18:18.766090Z",
          "shell.execute_reply": "2021-09-24T12:18:18.764987Z",
          "shell.execute_reply.started": "2021-09-24T12:18:18.755693Z"
        },
        "id": "hhtZWEqDwi_p",
        "colab": {
          "base_uri": "https://localhost:8080/"
        },
        "outputId": "40d9aa61-a217-4fa9-b8ff-cb68843673bc"
      },
      "source": [
        "soup.find_all(\"h2\")"
      ],
      "execution_count": 82,
      "outputs": [
        {
          "output_type": "execute_result",
          "data": {
            "text/plain": [
              "[<h2>Categoria: melhor filme</h2>,\n",
              " <h2>Categoria: melhor ator</h2>,\n",
              " <h2>Categoria: melhor atriz</h2>]"
            ]
          },
          "metadata": {},
          "execution_count": 82
        }
      ]
    },
    {
      "cell_type": "markdown",
      "metadata": {
        "id": "OE-uOe8zwi_p"
      },
      "source": [
        "### 3.6) Coletando a lista de destaques"
      ]
    },
    {
      "cell_type": "code",
      "metadata": {
        "execution": {
          "iopub.execute_input": "2021-09-24T12:18:18.767674Z",
          "iopub.status.busy": "2021-09-24T12:18:18.767373Z",
          "iopub.status.idle": "2021-09-24T12:18:18.778031Z",
          "shell.execute_reply": "2021-09-24T12:18:18.776974Z",
          "shell.execute_reply.started": "2021-09-24T12:18:18.767646Z"
        },
        "id": "cFVvoi65wi_p",
        "colab": {
          "base_uri": "https://localhost:8080/"
        },
        "outputId": "58afff3f-f39b-48bc-f940-5d65d3eb3f98"
      },
      "source": [
        "soup.ul.find_all(\"li\")"
      ],
      "execution_count": 83,
      "outputs": [
        {
          "output_type": "execute_result",
          "data": {
            "text/plain": [
              "[<li>Coringa</li>,\n",
              " <li>1917</li>,\n",
              " <li>Era Uma Vez em Hollywood</li>,\n",
              " <li>O Irlandês</li>]"
            ]
          },
          "metadata": {},
          "execution_count": 83
        }
      ]
    },
    {
      "cell_type": "code",
      "metadata": {
        "execution": {
          "iopub.execute_input": "2021-09-24T12:18:18.780417Z",
          "iopub.status.busy": "2021-09-24T12:18:18.779684Z",
          "iopub.status.idle": "2021-09-24T12:18:18.788726Z",
          "shell.execute_reply": "2021-09-24T12:18:18.787556Z",
          "shell.execute_reply.started": "2021-09-24T12:18:18.780356Z"
        },
        "id": "LEjEtSf5wi_p",
        "colab": {
          "base_uri": "https://localhost:8080/"
        },
        "outputId": "1c75737d-abd7-4667-fac6-3b74dcb7b2d0"
      },
      "source": [
        "print(\"Lista de destaques:\")\n",
        "\n",
        "for filme in soup.ul.find_all(\"li\"):\n",
        "    print(filme.get_text())"
      ],
      "execution_count": 84,
      "outputs": [
        {
          "output_type": "stream",
          "name": "stdout",
          "text": [
            "Lista de destaques:\n",
            "Coringa\n",
            "1917\n",
            "Era Uma Vez em Hollywood\n",
            "O Irlandês\n"
          ]
        }
      ]
    },
    {
      "cell_type": "markdown",
      "metadata": {
        "id": "ejJBRi3qwi_q"
      },
      "source": [
        "### Mini-desafio 1: colete todos os filmes da categoria de melhor filme"
      ]
    },
    {
      "cell_type": "code",
      "metadata": {
        "execution": {
          "iopub.execute_input": "2021-09-24T12:18:18.790814Z",
          "iopub.status.busy": "2021-09-24T12:18:18.790313Z",
          "iopub.status.idle": "2021-09-24T12:18:18.796475Z",
          "shell.execute_reply": "2021-09-24T12:18:18.795724Z",
          "shell.execute_reply.started": "2021-09-24T12:18:18.790773Z"
        },
        "id": "e9WJQSxKwi_q",
        "colab": {
          "base_uri": "https://localhost:8080/"
        },
        "outputId": "503c453f-64c6-450b-a5cd-a9ac03260e86"
      },
      "source": [
        "# Insira a sua resposta aqui\n",
        "\n",
        "#\"filme in soup.div.div.ul.find_all(\"li\")\" Busca a lista de filmes \n",
        "\n",
        "print(\"os filmes da categoria de melhor filme são:\")\n",
        "\n",
        "for filme in soup.div.div.ul.find_all(\"li\"):\n",
        "    print(filme.get_text())"
      ],
      "execution_count": 126,
      "outputs": [
        {
          "output_type": "stream",
          "name": "stdout",
          "text": [
            "os filmes da categoria de melhor filme são:\n",
            "Ford vs Ferrari\n",
            "O Irlandês\n",
            "JoJo Rabbit\n",
            "Coringa\n",
            "Adoráveis Mulheres\n",
            "História de um Casamento\n",
            "1917\n",
            "Era Uma Vez Em Hollywood\n",
            "Parasita [VENCEDOR]\n"
          ]
        }
      ]
    },
    {
      "cell_type": "markdown",
      "metadata": {
        "id": "g_WjCuN7wi_q"
      },
      "source": [
        "### 3.7) O método find_all() pode ser equivalente ao método find()"
      ]
    },
    {
      "cell_type": "code",
      "metadata": {
        "execution": {
          "iopub.execute_input": "2021-09-24T12:18:18.798012Z",
          "iopub.status.busy": "2021-09-24T12:18:18.797745Z",
          "iopub.status.idle": "2021-09-24T12:18:18.809345Z",
          "shell.execute_reply": "2021-09-24T12:18:18.808480Z",
          "shell.execute_reply.started": "2021-09-24T12:18:18.797987Z"
        },
        "id": "fKhcQ90ewi_q",
        "colab": {
          "base_uri": "https://localhost:8080/"
        },
        "outputId": "5cb00bbd-ded9-4c0b-cab4-5b10cb2795e1"
      },
      "source": [
        "soup.find_all('p', limit = 1)"
      ],
      "execution_count": 127,
      "outputs": [
        {
          "output_type": "execute_result",
          "data": {
            "text/plain": [
              "[<p>A maior premiação do cinema aconteceu em Fevereiro. Os destaques deste ano foram:</p>]"
            ]
          },
          "metadata": {},
          "execution_count": 127
        }
      ]
    },
    {
      "cell_type": "code",
      "metadata": {
        "execution": {
          "iopub.execute_input": "2021-09-24T12:18:18.811186Z",
          "iopub.status.busy": "2021-09-24T12:18:18.810760Z",
          "iopub.status.idle": "2021-09-24T12:18:18.820503Z",
          "shell.execute_reply": "2021-09-24T12:18:18.819758Z",
          "shell.execute_reply.started": "2021-09-24T12:18:18.811154Z"
        },
        "id": "iorTkxOMwi_r",
        "colab": {
          "base_uri": "https://localhost:8080/"
        },
        "outputId": "9ac590ad-9a89-4eb4-ea8b-e92bcd54a918"
      },
      "source": [
        "soup.find_all('p')[0]"
      ],
      "execution_count": 87,
      "outputs": [
        {
          "output_type": "execute_result",
          "data": {
            "text/plain": [
              "<p>A maior premiação do cinema aconteceu em Fevereiro. Os destaques deste ano foram:</p>"
            ]
          },
          "metadata": {},
          "execution_count": 87
        }
      ]
    },
    {
      "cell_type": "markdown",
      "metadata": {
        "id": "KLDIWV20wi_r"
      },
      "source": [
        "### 3.8) Também posso passar uma lista de tags para o find_all()"
      ]
    },
    {
      "cell_type": "code",
      "metadata": {
        "execution": {
          "iopub.execute_input": "2021-09-24T12:18:18.822131Z",
          "iopub.status.busy": "2021-09-24T12:18:18.821550Z",
          "iopub.status.idle": "2021-09-24T12:18:18.833980Z",
          "shell.execute_reply": "2021-09-24T12:18:18.832884Z",
          "shell.execute_reply.started": "2021-09-24T12:18:18.822097Z"
        },
        "id": "UoBAGU85wi_r",
        "colab": {
          "base_uri": "https://localhost:8080/"
        },
        "outputId": "0cbcd483-148f-4247-f052-231eb989453f"
      },
      "source": [
        "soup.find_all([\"h2\", \"li\"])"
      ],
      "execution_count": 88,
      "outputs": [
        {
          "output_type": "execute_result",
          "data": {
            "text/plain": [
              "[<li>Coringa</li>,\n",
              " <li>1917</li>,\n",
              " <li>Era Uma Vez em Hollywood</li>,\n",
              " <li>O Irlandês</li>,\n",
              " <h2>Categoria: melhor filme</h2>,\n",
              " <li>Ford vs Ferrari</li>,\n",
              " <li>O Irlandês</li>,\n",
              " <li>JoJo Rabbit</li>,\n",
              " <li>Coringa</li>,\n",
              " <li>Adoráveis Mulheres</li>,\n",
              " <li>História de um Casamento</li>,\n",
              " <li>1917</li>,\n",
              " <li>Era Uma Vez Em Hollywood</li>,\n",
              " <li class=\"vencedor\">Parasita <strong>[VENCEDOR]</strong></li>,\n",
              " <h2>Categoria: melhor ator</h2>,\n",
              " <li>Antonio Banderas - Dor e Glória</li>,\n",
              " <li>Leonardo DiCaprio - Era Uma Vez Em... Hollywood</li>,\n",
              " <li>Adam Driver - História de um Casamento</li>,\n",
              " <li class=\"vencedor\">Joaquin Phoenix - Coringa <strong>[VENCEDOR]</strong></li>,\n",
              " <li>Jonathan Price - Dois Papas</li>,\n",
              " <h2>Categoria: melhor atriz</h2>,\n",
              " <li>Cythia Erivo - Harriet</li>,\n",
              " <li>Scarlett Johansson - História de um Casamento</li>,\n",
              " <li>Saoirse Ronan - Adoráveis Mulheres</li>,\n",
              " <li>Charlize Theron - O Escândalo</li>,\n",
              " <li class=\"vencedor\">Renée Zellweger - Judy: Muito Além do Arco-Íris <strong>[VENCEDOR]</strong></li>]"
            ]
          },
          "metadata": {},
          "execution_count": 88
        }
      ]
    },
    {
      "cell_type": "markdown",
      "metadata": {
        "id": "Rr1kccuPwi_r"
      },
      "source": [
        "### 3.9) Posso buscar por tags com um conteúdo específico?"
      ]
    },
    {
      "cell_type": "code",
      "metadata": {
        "execution": {
          "iopub.execute_input": "2021-09-24T12:18:18.837874Z",
          "iopub.status.busy": "2021-09-24T12:18:18.835073Z",
          "iopub.status.idle": "2021-09-24T12:18:18.845301Z",
          "shell.execute_reply": "2021-09-24T12:18:18.844584Z",
          "shell.execute_reply.started": "2021-09-24T12:18:18.837837Z"
        },
        "id": "ZKrCYUdWwi_r",
        "colab": {
          "base_uri": "https://localhost:8080/"
        },
        "outputId": "212df60a-f683-46cf-edd2-a1b46d0c2bb4"
      },
      "source": [
        "soup.find_all(\"li\", text=\"Coringa\")"
      ],
      "execution_count": 89,
      "outputs": [
        {
          "output_type": "execute_result",
          "data": {
            "text/plain": [
              "[<li>Coringa</li>, <li>Coringa</li>]"
            ]
          },
          "metadata": {},
          "execution_count": 89
        }
      ]
    },
    {
      "cell_type": "code",
      "metadata": {
        "execution": {
          "iopub.execute_input": "2021-09-24T12:18:18.846911Z",
          "iopub.status.busy": "2021-09-24T12:18:18.846460Z",
          "iopub.status.idle": "2021-09-24T12:18:18.859878Z",
          "shell.execute_reply": "2021-09-24T12:18:18.858490Z",
          "shell.execute_reply.started": "2021-09-24T12:18:18.846849Z"
        },
        "id": "Ds2SAm05wi_r",
        "colab": {
          "base_uri": "https://localhost:8080/"
        },
        "outputId": "ceea5c6d-4e05-471c-96b7-2aba6512ad33"
      },
      "source": [
        "soup.find_all(\"li\", text=\"1917\")"
      ],
      "execution_count": 90,
      "outputs": [
        {
          "output_type": "execute_result",
          "data": {
            "text/plain": [
              "[<li>1917</li>, <li>1917</li>]"
            ]
          },
          "metadata": {},
          "execution_count": 90
        }
      ]
    },
    {
      "cell_type": "code",
      "metadata": {
        "execution": {
          "iopub.execute_input": "2021-09-24T12:18:18.861636Z",
          "iopub.status.busy": "2021-09-24T12:18:18.861277Z",
          "iopub.status.idle": "2021-09-24T12:18:18.871602Z",
          "shell.execute_reply": "2021-09-24T12:18:18.870370Z",
          "shell.execute_reply.started": "2021-09-24T12:18:18.861598Z"
        },
        "id": "vjkX7_A9wi_r",
        "colab": {
          "base_uri": "https://localhost:8080/"
        },
        "outputId": "a6a153bd-70b2-46c2-9222-ea2acd607797"
      },
      "source": [
        "soup.find_all(\"li\", text=\"O Irlandês\")"
      ],
      "execution_count": 91,
      "outputs": [
        {
          "output_type": "execute_result",
          "data": {
            "text/plain": [
              "[<li>O Irlandês</li>, <li>O Irlandês</li>]"
            ]
          },
          "metadata": {},
          "execution_count": 91
        }
      ]
    },
    {
      "cell_type": "code",
      "metadata": {
        "execution": {
          "iopub.execute_input": "2021-09-24T12:18:18.873425Z",
          "iopub.status.busy": "2021-09-24T12:18:18.873010Z",
          "iopub.status.idle": "2021-09-24T12:18:18.880046Z",
          "shell.execute_reply": "2021-09-24T12:18:18.879246Z",
          "shell.execute_reply.started": "2021-09-24T12:18:18.873397Z"
        },
        "id": "tDtvsELLwi_s"
      },
      "source": [
        "import re"
      ],
      "execution_count": 92,
      "outputs": []
    },
    {
      "cell_type": "code",
      "metadata": {
        "execution": {
          "iopub.execute_input": "2021-09-24T12:18:18.882163Z",
          "iopub.status.busy": "2021-09-24T12:18:18.881761Z",
          "iopub.status.idle": "2021-09-24T12:18:18.893005Z",
          "shell.execute_reply": "2021-09-24T12:18:18.892011Z",
          "shell.execute_reply.started": "2021-09-24T12:18:18.882125Z"
        },
        "id": "Ynw8SEkiwi_s",
        "colab": {
          "base_uri": "https://localhost:8080/"
        },
        "outputId": "75a526d3-65fd-4f35-c007-8e2b9b84326c"
      },
      "source": [
        "soup.find_all(\"h2\", text=re.compile(\"^Categoria\"))"
      ],
      "execution_count": 93,
      "outputs": [
        {
          "output_type": "execute_result",
          "data": {
            "text/plain": [
              "[<h2>Categoria: melhor filme</h2>,\n",
              " <h2>Categoria: melhor ator</h2>,\n",
              " <h2>Categoria: melhor atriz</h2>]"
            ]
          },
          "metadata": {},
          "execution_count": 93
        }
      ]
    },
    {
      "cell_type": "markdown",
      "metadata": {
        "id": "Rl45ke4uwi_s"
      },
      "source": [
        "### 3.10) Coletando por meio de atributos"
      ]
    },
    {
      "cell_type": "code",
      "metadata": {
        "execution": {
          "iopub.execute_input": "2021-09-24T12:18:18.894737Z",
          "iopub.status.busy": "2021-09-24T12:18:18.894165Z",
          "iopub.status.idle": "2021-09-24T12:18:18.904795Z",
          "shell.execute_reply": "2021-09-24T12:18:18.903647Z",
          "shell.execute_reply.started": "2021-09-24T12:18:18.894687Z"
        },
        "id": "yfqXVLbawi_t",
        "colab": {
          "base_uri": "https://localhost:8080/"
        },
        "outputId": "a1409381-2e23-4cba-b004-8ff60d372b49"
      },
      "source": [
        "soup.find_all(\"ul\", {\"class\": \"destaques\"})"
      ],
      "execution_count": 94,
      "outputs": [
        {
          "output_type": "execute_result",
          "data": {
            "text/plain": [
              "[<ul class=\"destaques\">\n",
              " <li>Coringa</li>\n",
              " <li>1917</li>\n",
              " <li>Era Uma Vez em Hollywood</li>\n",
              " <li>O Irlandês</li>\n",
              " </ul>]"
            ]
          },
          "metadata": {},
          "execution_count": 94
        }
      ]
    },
    {
      "cell_type": "code",
      "metadata": {
        "execution": {
          "iopub.execute_input": "2021-09-24T12:18:18.906261Z",
          "iopub.status.busy": "2021-09-24T12:18:18.905902Z",
          "iopub.status.idle": "2021-09-24T12:18:18.914179Z",
          "shell.execute_reply": "2021-09-24T12:18:18.913442Z",
          "shell.execute_reply.started": "2021-09-24T12:18:18.906232Z"
        },
        "id": "xhcMTSArwi_t",
        "colab": {
          "base_uri": "https://localhost:8080/"
        },
        "outputId": "36180acb-6350-4065-dce5-1483ec62a95c"
      },
      "source": [
        "for item in soup.find_all(\"ul\", {\"class\": \"destaques\"}):\n",
        "    print(item.get_text())"
      ],
      "execution_count": 95,
      "outputs": [
        {
          "output_type": "stream",
          "name": "stdout",
          "text": [
            "\n",
            "Coringa\n",
            "1917\n",
            "Era Uma Vez em Hollywood\n",
            "O Irlandês\n",
            "\n"
          ]
        }
      ]
    },
    {
      "cell_type": "code",
      "metadata": {
        "execution": {
          "iopub.execute_input": "2021-09-24T12:18:18.920037Z",
          "iopub.status.busy": "2021-09-24T12:18:18.919758Z",
          "iopub.status.idle": "2021-09-24T12:18:18.927312Z",
          "shell.execute_reply": "2021-09-24T12:18:18.926372Z",
          "shell.execute_reply.started": "2021-09-24T12:18:18.920010Z"
        },
        "id": "TmHYzeVHwi_t",
        "colab": {
          "base_uri": "https://localhost:8080/"
        },
        "outputId": "35108df5-6746-4b77-8e57-b544f30ea8dc"
      },
      "source": [
        "soup.find_all(\"li\", {\"class\": \"vencedor\"})"
      ],
      "execution_count": 96,
      "outputs": [
        {
          "output_type": "execute_result",
          "data": {
            "text/plain": [
              "[<li class=\"vencedor\">Parasita <strong>[VENCEDOR]</strong></li>,\n",
              " <li class=\"vencedor\">Joaquin Phoenix - Coringa <strong>[VENCEDOR]</strong></li>,\n",
              " <li class=\"vencedor\">Renée Zellweger - Judy: Muito Além do Arco-Íris <strong>[VENCEDOR]</strong></li>]"
            ]
          },
          "metadata": {},
          "execution_count": 96
        }
      ]
    },
    {
      "cell_type": "code",
      "metadata": {
        "execution": {
          "iopub.execute_input": "2021-09-24T12:18:18.928966Z",
          "iopub.status.busy": "2021-09-24T12:18:18.928673Z",
          "iopub.status.idle": "2021-09-24T12:18:18.937425Z",
          "shell.execute_reply": "2021-09-24T12:18:18.936426Z",
          "shell.execute_reply.started": "2021-09-24T12:18:18.928939Z"
        },
        "id": "DTyToJ-fwi_u",
        "colab": {
          "base_uri": "https://localhost:8080/"
        },
        "outputId": "239ccd8d-d7b0-41a7-f904-425d519458cb"
      },
      "source": [
        "for item in soup.find_all(\"li\", {\"class\": \"vencedor\"}):\n",
        "    print(item.get_text())"
      ],
      "execution_count": 97,
      "outputs": [
        {
          "output_type": "stream",
          "name": "stdout",
          "text": [
            "Parasita [VENCEDOR]\n",
            "Joaquin Phoenix - Coringa [VENCEDOR]\n",
            "Renée Zellweger - Judy: Muito Além do Arco-Íris [VENCEDOR]\n"
          ]
        }
      ]
    },
    {
      "cell_type": "code",
      "metadata": {
        "execution": {
          "iopub.execute_input": "2021-09-24T12:18:18.939426Z",
          "iopub.status.busy": "2021-09-24T12:18:18.939062Z",
          "iopub.status.idle": "2021-09-24T12:18:18.947040Z",
          "shell.execute_reply": "2021-09-24T12:18:18.945945Z",
          "shell.execute_reply.started": "2021-09-24T12:18:18.939399Z"
        },
        "id": "-8pHW5eEwi_u",
        "colab": {
          "base_uri": "https://localhost:8080/"
        },
        "outputId": "97e9c271-4e96-44c2-a5c1-a4b7d8198e3c"
      },
      "source": [
        "for item in soup.find_all(\"li\", {\"class\": \"vencedor\"}):\n",
        "    print(item.get_text().replace(\" [VENCEDOR]\", \"\"))"
      ],
      "execution_count": 98,
      "outputs": [
        {
          "output_type": "stream",
          "name": "stdout",
          "text": [
            "Parasita\n",
            "Joaquin Phoenix - Coringa\n",
            "Renée Zellweger - Judy: Muito Além do Arco-Íris\n"
          ]
        }
      ]
    },
    {
      "cell_type": "markdown",
      "metadata": {
        "id": "vlA01MNwwi_u"
      },
      "source": [
        "### 3.11) Parents, siblings, next e previous: outra forma de percorrer o HTML\n",
        "\n",
        "* Quando as tags que precisamos pesquisar não apresentam atributos que as diferencie (como as classes, por exemplo), podemos percorrer o HTML de outras formas.\n",
        "\n",
        "\n"
      ]
    },
    {
      "cell_type": "markdown",
      "metadata": {
        "id": "R2r_cRfEBRcO"
      },
      "source": [
        "<img src=\"https://caelum-online-public.s3.amazonaws.com/1381-scraping/01/BeautifulSoup-method.png\" width=80% align=\"right\">"
      ]
    },
    {
      "cell_type": "markdown",
      "metadata": {
        "id": "09WsH93Gwi_u"
      },
      "source": [
        "#### Parents\n",
        "\n",
        "\n",
        "- *findParent(tag, attributes, text, **kwargs)*\n",
        "\n",
        "- *findParents(tag, attributes, text, limit, **kwargsz)*\n",
        "\n",
        "- https://www.crummy.com/software/BeautifulSoup/bs4/doc/#find-parents-and-find-parent\n",
        "\n",
        "> **Observação:**\n",
        "> - *findParent()* e *findParents()* também podem ser utilizados como *find_parent()* e *find_parents()*, respectivamente.\n",
        "---\n"
      ]
    },
    {
      "cell_type": "code",
      "metadata": {
        "execution": {
          "iopub.execute_input": "2021-09-24T12:18:18.948230Z",
          "iopub.status.busy": "2021-09-24T12:18:18.947918Z",
          "iopub.status.idle": "2021-09-24T12:18:18.958863Z",
          "shell.execute_reply": "2021-09-24T12:18:18.957968Z",
          "shell.execute_reply.started": "2021-09-24T12:18:18.948202Z"
        },
        "id": "v5GCMDsgwi_v",
        "colab": {
          "base_uri": "https://localhost:8080/",
          "height": 35
        },
        "outputId": "97f607a9-cc21-47eb-cfef-cbc7ab4dbe43"
      },
      "source": [
        "soup.find(\"li\", {\"class\": \"vencedor\"}).get_text()"
      ],
      "execution_count": 99,
      "outputs": [
        {
          "output_type": "execute_result",
          "data": {
            "application/vnd.google.colaboratory.intrinsic+json": {
              "type": "string"
            },
            "text/plain": [
              "'Parasita [VENCEDOR]'"
            ]
          },
          "metadata": {},
          "execution_count": 99
        }
      ]
    },
    {
      "cell_type": "code",
      "metadata": {
        "execution": {
          "iopub.execute_input": "2021-09-24T12:18:18.960269Z",
          "iopub.status.busy": "2021-09-24T12:18:18.960001Z",
          "iopub.status.idle": "2021-09-24T12:18:18.970204Z",
          "shell.execute_reply": "2021-09-24T12:18:18.969086Z",
          "shell.execute_reply.started": "2021-09-24T12:18:18.960246Z"
        },
        "id": "W_hXdYFWwi_v",
        "colab": {
          "base_uri": "https://localhost:8080/"
        },
        "outputId": "4e01e51b-f077-48cc-ed81-51f70b054314"
      },
      "source": [
        "soup.find(\"li\", {\"class\": \"vencedor\"}).find_parent()"
      ],
      "execution_count": 100,
      "outputs": [
        {
          "output_type": "execute_result",
          "data": {
            "text/plain": [
              "<ul>\n",
              "<li>Ford vs Ferrari</li>\n",
              "<li>O Irlandês</li>\n",
              "<li>JoJo Rabbit</li>\n",
              "<li>Coringa</li>\n",
              "<li>Adoráveis Mulheres</li>\n",
              "<li>História de um Casamento</li>\n",
              "<li>1917</li>\n",
              "<li>Era Uma Vez Em Hollywood</li>\n",
              "<li class=\"vencedor\">Parasita <strong>[VENCEDOR]</strong></li>\n",
              "</ul>"
            ]
          },
          "metadata": {},
          "execution_count": 100
        }
      ]
    },
    {
      "cell_type": "code",
      "metadata": {
        "execution": {
          "iopub.execute_input": "2021-09-24T12:18:18.971848Z",
          "iopub.status.busy": "2021-09-24T12:18:18.971461Z",
          "iopub.status.idle": "2021-09-24T12:18:18.981826Z",
          "shell.execute_reply": "2021-09-24T12:18:18.981076Z",
          "shell.execute_reply.started": "2021-09-24T12:18:18.971822Z"
        },
        "id": "dkGXeVy1wi_v",
        "colab": {
          "base_uri": "https://localhost:8080/"
        },
        "outputId": "662af759-c6b9-486d-bcc8-4f860bbde808"
      },
      "source": [
        "soup.find(\"li\", {\"class\": \"vencedor\"}).find_parent('div')"
      ],
      "execution_count": 101,
      "outputs": [
        {
          "output_type": "execute_result",
          "data": {
            "text/plain": [
              "<div class=\"categoria-melhor-filme\">\n",
              "<h2>Categoria: melhor filme</h2>\n",
              "<ul>\n",
              "<li>Ford vs Ferrari</li>\n",
              "<li>O Irlandês</li>\n",
              "<li>JoJo Rabbit</li>\n",
              "<li>Coringa</li>\n",
              "<li>Adoráveis Mulheres</li>\n",
              "<li>História de um Casamento</li>\n",
              "<li>1917</li>\n",
              "<li>Era Uma Vez Em Hollywood</li>\n",
              "<li class=\"vencedor\">Parasita <strong>[VENCEDOR]</strong></li>\n",
              "</ul>\n",
              "</div>"
            ]
          },
          "metadata": {},
          "execution_count": 101
        }
      ]
    },
    {
      "cell_type": "code",
      "metadata": {
        "execution": {
          "iopub.execute_input": "2021-09-24T12:18:18.983415Z",
          "iopub.status.busy": "2021-09-24T12:18:18.982965Z",
          "iopub.status.idle": "2021-09-24T12:18:18.992425Z",
          "shell.execute_reply": "2021-09-24T12:18:18.991720Z",
          "shell.execute_reply.started": "2021-09-24T12:18:18.983364Z"
        },
        "id": "0SPR8nBKwi_v",
        "colab": {
          "base_uri": "https://localhost:8080/",
          "height": 35
        },
        "outputId": "6fe12f6b-5363-40d6-988c-5f2d76365611"
      },
      "source": [
        "soup.find(\"li\", {\"class\": \"vencedor\"}).find_parent('div').find('h2').get_text()"
      ],
      "execution_count": 102,
      "outputs": [
        {
          "output_type": "execute_result",
          "data": {
            "application/vnd.google.colaboratory.intrinsic+json": {
              "type": "string"
            },
            "text/plain": [
              "'Categoria: melhor filme'"
            ]
          },
          "metadata": {},
          "execution_count": 102
        }
      ]
    },
    {
      "cell_type": "markdown",
      "metadata": {
        "id": "N8jeG-nEwi_v"
      },
      "source": [
        "#### Siblings\n",
        "\n",
        "- *findNextSibling(tag, attributes, text, **kwargs)*\n",
        "\n",
        "- *findNextSiblings(tag, attributes, text, limit, **kwargs)*\n",
        "\n",
        "- *findPreviousSibling(tag, attributes, text, **kwargs)*\n",
        "\n",
        "- *findPreviousSiblings(tag, attributes, text, limit, **kwargs)*\n",
        "\n",
        "- https://www.crummy.com/software/BeautifulSoup/bs4/doc/#find-next-siblings-and-find-next-sibling\n",
        "- https://www.crummy.com/software/BeautifulSoup/bs4/doc/#find-previous-siblings-and-find-previous-sibling\n",
        "\n",
        "> **Observação:**\n",
        "> - *findNextSibling()*, *findNextSiblings()*, *findPreviousSibling()* e *findPreviousSiblings()* também podem ser utilizados como *find_next_sibling()*, *find_next_siblings()*, *find_previous_sibling()* e *find_previous_siblings()*, respectivamente.\n",
        "---\n"
      ]
    },
    {
      "cell_type": "code",
      "metadata": {
        "execution": {
          "iopub.execute_input": "2021-09-24T12:18:18.993968Z",
          "iopub.status.busy": "2021-09-24T12:18:18.993579Z",
          "iopub.status.idle": "2021-09-24T12:18:19.002998Z",
          "shell.execute_reply": "2021-09-24T12:18:19.002268Z",
          "shell.execute_reply.started": "2021-09-24T12:18:18.993941Z"
        },
        "id": "doggvrB5wi_w",
        "colab": {
          "base_uri": "https://localhost:8080/",
          "height": 35
        },
        "outputId": "40e9fec0-81a3-405a-a235-86a1804eb466"
      },
      "source": [
        "soup.find('h2').get_text()"
      ],
      "execution_count": 103,
      "outputs": [
        {
          "output_type": "execute_result",
          "data": {
            "application/vnd.google.colaboratory.intrinsic+json": {
              "type": "string"
            },
            "text/plain": [
              "'Categoria: melhor filme'"
            ]
          },
          "metadata": {},
          "execution_count": 103
        }
      ]
    },
    {
      "cell_type": "code",
      "metadata": {
        "execution": {
          "iopub.execute_input": "2021-09-24T12:18:19.004898Z",
          "iopub.status.busy": "2021-09-24T12:18:19.004300Z",
          "iopub.status.idle": "2021-09-24T12:18:19.017031Z",
          "shell.execute_reply": "2021-09-24T12:18:19.016039Z",
          "shell.execute_reply.started": "2021-09-24T12:18:19.004858Z"
        },
        "id": "-_PVBm1bwi_w",
        "colab": {
          "base_uri": "https://localhost:8080/"
        },
        "outputId": "31755f38-3b18-4ee3-8d3f-5adb4dc3e447"
      },
      "source": [
        "soup.find('h2').find_next_sibling()"
      ],
      "execution_count": 104,
      "outputs": [
        {
          "output_type": "execute_result",
          "data": {
            "text/plain": [
              "<ul>\n",
              "<li>Ford vs Ferrari</li>\n",
              "<li>O Irlandês</li>\n",
              "<li>JoJo Rabbit</li>\n",
              "<li>Coringa</li>\n",
              "<li>Adoráveis Mulheres</li>\n",
              "<li>História de um Casamento</li>\n",
              "<li>1917</li>\n",
              "<li>Era Uma Vez Em Hollywood</li>\n",
              "<li class=\"vencedor\">Parasita <strong>[VENCEDOR]</strong></li>\n",
              "</ul>"
            ]
          },
          "metadata": {},
          "execution_count": 104
        }
      ]
    },
    {
      "cell_type": "code",
      "metadata": {
        "execution": {
          "iopub.execute_input": "2021-09-24T12:18:19.019116Z",
          "iopub.status.busy": "2021-09-24T12:18:19.018410Z",
          "iopub.status.idle": "2021-09-24T12:18:19.027769Z",
          "shell.execute_reply": "2021-09-24T12:18:19.026925Z",
          "shell.execute_reply.started": "2021-09-24T12:18:19.019075Z"
        },
        "id": "McXLJghxwi_w",
        "colab": {
          "base_uri": "https://localhost:8080/"
        },
        "outputId": "bfc7a78a-981e-4924-f634-9aebf1799a8a"
      },
      "source": [
        "soup.find('div', {'class': 'categoria-melhor-filme'}).find_next_siblings()"
      ],
      "execution_count": 105,
      "outputs": [
        {
          "output_type": "execute_result",
          "data": {
            "text/plain": [
              "[<br/>, <div class=\"categoria-melhor-ator\">\n",
              " <h2>Categoria: melhor ator</h2>\n",
              " <ul>\n",
              " <li>Antonio Banderas - Dor e Glória</li>\n",
              " <li>Leonardo DiCaprio - Era Uma Vez Em... Hollywood</li>\n",
              " <li>Adam Driver - História de um Casamento</li>\n",
              " <li class=\"vencedor\">Joaquin Phoenix - Coringa <strong>[VENCEDOR]</strong></li>\n",
              " <li>Jonathan Price - Dois Papas</li>\n",
              " </ul>\n",
              " </div>, <br/>, <div class=\"categoria-melhor-atriz\">\n",
              " <h2>Categoria: melhor atriz</h2>\n",
              " <ul>\n",
              " <li>Cythia Erivo - Harriet</li>\n",
              " <li>Scarlett Johansson - História de um Casamento</li>\n",
              " <li>Saoirse Ronan - Adoráveis Mulheres</li>\n",
              " <li>Charlize Theron - O Escândalo</li>\n",
              " <li class=\"vencedor\">Renée Zellweger - Judy: Muito Além do Arco-Íris <strong>[VENCEDOR]</strong></li>\n",
              " </ul>\n",
              " </div>]"
            ]
          },
          "metadata": {},
          "execution_count": 105
        }
      ]
    },
    {
      "cell_type": "code",
      "metadata": {
        "execution": {
          "iopub.execute_input": "2021-09-24T12:18:19.029816Z",
          "iopub.status.busy": "2021-09-24T12:18:19.029156Z",
          "iopub.status.idle": "2021-09-24T12:18:19.040213Z",
          "shell.execute_reply": "2021-09-24T12:18:19.039282Z",
          "shell.execute_reply.started": "2021-09-24T12:18:19.029771Z"
        },
        "id": "YEhfiFRZwi_w",
        "colab": {
          "base_uri": "https://localhost:8080/",
          "height": 35
        },
        "outputId": "a5a8d5d6-074b-4775-eef5-fe05c87fbd5f"
      },
      "source": [
        "soup.find('li', {'class': 'vencedor'}).find_previous_sibling().get_text()"
      ],
      "execution_count": 106,
      "outputs": [
        {
          "output_type": "execute_result",
          "data": {
            "application/vnd.google.colaboratory.intrinsic+json": {
              "type": "string"
            },
            "text/plain": [
              "'Era Uma Vez Em Hollywood'"
            ]
          },
          "metadata": {},
          "execution_count": 106
        }
      ]
    },
    {
      "cell_type": "code",
      "metadata": {
        "execution": {
          "iopub.execute_input": "2021-09-24T12:18:19.042245Z",
          "iopub.status.busy": "2021-09-24T12:18:19.041588Z",
          "iopub.status.idle": "2021-09-24T12:18:19.053026Z",
          "shell.execute_reply": "2021-09-24T12:18:19.051951Z",
          "shell.execute_reply.started": "2021-09-24T12:18:19.042205Z"
        },
        "id": "nie2fcxUwi_x",
        "colab": {
          "base_uri": "https://localhost:8080/"
        },
        "outputId": "c3eb517d-dff0-4168-89fc-7b0ff5016f25"
      },
      "source": [
        "soup.find('div', {'class': 'categoria-melhor-atriz'}).find_previous_siblings()"
      ],
      "execution_count": 107,
      "outputs": [
        {
          "output_type": "execute_result",
          "data": {
            "text/plain": [
              "[<br/>, <div class=\"categoria-melhor-ator\">\n",
              " <h2>Categoria: melhor ator</h2>\n",
              " <ul>\n",
              " <li>Antonio Banderas - Dor e Glória</li>\n",
              " <li>Leonardo DiCaprio - Era Uma Vez Em... Hollywood</li>\n",
              " <li>Adam Driver - História de um Casamento</li>\n",
              " <li class=\"vencedor\">Joaquin Phoenix - Coringa <strong>[VENCEDOR]</strong></li>\n",
              " <li>Jonathan Price - Dois Papas</li>\n",
              " </ul>\n",
              " </div>, <br/>, <div class=\"categoria-melhor-filme\">\n",
              " <h2>Categoria: melhor filme</h2>\n",
              " <ul>\n",
              " <li>Ford vs Ferrari</li>\n",
              " <li>O Irlandês</li>\n",
              " <li>JoJo Rabbit</li>\n",
              " <li>Coringa</li>\n",
              " <li>Adoráveis Mulheres</li>\n",
              " <li>História de um Casamento</li>\n",
              " <li>1917</li>\n",
              " <li>Era Uma Vez Em Hollywood</li>\n",
              " <li class=\"vencedor\">Parasita <strong>[VENCEDOR]</strong></li>\n",
              " </ul>\n",
              " </div>]"
            ]
          },
          "metadata": {},
          "execution_count": 107
        }
      ]
    },
    {
      "cell_type": "markdown",
      "metadata": {
        "id": "gw391_4Ywi_x"
      },
      "source": [
        "#### Next e Previous\n",
        "\n",
        "- *findNext(tag, attributes, text, **kwargs)*\n",
        "\n",
        "- *findAllNext(tag, attributes, text, limit, **kwargs)*\n",
        "\n",
        "- *findPrevious(tag, attributes, text, **kwargs)*\n",
        "\n",
        "- *findAllPrevious(tag, attributes, text, limit, **kwargs)*\n",
        "\n",
        "- https://www.crummy.com/software/BeautifulSoup/bs4/doc/#find-all-next-and-find-next\n",
        "- https://www.crummy.com/software/BeautifulSoup/bs4/doc/#find-all-previous-and-find-previous\n",
        "\n",
        "> **Observação:**\n",
        "> - *findNext()*, *findAllNext()*, *findPrevious* e *findAllPrevious* também podem ser utilizados como *find_next()*, *find_all_next()*, *find_previous()* e *find_all_previous()*, respectivamente."
      ]
    },
    {
      "cell_type": "code",
      "metadata": {
        "execution": {
          "iopub.execute_input": "2021-09-24T12:18:19.055061Z",
          "iopub.status.busy": "2021-09-24T12:18:19.054425Z",
          "iopub.status.idle": "2021-09-24T12:18:19.067341Z",
          "shell.execute_reply": "2021-09-24T12:18:19.066248Z",
          "shell.execute_reply.started": "2021-09-24T12:18:19.055021Z"
        },
        "id": "5RwvRvj9wi_x",
        "colab": {
          "base_uri": "https://localhost:8080/",
          "height": 35
        },
        "outputId": "b8397fca-55f4-4c80-dcc6-a46d3a8aa7ba"
      },
      "source": [
        "soup.find('div', {'class': 'categoria-melhor-ator'}).find('li', {'class': 'vencedor'}).get_text()"
      ],
      "execution_count": 108,
      "outputs": [
        {
          "output_type": "execute_result",
          "data": {
            "application/vnd.google.colaboratory.intrinsic+json": {
              "type": "string"
            },
            "text/plain": [
              "'Joaquin Phoenix - Coringa [VENCEDOR]'"
            ]
          },
          "metadata": {},
          "execution_count": 108
        }
      ]
    },
    {
      "cell_type": "code",
      "metadata": {
        "execution": {
          "iopub.execute_input": "2021-09-24T12:18:19.069419Z",
          "iopub.status.busy": "2021-09-24T12:18:19.068785Z",
          "iopub.status.idle": "2021-09-24T12:18:19.079001Z",
          "shell.execute_reply": "2021-09-24T12:18:19.077776Z",
          "shell.execute_reply.started": "2021-09-24T12:18:19.069362Z"
        },
        "id": "ukz1anbqwi_x",
        "colab": {
          "base_uri": "https://localhost:8080/",
          "height": 35
        },
        "outputId": "498841c3-f7e5-4921-80a0-1873c7386e62"
      },
      "source": [
        "soup.find('div', {'class': 'categoria-melhor-ator'}).find('li', {'class': 'vencedor'}).find_next('li').get_text()"
      ],
      "execution_count": 109,
      "outputs": [
        {
          "output_type": "execute_result",
          "data": {
            "application/vnd.google.colaboratory.intrinsic+json": {
              "type": "string"
            },
            "text/plain": [
              "'Jonathan Price - Dois Papas'"
            ]
          },
          "metadata": {},
          "execution_count": 109
        }
      ]
    },
    {
      "cell_type": "code",
      "metadata": {
        "execution": {
          "iopub.execute_input": "2021-09-24T12:18:19.080839Z",
          "iopub.status.busy": "2021-09-24T12:18:19.080250Z",
          "iopub.status.idle": "2021-09-24T12:18:19.092423Z",
          "shell.execute_reply": "2021-09-24T12:18:19.091404Z",
          "shell.execute_reply.started": "2021-09-24T12:18:19.080810Z"
        },
        "id": "Ojy4ujF_wi_y",
        "colab": {
          "base_uri": "https://localhost:8080/",
          "height": 35
        },
        "outputId": "66932eef-e4df-4a7a-9133-a0e753ba2768"
      },
      "source": [
        "soup.find('div', {'class': 'categoria-melhor-ator'}).find('li', {'class': 'vencedor'}).find_previous('li').get_text()"
      ],
      "execution_count": 110,
      "outputs": [
        {
          "output_type": "execute_result",
          "data": {
            "application/vnd.google.colaboratory.intrinsic+json": {
              "type": "string"
            },
            "text/plain": [
              "'Adam Driver - História de um Casamento'"
            ]
          },
          "metadata": {},
          "execution_count": 110
        }
      ]
    },
    {
      "cell_type": "code",
      "metadata": {
        "execution": {
          "iopub.execute_input": "2021-09-24T12:18:19.094457Z",
          "iopub.status.busy": "2021-09-24T12:18:19.093904Z",
          "iopub.status.idle": "2021-09-24T12:18:19.103967Z",
          "shell.execute_reply": "2021-09-24T12:18:19.102748Z",
          "shell.execute_reply.started": "2021-09-24T12:18:19.094416Z"
        },
        "id": "KcjLXrTtwi_y",
        "colab": {
          "base_uri": "https://localhost:8080/"
        },
        "outputId": "b21c9d70-394f-4130-a862-7957849fce16"
      },
      "source": [
        "soup.find('div', {'class': 'categoria-melhor-ator'}).find('li', {'class': 'vencedor'}).find_all_next('li')"
      ],
      "execution_count": 111,
      "outputs": [
        {
          "output_type": "execute_result",
          "data": {
            "text/plain": [
              "[<li>Jonathan Price - Dois Papas</li>,\n",
              " <li>Cythia Erivo - Harriet</li>,\n",
              " <li>Scarlett Johansson - História de um Casamento</li>,\n",
              " <li>Saoirse Ronan - Adoráveis Mulheres</li>,\n",
              " <li>Charlize Theron - O Escândalo</li>,\n",
              " <li class=\"vencedor\">Renée Zellweger - Judy: Muito Além do Arco-Íris <strong>[VENCEDOR]</strong></li>]"
            ]
          },
          "metadata": {},
          "execution_count": 111
        }
      ]
    },
    {
      "cell_type": "code",
      "metadata": {
        "execution": {
          "iopub.execute_input": "2021-09-24T12:18:19.105460Z",
          "iopub.status.busy": "2021-09-24T12:18:19.105082Z",
          "iopub.status.idle": "2021-09-24T12:18:19.124212Z",
          "shell.execute_reply": "2021-09-24T12:18:19.123328Z",
          "shell.execute_reply.started": "2021-09-24T12:18:19.105433Z"
        },
        "id": "LpBbcfjCwi_y",
        "colab": {
          "base_uri": "https://localhost:8080/"
        },
        "outputId": "8cc175e2-729d-436c-f67c-99da0eb995dc"
      },
      "source": [
        "soup.find('div', {'class': 'categoria-melhor-ator'}).find('li', {'class': 'vencedor'}).find_all_previous('li')"
      ],
      "execution_count": 112,
      "outputs": [
        {
          "output_type": "execute_result",
          "data": {
            "text/plain": [
              "[<li>Adam Driver - História de um Casamento</li>,\n",
              " <li>Leonardo DiCaprio - Era Uma Vez Em... Hollywood</li>,\n",
              " <li>Antonio Banderas - Dor e Glória</li>,\n",
              " <li class=\"vencedor\">Parasita <strong>[VENCEDOR]</strong></li>,\n",
              " <li>Era Uma Vez Em Hollywood</li>,\n",
              " <li>1917</li>,\n",
              " <li>História de um Casamento</li>,\n",
              " <li>Adoráveis Mulheres</li>,\n",
              " <li>Coringa</li>,\n",
              " <li>JoJo Rabbit</li>,\n",
              " <li>O Irlandês</li>,\n",
              " <li>Ford vs Ferrari</li>,\n",
              " <li>O Irlandês</li>,\n",
              " <li>Era Uma Vez em Hollywood</li>,\n",
              " <li>1917</li>,\n",
              " <li>Coringa</li>]"
            ]
          },
          "metadata": {},
          "execution_count": 112
        }
      ]
    },
    {
      "cell_type": "markdown",
      "metadata": {
        "id": "9J_yPHU8wi_y"
      },
      "source": [
        "### Mini-desafio 2: colete todos os filmes que não tenham vencido suas categorias"
      ]
    },
    {
      "cell_type": "code",
      "metadata": {
        "execution": {
          "iopub.execute_input": "2021-09-24T12:18:19.125725Z",
          "iopub.status.busy": "2021-09-24T12:18:19.125314Z",
          "iopub.status.idle": "2021-09-24T12:18:19.136708Z",
          "shell.execute_reply": "2021-09-24T12:18:19.135084Z",
          "shell.execute_reply.started": "2021-09-24T12:18:19.125688Z"
        },
        "id": "DC7sjgVDwi_y",
        "colab": {
          "base_uri": "https://localhost:8080/"
        },
        "outputId": "73847240-a9f2-49d2-fcc5-30047a3156f7"
      },
      "source": [
        "# Insira a sua resposta aqui\n",
        "\n",
        "\n",
        "print(\"filmes que não tenham vencido suas categorias:\")\n",
        "\n",
        "for categoria in soup.find_all(\"h2\", text=re.compile(\"^Categoria\")):\n",
        "    print(\"\\n\" \" \" + categoria.get_text())\n",
        "    for melhor in categoria.find_next_sibling(\"ul\").find_all(\"li\"):\n",
        "        if \"[VENCEDOR]\" not in melhor.get_text():\n",
        "            print(\"  \" + melhor.get_text())"
      ],
      "execution_count": 136,
      "outputs": [
        {
          "output_type": "stream",
          "name": "stdout",
          "text": [
            "filmes que não tenham vencido suas categorias:\n",
            "\n",
            " Categoria: melhor filme\n",
            "  Ford vs Ferrari\n",
            "  O Irlandês\n",
            "  JoJo Rabbit\n",
            "  Coringa\n",
            "  Adoráveis Mulheres\n",
            "  História de um Casamento\n",
            "  1917\n",
            "  Era Uma Vez Em Hollywood\n",
            "\n",
            " Categoria: melhor ator\n",
            "  Antonio Banderas - Dor e Glória\n",
            "  Leonardo DiCaprio - Era Uma Vez Em... Hollywood\n",
            "  Adam Driver - História de um Casamento\n",
            "  Jonathan Price - Dois Papas\n",
            "\n",
            " Categoria: melhor atriz\n",
            "  Cythia Erivo - Harriet\n",
            "  Scarlett Johansson - História de um Casamento\n",
            "  Saoirse Ronan - Adoráveis Mulheres\n",
            "  Charlize Theron - O Escândalo\n"
          ]
        }
      ]
    },
    {
      "cell_type": "markdown",
      "metadata": {
        "id": "LijtnoL8wi_z"
      },
      "source": [
        "## 4) Trabalhando com dicionários e DataFrames"
      ]
    },
    {
      "cell_type": "code",
      "metadata": {
        "execution": {
          "iopub.execute_input": "2021-09-24T12:18:19.138166Z",
          "iopub.status.busy": "2021-09-24T12:18:19.137858Z",
          "iopub.status.idle": "2021-09-24T12:18:19.148221Z",
          "shell.execute_reply": "2021-09-24T12:18:19.147154Z",
          "shell.execute_reply.started": "2021-09-24T12:18:19.138127Z"
        },
        "id": "xJKLbhfWwi_z"
      },
      "source": [
        "import pandas as pd"
      ],
      "execution_count": 114,
      "outputs": []
    },
    {
      "cell_type": "code",
      "metadata": {
        "execution": {
          "iopub.execute_input": "2021-09-24T12:18:19.149992Z",
          "iopub.status.busy": "2021-09-24T12:18:19.149597Z",
          "iopub.status.idle": "2021-09-24T12:18:19.162182Z",
          "shell.execute_reply": "2021-09-24T12:18:19.161321Z",
          "shell.execute_reply.started": "2021-09-24T12:18:19.149950Z"
        },
        "id": "5DlY1DaNwi_z",
        "colab": {
          "base_uri": "https://localhost:8080/"
        },
        "outputId": "ef41715b-2fdf-473a-ef9f-8792b5453452"
      },
      "source": [
        "soup.find_all(\"h2\", text=re.compile(\"^Categoria\"))"
      ],
      "execution_count": 115,
      "outputs": [
        {
          "output_type": "execute_result",
          "data": {
            "text/plain": [
              "[<h2>Categoria: melhor filme</h2>,\n",
              " <h2>Categoria: melhor ator</h2>,\n",
              " <h2>Categoria: melhor atriz</h2>]"
            ]
          },
          "metadata": {},
          "execution_count": 115
        }
      ]
    },
    {
      "cell_type": "code",
      "metadata": {
        "execution": {
          "iopub.execute_input": "2021-09-24T12:18:19.163695Z",
          "iopub.status.busy": "2021-09-24T12:18:19.163227Z",
          "iopub.status.idle": "2021-09-24T12:18:19.172434Z",
          "shell.execute_reply": "2021-09-24T12:18:19.171253Z",
          "shell.execute_reply.started": "2021-09-24T12:18:19.163654Z"
        },
        "id": "dYTXF6vywi_z"
      },
      "source": [
        "categorias = soup.find_all(\"h2\", text=re.compile(\"^Categoria\"))"
      ],
      "execution_count": 116,
      "outputs": []
    },
    {
      "cell_type": "code",
      "metadata": {
        "execution": {
          "iopub.execute_input": "2021-09-24T12:18:19.173818Z",
          "iopub.status.busy": "2021-09-24T12:18:19.173520Z",
          "iopub.status.idle": "2021-09-24T12:18:19.186043Z",
          "shell.execute_reply": "2021-09-24T12:18:19.185249Z",
          "shell.execute_reply.started": "2021-09-24T12:18:19.173791Z"
        },
        "id": "aZEbSErZwi_0",
        "colab": {
          "base_uri": "https://localhost:8080/"
        },
        "outputId": "17ae9abe-bfe9-495e-cf92-dda06622053f"
      },
      "source": [
        "soup.find_all(\"li\", {\"class\": \"vencedor\"})"
      ],
      "execution_count": 117,
      "outputs": [
        {
          "output_type": "execute_result",
          "data": {
            "text/plain": [
              "[<li class=\"vencedor\">Parasita <strong>[VENCEDOR]</strong></li>,\n",
              " <li class=\"vencedor\">Joaquin Phoenix - Coringa <strong>[VENCEDOR]</strong></li>,\n",
              " <li class=\"vencedor\">Renée Zellweger - Judy: Muito Além do Arco-Íris <strong>[VENCEDOR]</strong></li>]"
            ]
          },
          "metadata": {},
          "execution_count": 117
        }
      ]
    },
    {
      "cell_type": "code",
      "metadata": {
        "execution": {
          "iopub.execute_input": "2021-09-24T12:18:19.188029Z",
          "iopub.status.busy": "2021-09-24T12:18:19.187549Z",
          "iopub.status.idle": "2021-09-24T12:18:19.195661Z",
          "shell.execute_reply": "2021-09-24T12:18:19.194582Z",
          "shell.execute_reply.started": "2021-09-24T12:18:19.187990Z"
        },
        "id": "Z4gRSs_jwi_0"
      },
      "source": [
        "vencedores = soup.find_all(\"li\", {\"class\": \"vencedor\"})"
      ],
      "execution_count": 118,
      "outputs": []
    },
    {
      "cell_type": "code",
      "metadata": {
        "execution": {
          "iopub.execute_input": "2021-09-24T12:18:19.197304Z",
          "iopub.status.busy": "2021-09-24T12:18:19.196861Z",
          "iopub.status.idle": "2021-09-24T12:18:19.206198Z",
          "shell.execute_reply": "2021-09-24T12:18:19.205349Z",
          "shell.execute_reply.started": "2021-09-24T12:18:19.197272Z"
        },
        "id": "XfowvIt4wi_0"
      },
      "source": [
        "vencedores_categorias = {}"
      ],
      "execution_count": 119,
      "outputs": []
    },
    {
      "cell_type": "code",
      "metadata": {
        "execution": {
          "iopub.execute_input": "2021-09-24T12:18:19.208461Z",
          "iopub.status.busy": "2021-09-24T12:18:19.207965Z",
          "iopub.status.idle": "2021-09-24T12:18:19.217109Z",
          "shell.execute_reply": "2021-09-24T12:18:19.216170Z",
          "shell.execute_reply.started": "2021-09-24T12:18:19.208419Z"
        },
        "id": "IPN5M154wi_0"
      },
      "source": [
        "for cat, ven in zip(categorias, vencedores):\n",
        "    categoria = cat.get_text().replace(\"Categoria: \", \"\")\n",
        "    vencedor = ven.get_text().replace(\" [VENCEDOR]\", \"\")\n",
        "    \n",
        "    vencedores_categorias.update({categoria: [vencedor]})"
      ],
      "execution_count": 120,
      "outputs": []
    },
    {
      "cell_type": "code",
      "metadata": {
        "execution": {
          "iopub.execute_input": "2021-09-24T12:18:19.218837Z",
          "iopub.status.busy": "2021-09-24T12:18:19.218436Z",
          "iopub.status.idle": "2021-09-24T12:18:19.229568Z",
          "shell.execute_reply": "2021-09-24T12:18:19.228534Z",
          "shell.execute_reply.started": "2021-09-24T12:18:19.218807Z"
        },
        "id": "tAo4VZBrwi_1",
        "colab": {
          "base_uri": "https://localhost:8080/"
        },
        "outputId": "bcf886f8-2e0e-4052-cba7-af5b500f3bb5"
      },
      "source": [
        "vencedores_categorias"
      ],
      "execution_count": 121,
      "outputs": [
        {
          "output_type": "execute_result",
          "data": {
            "text/plain": [
              "{'melhor ator': ['Joaquin Phoenix - Coringa'],\n",
              " 'melhor atriz': ['Renée Zellweger - Judy: Muito Além do Arco-Íris'],\n",
              " 'melhor filme': ['Parasita']}"
            ]
          },
          "metadata": {},
          "execution_count": 121
        }
      ]
    },
    {
      "cell_type": "code",
      "metadata": {
        "execution": {
          "iopub.execute_input": "2021-09-24T12:18:19.231250Z",
          "iopub.status.busy": "2021-09-24T12:18:19.230872Z",
          "iopub.status.idle": "2021-09-24T12:18:19.244342Z",
          "shell.execute_reply": "2021-09-24T12:18:19.243367Z",
          "shell.execute_reply.started": "2021-09-24T12:18:19.231209Z"
        },
        "id": "NhgFGKT0wi_1"
      },
      "source": [
        "vencedores_categorias_df = pd.DataFrame.from_dict(vencedores_categorias, orient=\"index\", columns=[\"Vencedores\"])"
      ],
      "execution_count": 122,
      "outputs": []
    },
    {
      "cell_type": "code",
      "metadata": {
        "execution": {
          "iopub.execute_input": "2021-09-24T12:18:19.246555Z",
          "iopub.status.busy": "2021-09-24T12:18:19.245956Z",
          "iopub.status.idle": "2021-09-24T12:18:19.261790Z",
          "shell.execute_reply": "2021-09-24T12:18:19.260863Z",
          "shell.execute_reply.started": "2021-09-24T12:18:19.246513Z"
        },
        "id": "rbp7KJv3wi_1",
        "colab": {
          "base_uri": "https://localhost:8080/",
          "height": 142
        },
        "outputId": "796ddf66-d35f-4a88-92cd-d2fc1a89b0f5"
      },
      "source": [
        "vencedores_categorias_df"
      ],
      "execution_count": 123,
      "outputs": [
        {
          "output_type": "execute_result",
          "data": {
            "text/html": [
              "<div>\n",
              "<style scoped>\n",
              "    .dataframe tbody tr th:only-of-type {\n",
              "        vertical-align: middle;\n",
              "    }\n",
              "\n",
              "    .dataframe tbody tr th {\n",
              "        vertical-align: top;\n",
              "    }\n",
              "\n",
              "    .dataframe thead th {\n",
              "        text-align: right;\n",
              "    }\n",
              "</style>\n",
              "<table border=\"1\" class=\"dataframe\">\n",
              "  <thead>\n",
              "    <tr style=\"text-align: right;\">\n",
              "      <th></th>\n",
              "      <th>Vencedores</th>\n",
              "    </tr>\n",
              "  </thead>\n",
              "  <tbody>\n",
              "    <tr>\n",
              "      <th>melhor filme</th>\n",
              "      <td>Parasita</td>\n",
              "    </tr>\n",
              "    <tr>\n",
              "      <th>melhor ator</th>\n",
              "      <td>Joaquin Phoenix - Coringa</td>\n",
              "    </tr>\n",
              "    <tr>\n",
              "      <th>melhor atriz</th>\n",
              "      <td>Renée Zellweger - Judy: Muito Além do Arco-Íris</td>\n",
              "    </tr>\n",
              "  </tbody>\n",
              "</table>\n",
              "</div>"
            ],
            "text/plain": [
              "                                                   Vencedores\n",
              "melhor filme                                         Parasita\n",
              "melhor ator                         Joaquin Phoenix - Coringa\n",
              "melhor atriz  Renée Zellweger - Judy: Muito Além do Arco-Íris"
            ]
          },
          "metadata": {},
          "execution_count": 123
        }
      ]
    },
    {
      "cell_type": "markdown",
      "metadata": {
        "id": "kDx_kmRSwi_1"
      },
      "source": [
        "## 5) Coletando dados da Web"
      ]
    },
    {
      "cell_type": "code",
      "metadata": {
        "execution": {
          "iopub.execute_input": "2021-09-24T12:18:19.263628Z",
          "iopub.status.busy": "2021-09-24T12:18:19.263270Z",
          "iopub.status.idle": "2021-09-24T12:18:19.267751Z",
          "shell.execute_reply": "2021-09-24T12:18:19.266880Z",
          "shell.execute_reply.started": "2021-09-24T12:18:19.263597Z"
        },
        "id": "lzwyaEC9wi_2"
      },
      "source": [
        "from urllib.request import urlopen"
      ],
      "execution_count": 61,
      "outputs": []
    },
    {
      "cell_type": "code",
      "metadata": {
        "execution": {
          "iopub.execute_input": "2021-09-24T12:20:14.794145Z",
          "iopub.status.busy": "2021-09-24T12:20:14.793814Z",
          "iopub.status.idle": "2021-09-24T12:20:14.797982Z",
          "shell.execute_reply": "2021-09-24T12:20:14.797274Z",
          "shell.execute_reply.started": "2021-09-24T12:20:14.794109Z"
        },
        "id": "8CRnwdV4wi_2"
      },
      "source": [
        "url = 'https://ocean-web-scraping.herokuapp.com/'"
      ],
      "execution_count": 62,
      "outputs": []
    },
    {
      "cell_type": "code",
      "metadata": {
        "execution": {
          "iopub.execute_input": "2021-09-24T12:19:08.058608Z",
          "iopub.status.busy": "2021-09-24T12:19:08.058225Z",
          "iopub.status.idle": "2021-09-24T12:19:28.110248Z",
          "shell.execute_reply": "2021-09-24T12:19:28.107826Z",
          "shell.execute_reply.started": "2021-09-24T12:19:08.058563Z"
        },
        "id": "2LNtUIcywi_2"
      },
      "source": [
        "response = urlopen(url)"
      ],
      "execution_count": 63,
      "outputs": []
    },
    {
      "cell_type": "code",
      "metadata": {
        "execution": {
          "iopub.status.busy": "2021-09-24T12:18:39.373074Z",
          "iopub.status.idle": "2021-09-24T12:18:39.373499Z"
        },
        "id": "bm1sDfMOwi_3"
      },
      "source": [
        "html_ocean_ws = response.read()"
      ],
      "execution_count": 64,
      "outputs": []
    },
    {
      "cell_type": "code",
      "metadata": {
        "execution": {
          "iopub.status.busy": "2021-09-24T12:18:39.374533Z",
          "iopub.status.idle": "2021-09-24T12:18:39.374945Z"
        },
        "id": "1__qw29Ewi_3",
        "colab": {
          "base_uri": "https://localhost:8080/"
        },
        "outputId": "0b3fb933-9e54-45be-ca5c-84d8607d4ee4"
      },
      "source": [
        "html_ocean_ws"
      ],
      "execution_count": 65,
      "outputs": [
        {
          "output_type": "execute_result",
          "data": {
            "text/plain": [
              "b'<!DOCTYPE html>\\n<html lang=\"pt-br\">\\n\\t<head>\\n\\t\\t<meta charset=\"UTF-8\">\\n\\t\\t<meta name=\"viewport\" content=\"width=device-width\">\\n\\n\\t\\t<title>Oceano de Alugu\\xc3\\xa9is</title>\\n\\t\\t\\n\\t\\t<link rel=\"stylesheet\" href=\"reset.css\">\\n\\t\\t<link rel=\"stylesheet\" href=\"style.css\">\\n\\t\\t<link href=\"https://fonts.googleapis.com/css?family=Montserrat&display=swap\" rel=\"stylesheet\">\\n\\t</head>\\n\\n\\t<body>\\n\\t\\t<header>\\n\\t\\t\\t<div>\\n\\t\\t\\t\\t<img src=\"imagens/oceano-logo.png\">\\n\\t\\t\\t\\t<h1>Oceano de Alugu\\xc3\\xa9is</h1>\\n\\t\\t\\t\\t<nav>\\n\\t\\t\\t\\t\\t<ul>\\n\\t\\t\\t\\t\\t\\t<li><a href=\"results&page=1.html\">Resultados</a></li>\\n\\t\\t\\t\\t\\t\\t<li><a href=\"corretoras.html\">Corretoras</a></li>\\n\\t\\t\\t\\t\\t\\t<li><a href=\"sobre.html\">Sobre</a></li>\\n\\t\\t\\t\\t\\t</ul>\\n\\t\\t\\t\\t</nav>\\n\\t\\t\\t</div>\\n\\t\\t</header>\\n\\n\\t\\t<main>\\n\\t\\t\\t<div class=\"ad-card-list\">\\n\\t\\t\\t\\t<p>21 resultados obtidos - P\\xc3\\xa1gina 1</p>\\n\\n\\t\\t\\t\\t<div class=\"ad-card\">\\n\\t\\t\\t\\t\\t<img src=\"imagens/apto-01.jpg\" class=\"apto-img\">\\n\\t\\t\\t\\t\\t\\n\\t\\t\\t\\t\\t<div class=\"ad-card-info\">\\n\\t\\t\\t\\t\\t\\t<h2>Lindo apartamento para alugar</h2>\\n\\n\\t\\t\\t\\t\\t\\t<ul class=\"features\">\\n\\t\\t\\t\\t\\t\\t\\t<li><img src=\"imagens/area.png\"> 100 m\\xc2\\xb2</li>\\n\\t\\t\\t\\t\\t\\t\\t<li><img src=\"imagens/bedrooms.png\"> 3 quarto(s)</li>\\n\\t\\t\\t\\t\\t\\t\\t<li><img src=\"imagens/toilet.png\"> 2 banheiro(s)</li>\\n\\t\\t\\t\\t\\t\\t\\t<li><img src=\"imagens/parking.png\"> 2 vaga(s)</li>\\n\\t\\t\\t\\t\\t\\t</ul>\\n\\n\\t\\t\\t\\t\\t\\t<ul class=\"resources\">\\n\\t\\t\\t\\t\\t\\t\\t<li>Mobiliado</li>\\n\\t\\t\\t\\t\\t\\t\\t<li>Portaria 24h</li>\\n\\t\\t\\t\\t\\t\\t\\t<li>Elevador</li>\\n\\t\\t\\t\\t\\t\\t\\t<li>Piscina</li>\\n\\t\\t\\t\\t\\t\\t\\t<li>Churrasqueira</li>\\n\\t\\t\\t\\t\\t\\t\\t<li>Sal\\xc3\\xa3o de Festas</li>\\n\\t\\t\\t\\t\\t\\t\\t<li>Academia</li>\\n\\t\\t\\t\\t\\t\\t\\t<li>Playground</li>\\n\\t\\t\\t\\t\\t\\t\\t<li>Quadra poliesportiva</li>\\n\\t\\t\\t\\t\\t\\t\\t<li>Sal\\xc3\\xa3o de jogos</li>\\n\\t\\t\\t\\t\\t\\t\\t<li>Aceita animais</li>\\n\\t\\t\\t\\t\\t\\t</ul>\\n\\n\\t\\t\\t\\t\\t\\t<p>Localiza\\xc3\\xa7\\xc3\\xa3o: Oceano Pac\\xc3\\xadfico</p>\\n\\t\\t\\t\\t\\t</div>\\n\\n\\t\\t\\t\\t\\t<div class=\"ad-card-price\">\\n\\t\\t\\t\\t\\t\\t<p>Aluguel: R$ 4.000,00</p>\\n\\t\\t\\t\\t\\t\\t<p>Condom\\xc3\\xadnio: 500,00</p>\\n\\t\\t\\t\\t\\t\\t<p>IPTU: R$ 100,00</p>\\n\\t\\t\\t\\t\\t\\t<p>Corretora: Tubar\\xc3\\xa3o</p>\\n\\t\\t\\t\\t\\t</div>\\n\\t\\t\\t\\t</div>\\n\\n\\t\\t\\t\\t<div class=\"ad-card\">\\n\\t\\t\\t\\t\\t<img src=\"imagens/apto-02.jpg\" class=\"apto-img\">\\n\\t\\t\\t\\t\\t\\n\\t\\t\\t\\t\\t<div class=\"ad-card-info\">\\n\\t\\t\\t\\t\\t\\t<h2>\\xc3\\x93timo lugar para morar</h2>\\n\\n\\t\\t\\t\\t\\t\\t<ul class=\"features\">\\n\\t\\t\\t\\t\\t\\t\\t<li><img src=\"imagens/area.png\"> 60 m\\xc2\\xb2</li>\\n\\t\\t\\t\\t\\t\\t\\t<li><img src=\"imagens/bedrooms.png\"> 2 quarto(s)</li>\\n\\t\\t\\t\\t\\t\\t\\t<li><img src=\"imagens/toilet.png\"> 2 banheiro(s)</li>\\n\\t\\t\\t\\t\\t\\t\\t<li><img src=\"imagens/parking.png\"> 1 vaga(s)</li>\\n\\t\\t\\t\\t\\t\\t</ul>\\n\\n\\t\\t\\t\\t\\t\\t<ul class=\"resources\">\\n\\t\\t\\t\\t\\t\\t\\t<li>Mobiliado</li>\\n\\t\\t\\t\\t\\t\\t\\t<li>Portaria 24h</li>\\n\\t\\t\\t\\t\\t\\t\\t<li>Sal\\xc3\\xa3o de Festas</li>\\n\\t\\t\\t\\t\\t\\t\\t<li>Quadra poliesportiva</li>\\n\\t\\t\\t\\t\\t\\t</ul>\\n\\n\\t\\t\\t\\t\\t\\t<p>Localiza\\xc3\\xa7\\xc3\\xa3o: Oceano \\xc3\\x8dndico</p>\\n\\t\\t\\t\\t\\t</div>\\n\\n\\t\\t\\t\\t\\t<div class=\"ad-card-price\">\\n\\t\\t\\t\\t\\t\\t<p>Aluguel: R$ 2.000,00</p>\\n\\t\\t\\t\\t\\t\\t<p>Condom\\xc3\\xadnio: 200,00</p>\\n\\t\\t\\t\\t\\t\\t<p>IPTU: R$ 50,00</p>\\n\\t\\t\\t\\t\\t\\t<p>Corretora: Carangueijo</p>\\n\\t\\t\\t\\t\\t</div>\\n\\t\\t\\t\\t</div>\\n\\n\\t\\t\\t\\t<div class=\"ad-card\">\\n\\t\\t\\t\\t\\t<img src=\"imagens/apto-03.jpg\" class=\"apto-img\">\\n\\t\\t\\t\\t\\t\\n\\t\\t\\t\\t\\t<div class=\"ad-card-info\">\\n\\t\\t\\t\\t\\t\\t<h2>Bel\\xc3\\xadssimo apartamento mobiliado</h2>\\n\\n\\t\\t\\t\\t\\t\\t<ul class=\"features\">\\n\\t\\t\\t\\t\\t\\t\\t<li><img src=\"imagens/area.png\"> 50 m\\xc2\\xb2</li>\\n\\t\\t\\t\\t\\t\\t\\t<li><img src=\"imagens/bedrooms.png\"> 1 quarto(s)</li>\\n\\t\\t\\t\\t\\t\\t\\t<li><img src=\"imagens/toilet.png\"> 1 banheiro(s)</li>\\n\\t\\t\\t\\t\\t\\t\\t<li><img src=\"imagens/parking.png\"> 1 vaga(s)</li>\\n\\t\\t\\t\\t\\t\\t</ul>\\n\\n\\t\\t\\t\\t\\t\\t<ul class=\"resources\">\\n\\t\\t\\t\\t\\t\\t\\t<li>Mobiliado</li>\\n\\t\\t\\t\\t\\t\\t</ul>\\n\\n\\t\\t\\t\\t\\t\\t<p>Localiza\\xc3\\xa7\\xc3\\xa3o: Mar de Java</p>\\n\\t\\t\\t\\t\\t</div>\\n\\n\\t\\t\\t\\t\\t<div class=\"ad-card-price\">\\n\\t\\t\\t\\t\\t\\t<p>Aluguel: R$ 1.300,00</p>\\n\\t\\t\\t\\t\\t\\t<p>Condom\\xc3\\xadnio: 200,00</p>\\n\\t\\t\\t\\t\\t\\t<p>IPTU: R$ 50,00</p>\\n\\t\\t\\t\\t\\t\\t<p>Corretora: Baleia Azul</p>\\n\\t\\t\\t\\t\\t</div>\\n\\t\\t\\t\\t</div>\\n\\n\\t\\t\\t\\t<div class=\"ad-card\">\\n\\t\\t\\t\\t\\t<img src=\"imagens/apto-04.jpg\" class=\"apto-img\">\\n\\t\\t\\t\\t\\t\\n\\t\\t\\t\\t\\t<div class=\"ad-card-info\">\\n\\t\\t\\t\\t\\t\\t<h2>Um cantinho todo seu</h2>\\n\\n\\t\\t\\t\\t\\t\\t<ul class=\"features\">\\n\\t\\t\\t\\t\\t\\t\\t<li><img src=\"imagens/area.png\"> 60 m\\xc2\\xb2</li>\\n\\t\\t\\t\\t\\t\\t\\t<li><img src=\"imagens/bedrooms.png\"> 2 quarto(s)</li>\\n\\t\\t\\t\\t\\t\\t\\t<li><img src=\"imagens/toilet.png\"> 2 banheiro(s)</li>\\n\\t\\t\\t\\t\\t\\t\\t<li><img src=\"imagens/parking.png\"> 1 vaga(s)</li>\\n\\t\\t\\t\\t\\t\\t</ul>\\n\\n\\t\\t\\t\\t\\t\\t<ul class=\"resources\">\\n\\t\\t\\t\\t\\t\\t\\t<li>Mobiliado</li>\\n\\t\\t\\t\\t\\t\\t\\t<li>Portaria 24h</li>\\n\\t\\t\\t\\t\\t\\t</ul>\\n\\n\\t\\t\\t\\t\\t\\t<p>Localiza\\xc3\\xa7\\xc3\\xa3o: Oceano \\xc3\\x8dndico</p>\\n\\t\\t\\t\\t\\t</div>\\n\\n\\t\\t\\t\\t\\t<div class=\"ad-card-price\">\\n\\t\\t\\t\\t\\t\\t<p>Aluguel: R$ 1.800,00</p>\\n\\t\\t\\t\\t\\t\\t<p>Condom\\xc3\\xadnio: 100,00</p>\\n\\t\\t\\t\\t\\t\\t<p>IPTU: R$ 20,00</p>\\n\\t\\t\\t\\t\\t\\t<p>Corretora: Baleia Azul</p>\\n\\t\\t\\t\\t\\t</div>\\n\\t\\t\\t\\t</div>\\n\\n\\t\\t\\t\\t<div class=\"ad-card\">\\n\\t\\t\\t\\t\\t<img src=\"imagens/apto-05.jpg\" class=\"apto-img\">\\n\\t\\t\\t\\t\\t\\n\\t\\t\\t\\t\\t<div class=\"ad-card-info\">\\n\\t\\t\\t\\t\\t\\t<h2>Alugue j\\xc3\\xa1! \\xc3\\x93tima oportunidade</h2>\\n\\n\\t\\t\\t\\t\\t\\t<ul class=\"features\">\\n\\t\\t\\t\\t\\t\\t\\t<li><img src=\"imagens/area.png\"> 120 m\\xc2\\xb2</li>\\n\\t\\t\\t\\t\\t\\t\\t<li><img src=\"imagens/bedrooms.png\"> 4 quarto(s)</li>\\n\\t\\t\\t\\t\\t\\t\\t<li><img src=\"imagens/toilet.png\"> 3 banheiro(s)</li>\\n\\t\\t\\t\\t\\t\\t\\t<li><img src=\"imagens/parking.png\"> 2 vaga(s)</li>\\n\\t\\t\\t\\t\\t\\t</ul>\\n\\n\\t\\t\\t\\t\\t\\t<ul class=\"resources\">\\n\\t\\t\\t\\t\\t\\t\\t<li>Mobiliado</li>\\n\\t\\t\\t\\t\\t\\t\\t<li>Portaria 24h</li>\\n\\t\\t\\t\\t\\t\\t\\t<li>Elevador</li>\\n\\t\\t\\t\\t\\t\\t\\t<li>Piscina</li>\\n\\t\\t\\t\\t\\t\\t\\t<li>Churrasqueira</li>\\n\\t\\t\\t\\t\\t\\t\\t<li>Sal\\xc3\\xa3o de Festas</li>\\n\\t\\t\\t\\t\\t\\t\\t<li>Academia</li>\\n\\t\\t\\t\\t\\t\\t\\t<li>Playground</li>\\n\\t\\t\\t\\t\\t\\t\\t<li>Quadra poliesportiva</li>\\n\\t\\t\\t\\t\\t\\t\\t<li>Sal\\xc3\\xa3o de jogos</li>\\n\\t\\t\\t\\t\\t\\t\\t<li>Aceita animais</li>\\n\\t\\t\\t\\t\\t\\t</ul>\\n\\n\\t\\t\\t\\t\\t\\t<p>Localiza\\xc3\\xa7\\xc3\\xa3o: Oceano Pac\\xc3\\xadfico</p>\\n\\t\\t\\t\\t\\t</div>\\n\\n\\t\\t\\t\\t\\t<div class=\"ad-card-price\">\\n\\t\\t\\t\\t\\t\\t<p>Aluguel: R$ 3.800,00</p>\\n\\t\\t\\t\\t\\t\\t<p>Condom\\xc3\\xadnio: 500,00</p>\\n\\t\\t\\t\\t\\t\\t<p>IPTU: R$ 200,00</p>\\n\\t\\t\\t\\t\\t\\t<p>Corretora: Tubar\\xc3\\xa3o</p>\\n\\t\\t\\t\\t\\t</div>\\n\\t\\t\\t\\t</div>\\n\\t\\t\\t</div>\\n\\n\\t\\t\\t<div class=\"pagination\">\\n  \\t\\t\\t\\t<a class=\"inactive\" href=\"#\">&laquo;</a>\\n  \\t\\t\\t\\t<a class=\"active\" href=\"#\">1</a>\\n  \\t\\t\\t\\t<a href=\"results&page=2.html\">2</a>\\n  \\t\\t\\t\\t<a href=\"results&page=3.html\">3</a>\\n\\t\\t\\t\\t<a href=\"results&page=2.html\">&raquo;</a>\\n\\t\\t\\t</div>\\n\\t\\t</main>\\n\\n\\t\\t<footer>\\n\\t\\t\\t<img src=\"imagens/oceano-logo-cinza.png\">\\n\\t\\t\\t<p>Site criado para o curso de Web Scraping do Ocean</p>\\n\\t\\t</footer>\\n\\t</body>\\n</html>'"
            ]
          },
          "metadata": {},
          "execution_count": 65
        }
      ]
    },
    {
      "cell_type": "code",
      "metadata": {
        "execution": {
          "iopub.status.busy": "2021-09-24T12:18:39.375926Z",
          "iopub.status.idle": "2021-09-24T12:18:39.376320Z"
        },
        "id": "Er9NJ2Ndwi_3"
      },
      "source": [
        "soup_ocean_ws = BeautifulSoup(html_ocean_ws, 'html.parser')"
      ],
      "execution_count": 66,
      "outputs": []
    },
    {
      "cell_type": "code",
      "metadata": {
        "execution": {
          "iopub.status.busy": "2021-09-24T12:18:39.377442Z",
          "iopub.status.idle": "2021-09-24T12:18:39.377859Z"
        },
        "id": "mwIxTqW0wi_3",
        "colab": {
          "base_uri": "https://localhost:8080/"
        },
        "outputId": "7a0b24d6-a174-4bf3-feb4-b8f567fd8419"
      },
      "source": [
        "soup_ocean_ws"
      ],
      "execution_count": 67,
      "outputs": [
        {
          "output_type": "execute_result",
          "data": {
            "text/plain": [
              "<!DOCTYPE html>\n",
              "\n",
              "<html lang=\"pt-br\">\n",
              "<head>\n",
              "<meta charset=\"utf-8\"/>\n",
              "<meta content=\"width=device-width\" name=\"viewport\"/>\n",
              "<title>Oceano de Aluguéis</title>\n",
              "<link href=\"reset.css\" rel=\"stylesheet\"/>\n",
              "<link href=\"style.css\" rel=\"stylesheet\"/>\n",
              "<link href=\"https://fonts.googleapis.com/css?family=Montserrat&amp;display=swap\" rel=\"stylesheet\"/>\n",
              "</head>\n",
              "<body>\n",
              "<header>\n",
              "<div>\n",
              "<img src=\"imagens/oceano-logo.png\"/>\n",
              "<h1>Oceano de Aluguéis</h1>\n",
              "<nav>\n",
              "<ul>\n",
              "<li><a href=\"results&amp;page=1.html\">Resultados</a></li>\n",
              "<li><a href=\"corretoras.html\">Corretoras</a></li>\n",
              "<li><a href=\"sobre.html\">Sobre</a></li>\n",
              "</ul>\n",
              "</nav>\n",
              "</div>\n",
              "</header>\n",
              "<main>\n",
              "<div class=\"ad-card-list\">\n",
              "<p>21 resultados obtidos - Página 1</p>\n",
              "<div class=\"ad-card\">\n",
              "<img class=\"apto-img\" src=\"imagens/apto-01.jpg\"/>\n",
              "<div class=\"ad-card-info\">\n",
              "<h2>Lindo apartamento para alugar</h2>\n",
              "<ul class=\"features\">\n",
              "<li><img src=\"imagens/area.png\"/> 100 m²</li>\n",
              "<li><img src=\"imagens/bedrooms.png\"/> 3 quarto(s)</li>\n",
              "<li><img src=\"imagens/toilet.png\"/> 2 banheiro(s)</li>\n",
              "<li><img src=\"imagens/parking.png\"/> 2 vaga(s)</li>\n",
              "</ul>\n",
              "<ul class=\"resources\">\n",
              "<li>Mobiliado</li>\n",
              "<li>Portaria 24h</li>\n",
              "<li>Elevador</li>\n",
              "<li>Piscina</li>\n",
              "<li>Churrasqueira</li>\n",
              "<li>Salão de Festas</li>\n",
              "<li>Academia</li>\n",
              "<li>Playground</li>\n",
              "<li>Quadra poliesportiva</li>\n",
              "<li>Salão de jogos</li>\n",
              "<li>Aceita animais</li>\n",
              "</ul>\n",
              "<p>Localização: Oceano Pacífico</p>\n",
              "</div>\n",
              "<div class=\"ad-card-price\">\n",
              "<p>Aluguel: R$ 4.000,00</p>\n",
              "<p>Condomínio: 500,00</p>\n",
              "<p>IPTU: R$ 100,00</p>\n",
              "<p>Corretora: Tubarão</p>\n",
              "</div>\n",
              "</div>\n",
              "<div class=\"ad-card\">\n",
              "<img class=\"apto-img\" src=\"imagens/apto-02.jpg\"/>\n",
              "<div class=\"ad-card-info\">\n",
              "<h2>Ótimo lugar para morar</h2>\n",
              "<ul class=\"features\">\n",
              "<li><img src=\"imagens/area.png\"/> 60 m²</li>\n",
              "<li><img src=\"imagens/bedrooms.png\"/> 2 quarto(s)</li>\n",
              "<li><img src=\"imagens/toilet.png\"/> 2 banheiro(s)</li>\n",
              "<li><img src=\"imagens/parking.png\"/> 1 vaga(s)</li>\n",
              "</ul>\n",
              "<ul class=\"resources\">\n",
              "<li>Mobiliado</li>\n",
              "<li>Portaria 24h</li>\n",
              "<li>Salão de Festas</li>\n",
              "<li>Quadra poliesportiva</li>\n",
              "</ul>\n",
              "<p>Localização: Oceano Índico</p>\n",
              "</div>\n",
              "<div class=\"ad-card-price\">\n",
              "<p>Aluguel: R$ 2.000,00</p>\n",
              "<p>Condomínio: 200,00</p>\n",
              "<p>IPTU: R$ 50,00</p>\n",
              "<p>Corretora: Carangueijo</p>\n",
              "</div>\n",
              "</div>\n",
              "<div class=\"ad-card\">\n",
              "<img class=\"apto-img\" src=\"imagens/apto-03.jpg\"/>\n",
              "<div class=\"ad-card-info\">\n",
              "<h2>Belíssimo apartamento mobiliado</h2>\n",
              "<ul class=\"features\">\n",
              "<li><img src=\"imagens/area.png\"/> 50 m²</li>\n",
              "<li><img src=\"imagens/bedrooms.png\"/> 1 quarto(s)</li>\n",
              "<li><img src=\"imagens/toilet.png\"/> 1 banheiro(s)</li>\n",
              "<li><img src=\"imagens/parking.png\"/> 1 vaga(s)</li>\n",
              "</ul>\n",
              "<ul class=\"resources\">\n",
              "<li>Mobiliado</li>\n",
              "</ul>\n",
              "<p>Localização: Mar de Java</p>\n",
              "</div>\n",
              "<div class=\"ad-card-price\">\n",
              "<p>Aluguel: R$ 1.300,00</p>\n",
              "<p>Condomínio: 200,00</p>\n",
              "<p>IPTU: R$ 50,00</p>\n",
              "<p>Corretora: Baleia Azul</p>\n",
              "</div>\n",
              "</div>\n",
              "<div class=\"ad-card\">\n",
              "<img class=\"apto-img\" src=\"imagens/apto-04.jpg\"/>\n",
              "<div class=\"ad-card-info\">\n",
              "<h2>Um cantinho todo seu</h2>\n",
              "<ul class=\"features\">\n",
              "<li><img src=\"imagens/area.png\"/> 60 m²</li>\n",
              "<li><img src=\"imagens/bedrooms.png\"/> 2 quarto(s)</li>\n",
              "<li><img src=\"imagens/toilet.png\"/> 2 banheiro(s)</li>\n",
              "<li><img src=\"imagens/parking.png\"/> 1 vaga(s)</li>\n",
              "</ul>\n",
              "<ul class=\"resources\">\n",
              "<li>Mobiliado</li>\n",
              "<li>Portaria 24h</li>\n",
              "</ul>\n",
              "<p>Localização: Oceano Índico</p>\n",
              "</div>\n",
              "<div class=\"ad-card-price\">\n",
              "<p>Aluguel: R$ 1.800,00</p>\n",
              "<p>Condomínio: 100,00</p>\n",
              "<p>IPTU: R$ 20,00</p>\n",
              "<p>Corretora: Baleia Azul</p>\n",
              "</div>\n",
              "</div>\n",
              "<div class=\"ad-card\">\n",
              "<img class=\"apto-img\" src=\"imagens/apto-05.jpg\"/>\n",
              "<div class=\"ad-card-info\">\n",
              "<h2>Alugue já! Ótima oportunidade</h2>\n",
              "<ul class=\"features\">\n",
              "<li><img src=\"imagens/area.png\"/> 120 m²</li>\n",
              "<li><img src=\"imagens/bedrooms.png\"/> 4 quarto(s)</li>\n",
              "<li><img src=\"imagens/toilet.png\"/> 3 banheiro(s)</li>\n",
              "<li><img src=\"imagens/parking.png\"/> 2 vaga(s)</li>\n",
              "</ul>\n",
              "<ul class=\"resources\">\n",
              "<li>Mobiliado</li>\n",
              "<li>Portaria 24h</li>\n",
              "<li>Elevador</li>\n",
              "<li>Piscina</li>\n",
              "<li>Churrasqueira</li>\n",
              "<li>Salão de Festas</li>\n",
              "<li>Academia</li>\n",
              "<li>Playground</li>\n",
              "<li>Quadra poliesportiva</li>\n",
              "<li>Salão de jogos</li>\n",
              "<li>Aceita animais</li>\n",
              "</ul>\n",
              "<p>Localização: Oceano Pacífico</p>\n",
              "</div>\n",
              "<div class=\"ad-card-price\">\n",
              "<p>Aluguel: R$ 3.800,00</p>\n",
              "<p>Condomínio: 500,00</p>\n",
              "<p>IPTU: R$ 200,00</p>\n",
              "<p>Corretora: Tubarão</p>\n",
              "</div>\n",
              "</div>\n",
              "</div>\n",
              "<div class=\"pagination\">\n",
              "<a class=\"inactive\" href=\"#\">«</a>\n",
              "<a class=\"active\" href=\"#\">1</a>\n",
              "<a href=\"results&amp;page=2.html\">2</a>\n",
              "<a href=\"results&amp;page=3.html\">3</a>\n",
              "<a href=\"results&amp;page=2.html\">»</a>\n",
              "</div>\n",
              "</main>\n",
              "<footer>\n",
              "<img src=\"imagens/oceano-logo-cinza.png\"/>\n",
              "<p>Site criado para o curso de Web Scraping do Ocean</p>\n",
              "</footer>\n",
              "</body>\n",
              "</html>"
            ]
          },
          "metadata": {},
          "execution_count": 67
        }
      ]
    },
    {
      "cell_type": "code",
      "metadata": {
        "execution": {
          "iopub.status.busy": "2021-09-24T12:18:39.379033Z",
          "iopub.status.idle": "2021-09-24T12:18:39.379447Z"
        },
        "id": "9eqcKf-Gwi_3",
        "colab": {
          "base_uri": "https://localhost:8080/"
        },
        "outputId": "4452cc81-900a-413d-d605-37a9b91a93b3"
      },
      "source": [
        "print(soup_ocean_ws.prettify())"
      ],
      "execution_count": 68,
      "outputs": [
        {
          "output_type": "stream",
          "name": "stdout",
          "text": [
            "<!DOCTYPE html>\n",
            "<html lang=\"pt-br\">\n",
            " <head>\n",
            "  <meta charset=\"utf-8\"/>\n",
            "  <meta content=\"width=device-width\" name=\"viewport\"/>\n",
            "  <title>\n",
            "   Oceano de Aluguéis\n",
            "  </title>\n",
            "  <link href=\"reset.css\" rel=\"stylesheet\"/>\n",
            "  <link href=\"style.css\" rel=\"stylesheet\"/>\n",
            "  <link href=\"https://fonts.googleapis.com/css?family=Montserrat&amp;display=swap\" rel=\"stylesheet\"/>\n",
            " </head>\n",
            " <body>\n",
            "  <header>\n",
            "   <div>\n",
            "    <img src=\"imagens/oceano-logo.png\"/>\n",
            "    <h1>\n",
            "     Oceano de Aluguéis\n",
            "    </h1>\n",
            "    <nav>\n",
            "     <ul>\n",
            "      <li>\n",
            "       <a href=\"results&amp;page=1.html\">\n",
            "        Resultados\n",
            "       </a>\n",
            "      </li>\n",
            "      <li>\n",
            "       <a href=\"corretoras.html\">\n",
            "        Corretoras\n",
            "       </a>\n",
            "      </li>\n",
            "      <li>\n",
            "       <a href=\"sobre.html\">\n",
            "        Sobre\n",
            "       </a>\n",
            "      </li>\n",
            "     </ul>\n",
            "    </nav>\n",
            "   </div>\n",
            "  </header>\n",
            "  <main>\n",
            "   <div class=\"ad-card-list\">\n",
            "    <p>\n",
            "     21 resultados obtidos - Página 1\n",
            "    </p>\n",
            "    <div class=\"ad-card\">\n",
            "     <img class=\"apto-img\" src=\"imagens/apto-01.jpg\"/>\n",
            "     <div class=\"ad-card-info\">\n",
            "      <h2>\n",
            "       Lindo apartamento para alugar\n",
            "      </h2>\n",
            "      <ul class=\"features\">\n",
            "       <li>\n",
            "        <img src=\"imagens/area.png\"/>\n",
            "        100 m²\n",
            "       </li>\n",
            "       <li>\n",
            "        <img src=\"imagens/bedrooms.png\"/>\n",
            "        3 quarto(s)\n",
            "       </li>\n",
            "       <li>\n",
            "        <img src=\"imagens/toilet.png\"/>\n",
            "        2 banheiro(s)\n",
            "       </li>\n",
            "       <li>\n",
            "        <img src=\"imagens/parking.png\"/>\n",
            "        2 vaga(s)\n",
            "       </li>\n",
            "      </ul>\n",
            "      <ul class=\"resources\">\n",
            "       <li>\n",
            "        Mobiliado\n",
            "       </li>\n",
            "       <li>\n",
            "        Portaria 24h\n",
            "       </li>\n",
            "       <li>\n",
            "        Elevador\n",
            "       </li>\n",
            "       <li>\n",
            "        Piscina\n",
            "       </li>\n",
            "       <li>\n",
            "        Churrasqueira\n",
            "       </li>\n",
            "       <li>\n",
            "        Salão de Festas\n",
            "       </li>\n",
            "       <li>\n",
            "        Academia\n",
            "       </li>\n",
            "       <li>\n",
            "        Playground\n",
            "       </li>\n",
            "       <li>\n",
            "        Quadra poliesportiva\n",
            "       </li>\n",
            "       <li>\n",
            "        Salão de jogos\n",
            "       </li>\n",
            "       <li>\n",
            "        Aceita animais\n",
            "       </li>\n",
            "      </ul>\n",
            "      <p>\n",
            "       Localização: Oceano Pacífico\n",
            "      </p>\n",
            "     </div>\n",
            "     <div class=\"ad-card-price\">\n",
            "      <p>\n",
            "       Aluguel: R$ 4.000,00\n",
            "      </p>\n",
            "      <p>\n",
            "       Condomínio: 500,00\n",
            "      </p>\n",
            "      <p>\n",
            "       IPTU: R$ 100,00\n",
            "      </p>\n",
            "      <p>\n",
            "       Corretora: Tubarão\n",
            "      </p>\n",
            "     </div>\n",
            "    </div>\n",
            "    <div class=\"ad-card\">\n",
            "     <img class=\"apto-img\" src=\"imagens/apto-02.jpg\"/>\n",
            "     <div class=\"ad-card-info\">\n",
            "      <h2>\n",
            "       Ótimo lugar para morar\n",
            "      </h2>\n",
            "      <ul class=\"features\">\n",
            "       <li>\n",
            "        <img src=\"imagens/area.png\"/>\n",
            "        60 m²\n",
            "       </li>\n",
            "       <li>\n",
            "        <img src=\"imagens/bedrooms.png\"/>\n",
            "        2 quarto(s)\n",
            "       </li>\n",
            "       <li>\n",
            "        <img src=\"imagens/toilet.png\"/>\n",
            "        2 banheiro(s)\n",
            "       </li>\n",
            "       <li>\n",
            "        <img src=\"imagens/parking.png\"/>\n",
            "        1 vaga(s)\n",
            "       </li>\n",
            "      </ul>\n",
            "      <ul class=\"resources\">\n",
            "       <li>\n",
            "        Mobiliado\n",
            "       </li>\n",
            "       <li>\n",
            "        Portaria 24h\n",
            "       </li>\n",
            "       <li>\n",
            "        Salão de Festas\n",
            "       </li>\n",
            "       <li>\n",
            "        Quadra poliesportiva\n",
            "       </li>\n",
            "      </ul>\n",
            "      <p>\n",
            "       Localização: Oceano Índico\n",
            "      </p>\n",
            "     </div>\n",
            "     <div class=\"ad-card-price\">\n",
            "      <p>\n",
            "       Aluguel: R$ 2.000,00\n",
            "      </p>\n",
            "      <p>\n",
            "       Condomínio: 200,00\n",
            "      </p>\n",
            "      <p>\n",
            "       IPTU: R$ 50,00\n",
            "      </p>\n",
            "      <p>\n",
            "       Corretora: Carangueijo\n",
            "      </p>\n",
            "     </div>\n",
            "    </div>\n",
            "    <div class=\"ad-card\">\n",
            "     <img class=\"apto-img\" src=\"imagens/apto-03.jpg\"/>\n",
            "     <div class=\"ad-card-info\">\n",
            "      <h2>\n",
            "       Belíssimo apartamento mobiliado\n",
            "      </h2>\n",
            "      <ul class=\"features\">\n",
            "       <li>\n",
            "        <img src=\"imagens/area.png\"/>\n",
            "        50 m²\n",
            "       </li>\n",
            "       <li>\n",
            "        <img src=\"imagens/bedrooms.png\"/>\n",
            "        1 quarto(s)\n",
            "       </li>\n",
            "       <li>\n",
            "        <img src=\"imagens/toilet.png\"/>\n",
            "        1 banheiro(s)\n",
            "       </li>\n",
            "       <li>\n",
            "        <img src=\"imagens/parking.png\"/>\n",
            "        1 vaga(s)\n",
            "       </li>\n",
            "      </ul>\n",
            "      <ul class=\"resources\">\n",
            "       <li>\n",
            "        Mobiliado\n",
            "       </li>\n",
            "      </ul>\n",
            "      <p>\n",
            "       Localização: Mar de Java\n",
            "      </p>\n",
            "     </div>\n",
            "     <div class=\"ad-card-price\">\n",
            "      <p>\n",
            "       Aluguel: R$ 1.300,00\n",
            "      </p>\n",
            "      <p>\n",
            "       Condomínio: 200,00\n",
            "      </p>\n",
            "      <p>\n",
            "       IPTU: R$ 50,00\n",
            "      </p>\n",
            "      <p>\n",
            "       Corretora: Baleia Azul\n",
            "      </p>\n",
            "     </div>\n",
            "    </div>\n",
            "    <div class=\"ad-card\">\n",
            "     <img class=\"apto-img\" src=\"imagens/apto-04.jpg\"/>\n",
            "     <div class=\"ad-card-info\">\n",
            "      <h2>\n",
            "       Um cantinho todo seu\n",
            "      </h2>\n",
            "      <ul class=\"features\">\n",
            "       <li>\n",
            "        <img src=\"imagens/area.png\"/>\n",
            "        60 m²\n",
            "       </li>\n",
            "       <li>\n",
            "        <img src=\"imagens/bedrooms.png\"/>\n",
            "        2 quarto(s)\n",
            "       </li>\n",
            "       <li>\n",
            "        <img src=\"imagens/toilet.png\"/>\n",
            "        2 banheiro(s)\n",
            "       </li>\n",
            "       <li>\n",
            "        <img src=\"imagens/parking.png\"/>\n",
            "        1 vaga(s)\n",
            "       </li>\n",
            "      </ul>\n",
            "      <ul class=\"resources\">\n",
            "       <li>\n",
            "        Mobiliado\n",
            "       </li>\n",
            "       <li>\n",
            "        Portaria 24h\n",
            "       </li>\n",
            "      </ul>\n",
            "      <p>\n",
            "       Localização: Oceano Índico\n",
            "      </p>\n",
            "     </div>\n",
            "     <div class=\"ad-card-price\">\n",
            "      <p>\n",
            "       Aluguel: R$ 1.800,00\n",
            "      </p>\n",
            "      <p>\n",
            "       Condomínio: 100,00\n",
            "      </p>\n",
            "      <p>\n",
            "       IPTU: R$ 20,00\n",
            "      </p>\n",
            "      <p>\n",
            "       Corretora: Baleia Azul\n",
            "      </p>\n",
            "     </div>\n",
            "    </div>\n",
            "    <div class=\"ad-card\">\n",
            "     <img class=\"apto-img\" src=\"imagens/apto-05.jpg\"/>\n",
            "     <div class=\"ad-card-info\">\n",
            "      <h2>\n",
            "       Alugue já! Ótima oportunidade\n",
            "      </h2>\n",
            "      <ul class=\"features\">\n",
            "       <li>\n",
            "        <img src=\"imagens/area.png\"/>\n",
            "        120 m²\n",
            "       </li>\n",
            "       <li>\n",
            "        <img src=\"imagens/bedrooms.png\"/>\n",
            "        4 quarto(s)\n",
            "       </li>\n",
            "       <li>\n",
            "        <img src=\"imagens/toilet.png\"/>\n",
            "        3 banheiro(s)\n",
            "       </li>\n",
            "       <li>\n",
            "        <img src=\"imagens/parking.png\"/>\n",
            "        2 vaga(s)\n",
            "       </li>\n",
            "      </ul>\n",
            "      <ul class=\"resources\">\n",
            "       <li>\n",
            "        Mobiliado\n",
            "       </li>\n",
            "       <li>\n",
            "        Portaria 24h\n",
            "       </li>\n",
            "       <li>\n",
            "        Elevador\n",
            "       </li>\n",
            "       <li>\n",
            "        Piscina\n",
            "       </li>\n",
            "       <li>\n",
            "        Churrasqueira\n",
            "       </li>\n",
            "       <li>\n",
            "        Salão de Festas\n",
            "       </li>\n",
            "       <li>\n",
            "        Academia\n",
            "       </li>\n",
            "       <li>\n",
            "        Playground\n",
            "       </li>\n",
            "       <li>\n",
            "        Quadra poliesportiva\n",
            "       </li>\n",
            "       <li>\n",
            "        Salão de jogos\n",
            "       </li>\n",
            "       <li>\n",
            "        Aceita animais\n",
            "       </li>\n",
            "      </ul>\n",
            "      <p>\n",
            "       Localização: Oceano Pacífico\n",
            "      </p>\n",
            "     </div>\n",
            "     <div class=\"ad-card-price\">\n",
            "      <p>\n",
            "       Aluguel: R$ 3.800,00\n",
            "      </p>\n",
            "      <p>\n",
            "       Condomínio: 500,00\n",
            "      </p>\n",
            "      <p>\n",
            "       IPTU: R$ 200,00\n",
            "      </p>\n",
            "      <p>\n",
            "       Corretora: Tubarão\n",
            "      </p>\n",
            "     </div>\n",
            "    </div>\n",
            "   </div>\n",
            "   <div class=\"pagination\">\n",
            "    <a class=\"inactive\" href=\"#\">\n",
            "     «\n",
            "    </a>\n",
            "    <a class=\"active\" href=\"#\">\n",
            "     1\n",
            "    </a>\n",
            "    <a href=\"results&amp;page=2.html\">\n",
            "     2\n",
            "    </a>\n",
            "    <a href=\"results&amp;page=3.html\">\n",
            "     3\n",
            "    </a>\n",
            "    <a href=\"results&amp;page=2.html\">\n",
            "     »\n",
            "    </a>\n",
            "   </div>\n",
            "  </main>\n",
            "  <footer>\n",
            "   <img src=\"imagens/oceano-logo-cinza.png\"/>\n",
            "   <p>\n",
            "    Site criado para o curso de Web Scraping do Ocean\n",
            "   </p>\n",
            "  </footer>\n",
            " </body>\n",
            "</html>\n"
          ]
        }
      ]
    },
    {
      "cell_type": "markdown",
      "metadata": {
        "id": "_liKFq0Dwi_4"
      },
      "source": [
        "### Mini-desafio 3: complete a lista de desafios da página 'Sobre'\n",
        "\n",
        "\n",
        "* https://ocean-web-scraping.herokuapp.com/sobre.html"
      ]
    },
    {
      "cell_type": "code",
      "metadata": {
        "execution": {
          "iopub.status.busy": "2021-09-24T12:18:39.380676Z",
          "iopub.status.idle": "2021-09-24T12:18:39.381079Z"
        },
        "id": "voVEU6gXwi_4",
        "colab": {
          "base_uri": "https://localhost:8080/",
          "height": 35
        },
        "outputId": "9c4b466d-7170-49bd-8891-fcb24a01d523"
      },
      "source": [
        "# Insira as suas respostas à partir daqui, uma em cada célula\n",
        "\n",
        "#1- Que tal coletar o texto \"Sobre este site\" para começar?\n",
        "\n",
        "# Biblioteca para acessar sites:\n",
        "from urllib.request import urlopen\n",
        "\n",
        "#Biblioteca para reconhecer e percorrer as tags em html:\n",
        "from bs4 import BeautifulSoup\n",
        "\n",
        "# definindo a url da página\n",
        "url = 'https://ocean-web-scraping.herokuapp.com/sobre.html'\n",
        "\n",
        "# Lendo o HTML da página\n",
        "url_capture = urlopen(url)\n",
        "\n",
        "# capturando o HTML da página:\n",
        "html_sobre = url_capture.read()\n",
        "\n",
        "# reconhecendo as tags com BeautifulSoup:\n",
        "soup_html_sobre = BeautifulSoup(html_sobre, 'html.parser')\n",
        "\n",
        "#print (soup_html_sobre)\n",
        "\n",
        "# mostrando o texto na div <h2>\n",
        "soup_html_sobre.main.div.h2.get_text()"
      ],
      "execution_count": 160,
      "outputs": [
        {
          "output_type": "execute_result",
          "data": {
            "application/vnd.google.colaboratory.intrinsic+json": {
              "type": "string"
            },
            "text/plain": [
              "'Sobre este site'"
            ]
          },
          "metadata": {},
          "execution_count": 160
        }
      ]
    },
    {
      "cell_type": "code",
      "metadata": {
        "id": "x08y55XlBRcX",
        "colab": {
          "base_uri": "https://localhost:8080/",
          "height": 35
        },
        "outputId": "40a9f437-b9aa-435d-d26a-585a730bb64c"
      },
      "source": [
        "#Agora extraia o link contido na palavra \"Ocean\".\n",
        "\n",
        "#Mostrando conteudo href(link) da tag <a> dentro de <p>:\n",
        "soup_html_sobre.main.div.p.a['href']"
      ],
      "execution_count": 161,
      "outputs": [
        {
          "output_type": "execute_result",
          "data": {
            "application/vnd.google.colaboratory.intrinsic+json": {
              "type": "string"
            },
            "text/plain": [
              "'http://www.oceanbrasil.com/'"
            ]
          },
          "metadata": {},
          "execution_count": 161
        }
      ]
    },
    {
      "cell_type": "code",
      "metadata": {
        "id": "YN3PpDazBRcY",
        "colab": {
          "base_uri": "https://localhost:8080/"
        },
        "outputId": "13d93e1a-86a2-4301-e2b8-456e45b94e5f"
      },
      "source": [
        "#Em seguida, colete todos os itens desta lista.\n",
        "\n",
        "# capturando itens da lista\n",
        "itens = soup_html_sobre.main.div.ol.find_all(\"li\")\n",
        "\n",
        "#itens\n",
        "\n",
        "#for para retornar o conteúdo de cada item da lista\n",
        "for item in itens:\n",
        "    print(item.get_text() + \"\\n\")\n",
        "    "
      ],
      "execution_count": 179,
      "outputs": [
        {
          "output_type": "stream",
          "name": "stdout",
          "text": [
            "Que tal coletar o texto \"Sobre este site\" para começar?\n",
            "\n",
            "Agora extraia o link contido na palavra \"Ocean\".\n",
            "\n",
            "Em seguida, colete todos os itens desta lista.\n",
            "\n",
            "Por fim, colete apenas este último item da lista.\n",
            "\n"
          ]
        }
      ]
    },
    {
      "cell_type": "code",
      "metadata": {
        "id": "gYHsdZbOBRcY",
        "colab": {
          "base_uri": "https://localhost:8080/",
          "height": 35
        },
        "outputId": "580e4fdb-4813-433c-ff34-3dc2e9d7b763"
      },
      "source": [
        "#Por fim, colete apenas este último item da lista\n",
        "\n",
        "# <li> posição [3].\n",
        "\n",
        "ultimo_item = soup_html_sobre.main.div.ol.find_all(\"li\")[3]\n",
        "\n",
        "ultimo_item.get_text()"
      ],
      "execution_count": 290,
      "outputs": [
        {
          "output_type": "execute_result",
          "data": {
            "application/vnd.google.colaboratory.intrinsic+json": {
              "type": "string"
            },
            "text/plain": [
              "'Por fim, colete apenas este último item da lista.'"
            ]
          },
          "metadata": {},
          "execution_count": 290
        }
      ]
    },
    {
      "cell_type": "markdown",
      "metadata": {
        "id": "wYVuT42bgpmG"
      },
      "source": [
        "# Teste Extra: \n",
        "\n",
        "fixação manipulando dados do site da Uniplac(que por sinal é muito lento kkk)\n",
        "\n",
        "\n"
      ]
    },
    {
      "cell_type": "code",
      "metadata": {
        "colab": {
          "base_uri": "https://localhost:8080/",
          "height": 52
        },
        "id": "b_edNLougt6b",
        "outputId": "9bda6ca8-d46f-4f05-ef00-3624bcaa5b19"
      },
      "source": [
        "# Biblioteca para acessar sites:\n",
        "from urllib.request import urlopen\n",
        "\n",
        "#Biblioteca para reconhecer e percorrer as tags em html:\n",
        "from bs4 import BeautifulSoup\n",
        "\n",
        "#Passando URL site da Uniplac\n",
        "url_2 = 'https://www.uniplaclages.edu.br/'\n",
        "\n",
        "#Lendo HTML da pagina\n",
        "url_2_capture = urlopen(url_2)\n",
        "\n",
        "# capturando o HTML da página:\n",
        "html_uniplac = url_2_capture.read()\n",
        "\n",
        "# reconhecendo as tags com BeautifulSoup:\n",
        "soup_html_uniplac = BeautifulSoup(html_uniplac, 'html.parser')\n",
        "\n",
        "#print (soup_html_uniplac)\n",
        "\n",
        "# mostrando o texto e link no primeiro botão do corpo do site \n",
        "print(soup_html_uniplac.body.div.ul.li.a.get_text())\n",
        "soup_html_uniplac.body.div.ul.li.a['href']\n",
        "\n"
      ],
      "execution_count": 291,
      "outputs": [
        {
          "output_type": "stream",
          "name": "stdout",
          "text": [
            "Novo Portal Aluno\n"
          ]
        },
        {
          "output_type": "execute_result",
          "data": {
            "application/vnd.google.colaboratory.intrinsic+json": {
              "type": "string"
            },
            "text/plain": [
              "'https://novoportal.uniplaclages.edu.br/FrameHTML/web/app/edu/portaleducacional/login'"
            ]
          },
          "metadata": {},
          "execution_count": 291
        }
      ]
    },
    {
      "cell_type": "code",
      "metadata": {
        "colab": {
          "base_uri": "https://localhost:8080/"
        },
        "id": "ntV0YJVS092C",
        "outputId": "dbc37c57-3371-4d79-9e25-b150f7d58dce"
      },
      "source": [
        "#Exibir todas as tags <h1>\n",
        "\n",
        "titulos = soup_html_uniplac.find_all([\"h1\"])\n",
        "\n",
        "for titulo in titulos:\n",
        "  print(titulo.get_text())"
      ],
      "execution_count": 289,
      "outputs": [
        {
          "output_type": "stream",
          "name": "stdout",
          "text": [
            "ENSINO SUPERIOR -  GRADUAÇÃO - LAGES - SC\n",
            "MESTRADOS\n",
            "MBAs e Especializações \n",
            "Cursos de Extensão\n",
            "Serviços\n",
            "Programas e Projetos\n",
            "Publicações\n"
          ]
        }
      ]
    },
    {
      "cell_type": "code",
      "metadata": {
        "colab": {
          "base_uri": "https://localhost:8080/"
        },
        "id": "xr7K2w6subIb",
        "outputId": "7d2187cb-cc92-4f04-d454-5d9048d8eb47"
      },
      "source": [
        "#Exibir texto de todas as listas \n",
        "\n",
        "listas = soup_html_uniplac.find_all([\"li\"])\n",
        "\n",
        "for lista in listas:\n",
        "    print(lista.get_text())\n",
        "\n",
        "\n",
        "\n"
      ],
      "execution_count": 297,
      "outputs": [
        {
          "output_type": "stream",
          "name": "stdout",
          "text": [
            "Novo Portal Aluno\n",
            "Portal Professor/Funcionário\n",
            "  Biblioteca\n",
            " E-mail Institucional\n",
            "\n",
            " Intranet\n",
            "\n",
            "Memorando Eletrônico\n",
            "Painel Uniplac\n",
            "\n",
            "\n",
            "\n",
            "Memorando Eletrônico\n",
            "Painel Uniplac\n",
            "\n",
            "Institucional\n",
            "\n",
            "\n",
            "A Uniplac \n",
            "\n",
            " Missão, Visão e Valores\n",
            " Identificação\n",
            " Localização\n",
            " Histórico Uniplac\n",
            "\n",
            "\n",
            "\n",
            "Documentos Institucionais \n",
            "\n",
            "Regimento CONSAD\n",
            "Regimento Conselho Fiscal\n",
            "Plano de Cargos e Salários\n",
            "Regimento Uniplac\n",
            "Estatuto UNIPLAC - 2ª Alteração\n",
            " Contrato Acadêmico \n",
            "Demonstrativos Contábeis\n",
            "\n",
            "\n",
            "Fundação Uniplac \n",
            "Reitoria\n",
            "PDI - 2019/2023\n",
            "Responsabilidade Social\n",
            "Identidade Visual\n",
            "Relações Internacionais\n",
            "\n",
            "\n",
            "\n",
            "A Uniplac \n",
            "\n",
            " Missão, Visão e Valores\n",
            " Identificação\n",
            " Localização\n",
            " Histórico Uniplac\n",
            "\n",
            "\n",
            " Missão, Visão e Valores\n",
            " Identificação\n",
            " Localização\n",
            " Histórico Uniplac\n",
            "\n",
            "Documentos Institucionais \n",
            "\n",
            "Regimento CONSAD\n",
            "Regimento Conselho Fiscal\n",
            "Plano de Cargos e Salários\n",
            "Regimento Uniplac\n",
            "Estatuto UNIPLAC - 2ª Alteração\n",
            " Contrato Acadêmico \n",
            "Demonstrativos Contábeis\n",
            "\n",
            "\n",
            "Regimento CONSAD\n",
            "Regimento Conselho Fiscal\n",
            "Plano de Cargos e Salários\n",
            "Regimento Uniplac\n",
            "Estatuto UNIPLAC - 2ª Alteração\n",
            " Contrato Acadêmico \n",
            "Demonstrativos Contábeis\n",
            "Fundação Uniplac \n",
            "Reitoria\n",
            "PDI - 2019/2023\n",
            "Responsabilidade Social\n",
            "Identidade Visual\n",
            "Relações Internacionais\n",
            "\n",
            "Pesquisa\n",
            "\n",
            "\n",
            "Extensão\n",
            "\n",
            "\n",
            "Validação de Certificados\n",
            "\n",
            "\n",
            "Inscrições Abertas\n",
            "\n",
            "\n",
            "\n",
            "\n",
            "Validação de Certificados\n",
            "\n",
            "\n",
            "Inscrições Abertas\n",
            "\n",
            "\n",
            "Avaliação Institucional\n",
            "\n",
            "\n",
            "Bolsas\n",
            "\n",
            "\n",
            "Portal do Egresso\n",
            "\n",
            "\n",
            "Contato\n",
            "\n",
            "\n",
            "\n",
            " Uniplac In English \n",
            "\n",
            "\n",
            "\n",
            "\n",
            "\n",
            "\n",
            "\n",
            "\n",
            "\n",
            "\n",
            "\n",
            "\n",
            "\n",
            "Graduação\n",
            "MBAs e Especializações\n",
            "Mestrados\n",
            "Cursos de Extensão\n",
            "Educação a distância\n",
            "Como Ingressar\n",
            "Internacionalização\n",
            "Cursos de Extensão\n",
            "Certificados Online\n",
            "Acessibilidade\n",
            "Biblioteca\n",
            "Calendário Acadêmico\n",
            "Manual Acadêmico\n",
            "Canal Direto\n",
            "Comitê de Ética em Pesquisa\n",
            "CCET\n",
            "CCS\n",
            "CER II\n",
            "CIPA\n",
            "DCE\n",
            "Microsoft Imagine\n",
            "EMAJ\n",
            "Ficha Financeira\n",
            "Laboratórios\n",
            "Ouvidoria\n",
            "Telefones Setores\n",
            "Oportunidades de Estágio\n",
            "Portal de Revistas\n",
            "Sala de Imprensa\n",
            "Trabalhe Conosco\n",
            "ITCP\n",
            "PIBID\n",
            "Residência Pedagógica\n",
            "PROESDE\n",
            "Programa Novos Valores\n",
            "PAAP\n",
            "Projeto Óleo\n",
            "Atos Normativos\n",
            "Editais\n",
            "Portarias\n",
            "Releases\n",
            "Resoluções\n"
          ]
        }
      ]
    },
    {
      "cell_type": "code",
      "metadata": {
        "id": "whXk2loI00c9"
      },
      "source": [
        ""
      ],
      "execution_count": null,
      "outputs": []
    }
  ]
}